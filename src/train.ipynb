{
 "cells": [
  {
   "cell_type": "markdown",
   "metadata": {},
   "source": [
    "## References\n",
    "\n",
    "see README.md"
   ]
  },
  {
   "cell_type": "markdown",
   "metadata": {},
   "source": [
    "## Baseline with generator_choice = \"GSQL\"\n",
    "200 interation got to 10.xxx something"
   ]
  },
  {
   "cell_type": "markdown",
   "metadata": {},
   "source": [
    "## Basedline with generator_choice =  \"German\" on July 31, 2019\n",
    "- Epoch 1/200  - loss: 22.5422 - val_loss: 44.3061\n",
    "- Epoch 2/200  - loss: 20.7822 - val_loss: 73.2133\n",
    "- Epoch 3/200  - loss: 20.5434 - val_loss: 20.1864\n",
    "- Epoch 4/200  - loss: 19.6281 - val_loss: 18.1584\n",
    "- Epoch 5/200  - loss: 18.3635 - val_loss: 17.9036\n",
    "- Epoch 6/200  - loss: 17.1934 - val_loss: 16.0855\n",
    "- Epoch 7/200  - loss: 16.2462 - val_loss: 14.7814\n",
    "- Epoch 8/200  - loss: 15.4579 - val_loss: 14.7433\n",
    "- Epoch 9/200  - loss: 14.7134 - val_loss: 13.2510\n",
    "- Epoch 10/200 - loss: 14.1979 - val_loss: 12.8388\n",
    "- Epoch 11/200 - loss: 13.7155 - val_loss: 12.4681\n",
    "- Epoch 12/200 - loss: 13.1744 - val_loss: 12.4697\n",
    "- Epoch 13/200 - loss: 12.8387 - val_loss: 12.2364\n",
    "- Epoch 14/200 - loss: 12.4855 - val_loss: 12.0318\n",
    "- Epoch 15/200 - loss: 12.1907 - val_loss: 11.1764\n",
    "- Epoch 16/200 - loss: 11.7321 - val_loss: 11.1777\n",
    "- Epoch 17/200 - loss: 11.5132 - val_loss: 11.0034\n",
    "- Epoch 18/200 - loss: 11.1854 - val_loss: 11.1696\n",
    "- Epoch 19/200 - loss: 11.0407 - val_loss: 10.7113\n",
    "- Epoch 20/200 - loss: 10.6401 - val_loss: 10.6150\n",
    "- Epoch 21/200 - loss: 10.4692 - val_loss: 10.4183\n",
    "- Epoch 22/200 - loss: 10.2791 - val_loss: 11.1796\n",
    "- Epoch 23/200 - loss: 9.9911 - val_loss: 10.4712\n",
    "- Epoch 24/200 - loss: 9.7312 - val_loss: 10.4887\n",
    "- Epoch 25/200 - loss: 9.4863 - val_loss: 10.3883\n",
    "- Epoch 26/200 - loss: 9.3771 - val_loss: 10.2179\n",
    "- Epoch 27/200 - loss: 9.0670 - val_loss: 10.1179\n",
    "- Epoch 28/200 - loss: 8.7698 - val_loss: 10.2423\n",
    "- Epoch 29/200 - loss: 8.6642 - val_loss: 10.3849\n",
    "- Epoch 30/200 - loss: 8.4662 - val_loss: 10.1517\n",
    "- Epoch 31/200 - loss: 8.2157 - val_loss: 10.0927\n",
    "- Epoch 32/200 - loss: 8.0640 - val_loss: 10.0808\n",
    "- Epoch 33/200 - loss: 7.8819 - val_loss: 10.0854\n",
    "- Epoch 34/200 - loss: 7.8030 - val_loss: 9.7388\n",
    "- Epoch 35/200 - loss: 7.5315 - val_loss: 10.1922\n",
    "- Epoch 36/200 - loss: 7.3847 - val_loss: 10.1470\n",
    "- Epoch 37/200 - loss: 7.3319 - val_loss: 10.0684\n",
    "- Epoch 38/200 - loss: 7.1130 - val_loss: 9.6827\n",
    "- Epoch 39/200 - loss: 7.0022 - val_loss: 10.3757\n",
    "- Epoch 40/200 - loss: 6.9908 - val_loss: 10.1155\n",
    "- Epoch 41/200 - loss: 6.6640 - val_loss: 10.3377\n",
    "- Epoch 42/200 - loss: 6.5059 - val_loss: 10.1471\n",
    "- Epoch 43/200 - loss: 6.6160 - val_loss: 9.5882\n",
    "- Epoch 44/200 - loss: 6.3216 - val_loss: 10.1955\n",
    "- Epoch 45/200 - loss: 6.2142 - val_loss: 10.1830\n",
    "- Epoch 46/200 - loss: 6.1089 - val_loss: 10.4291\n",
    "- Epoch 47/200 - loss: 6.0326 - val_loss: 10.4027\n",
    "- Epoch 48/200 - loss: 5.8245 - val_loss: 10.6347\n",
    "- Epoch 49/200 - loss: 5.9137 - val_loss: 10.6149\n",
    "- Epoch 50/200 - loss: 5.6554 - val_loss: 10.1823\n",
    "- Epoch 51/200 - loss: 5.6850 - val_loss: 9.9264\n",
    "- Epoch 52/200 - loss: 5.5150 - val_loss: 10.0987\n",
    "- Epoch 53/200 - loss: 5.4917 - val_loss: 9.8134\n"
   ]
  },
  {
   "cell_type": "code",
   "execution_count": 1,
   "metadata": {
    "colab": {
     "autoexec": {
      "startup": false,
      "wait_interval": 0
     },
     "base_uri": "https://localhost:8080/",
     "height": 34
    },
    "colab_type": "code",
    "executionInfo": {
     "elapsed": 7776,
     "status": "ok",
     "timestamp": 1526105952629,
     "user": {
      "displayName": "Chengwei Zhang",
      "photoUrl": "//lh5.googleusercontent.com/-FK2ckwmh6mM/AAAAAAAAAAI/AAAAAAAAPLw/SX9b1QAzJ5g/s50-c-k-no/photo.jpg",
      "userId": "114808171854651597062"
     },
     "user_tz": -480
    },
    "id": "1wsDPx682A7H",
    "outputId": "88ee055c-b674-4a81-c869-8401551f09d7"
   },
   "outputs": [
    {
     "name": "stderr",
     "output_type": "stream",
     "text": [
      "Using TensorFlow backend.\n"
     ]
    }
   ],
   "source": [
    "import os\n",
    "import itertools\n",
    "\n",
    "\n",
    "import datetime\n",
    "\n",
    "import editdistance\n",
    "import numpy as np\n",
    "\n",
    "import pylab\n",
    "import matplotlib.pyplot as plt\n",
    "from keras import backend as K\n",
    "from keras.layers.convolutional import Conv2D, MaxPooling2D\n",
    "from keras.layers import Input, Dense, Activation\n",
    "from keras.layers import Reshape, Lambda\n",
    "from keras.layers.merge import add, concatenate\n",
    "from keras.models import Model\n",
    "from keras.layers.recurrent import GRU\n",
    "from keras.optimizers import SGD\n",
    "from keras.utils.data_utils import get_file\n",
    "from keras.preprocessing import image\n",
    "import keras.callbacks"
   ]
  },
  {
   "cell_type": "code",
   "execution_count": 2,
   "metadata": {
    "colab": {
     "autoexec": {
      "startup": false,
      "wait_interval": 0
     }
    },
    "colab_type": "code",
    "id": "Xnj6R_OE3yMl"
   },
   "outputs": [],
   "source": [
    "OUTPUT_DIR = 'image_ocr'\n",
    "\n",
    "\n",
    "\n",
    "np.random.seed(55)"
   ]
  },
  {
   "cell_type": "code",
   "execution_count": 3,
   "metadata": {
    "colab": {
     "autoexec": {
      "startup": false,
      "wait_interval": 0
     }
    },
    "colab_type": "code",
    "id": "mM0eHsJO5bP6"
   },
   "outputs": [
    {
     "name": "stdout",
     "output_type": "stream",
     "text": [
      "code under development ...\n",
      "click debug in visual studio code\n",
      "code under development ...\n",
      "click debug in visual studio code\n",
      "WAITING FOR DEBUGGER\n",
      "2\n",
      "code under development ...\n",
      "click debug in visual studio code\n",
      "2\n"
     ]
    }
   ],
   "source": [
    "# Text_Image is the original generator. It creates images programaticaly. \n",
    "# Script_Image takes handwritten words from the IAM database.\n",
    "generator_choice =  \"GSQL\" #\"German\" # \"Script_Image\" # \"German\" # \"Text_Image\" #\n",
    "import generator_text_image as GTI\n",
    "import generator_iam_words as IAM\n",
    "import generator_german_words as GER\n",
    "import generator_SQL_words as GSQL"
   ]
  },
  {
   "cell_type": "code",
   "execution_count": 4,
   "metadata": {
    "colab": {
     "autoexec": {
      "startup": false,
      "wait_interval": 0
     }
    },
    "colab_type": "code",
    "id": "HBLwtxF35f0c"
   },
   "outputs": [],
   "source": [
    "import ctc_drop_first_2\n",
    "import cnn_rnn_model"
   ]
  },
  {
   "cell_type": "code",
   "execution_count": 5,
   "metadata": {
    "colab": {
     "autoexec": {
      "startup": false,
      "wait_interval": 0
     }
    },
    "colab_type": "code",
    "id": "YOAsKfXm5jP1"
   },
   "outputs": [],
   "source": [
    "\n",
    "\n",
    "\n",
    "# For a real OCR application, this should be beam search with a dictionary\n",
    "# and language model.  For this example, best path is sufficient.\n",
    "\n",
    "def decode_batch(test_func, word_batch):\n",
    "    out = test_func([word_batch])[0]\n",
    "    ret = []\n",
    "    for j in range(out.shape[0]):\n",
    "        out_best = list(np.argmax(out[j, 2:], 1))\n",
    "        out_best = [k for k, g in itertools.groupby(out_best)]\n",
    "        if generator_choice ==  \"Script_Image\":\n",
    "            outstr = IAM.labels_to_text(out_best)\n",
    "        elif generator_choice == \"German\":\n",
    "            outstr = GER.labels_to_text(out_best)\n",
    "        elif generator_choice == \"GSQL\":\n",
    "            outstr = GSQL.labels_to_text(out_best)\n",
    "        elif generator_choice == \"Text_Image\":\n",
    "            outstr = GTI.labels_to_text(out_best)\n",
    "        else:\n",
    "            assert(False)\n",
    "        ret.append(outstr)\n",
    "    return ret\n"
   ]
  },
  {
   "cell_type": "code",
   "execution_count": 6,
   "metadata": {
    "colab": {
     "autoexec": {
      "startup": false,
      "wait_interval": 0
     }
    },
    "colab_type": "code",
    "id": "KcGtIsLF5leW"
   },
   "outputs": [],
   "source": [
    "class VizCallback(keras.callbacks.Callback):\n",
    "\n",
    "    def __init__(self, run_name, test_func, text_img_gen, num_display_words=6):\n",
    "        self.test_func = test_func\n",
    "        self.output_dir = os.path.join(\n",
    "            OUTPUT_DIR, run_name)\n",
    "        self.text_img_gen = text_img_gen\n",
    "        self.num_display_words = num_display_words\n",
    "        if not os.path.exists(self.output_dir):\n",
    "            os.makedirs(self.output_dir)\n",
    "\n",
    "    def show_edit_distance(self, num):\n",
    "        num_left = num\n",
    "        mean_norm_ed = 0.0\n",
    "        mean_ed = 0.0\n",
    "        while num_left > 0:\n",
    "            word_batch = next(self.text_img_gen)[0]\n",
    "            num_proc = min(word_batch['the_input'].shape[0], num_left)\n",
    "            decoded_res = decode_batch(self.test_func, word_batch['the_input'][0:num_proc])\n",
    "            for j in range(num_proc):\n",
    "                edit_dist = editdistance.eval(decoded_res[j], word_batch['source_str'][j])\n",
    "                mean_ed += float(edit_dist)\n",
    "                mean_norm_ed += float(edit_dist) / len(word_batch['source_str'][j])\n",
    "            num_left -= num_proc\n",
    "        mean_norm_ed = mean_norm_ed / num\n",
    "        mean_ed = mean_ed / num\n",
    "        print('\\nOut of %d samples:  Mean edit distance: %.3f Mean normalized edit distance: %0.3f'\n",
    "              % (num, mean_ed, mean_norm_ed))\n",
    "\n",
    "    def on_epoch_end(self, epoch, logs={}):\n",
    "        self.model.save_weights(os.path.join(self.output_dir, 'weights%02d.h5' % (epoch)))\n",
    "        self.show_edit_distance(256)\n",
    "        word_batch = next(self.text_img_gen)[0]\n",
    "        res = decode_batch(self.test_func, word_batch['the_input'][0:self.num_display_words])\n",
    "        if word_batch['the_input'][0].shape[0] < 256:\n",
    "            cols = 2\n",
    "        else:\n",
    "            cols = 1\n",
    "        for i in range(self.num_display_words):\n",
    "            plt.subplot(self.num_display_words // cols, cols, i + 1)\n",
    "            if K.image_data_format() == 'channels_first':\n",
    "                the_input = word_batch['the_input'][i, 0, :, :]\n",
    "            else:\n",
    "                the_input = word_batch['the_input'][i, :, :, 0]\n",
    "            plt.imshow(the_input.T, cmap='Greys_r')\n",
    "            plt.xlabel('Truth = \\'%s\\'\\nDecoded = \\'%s\\'' % (word_batch['source_str'][i], res[i]))\n",
    "        fig = pylab.gcf()\n",
    "        fig.set_size_inches(10, 13)\n",
    "        plt.savefig(os.path.join(self.output_dir, 'e%02d.png' % (epoch)))\n",
    "        plt.close()\n"
   ]
  },
  {
   "cell_type": "code",
   "execution_count": 7,
   "metadata": {
    "colab": {
     "autoexec": {
      "startup": false,
      "wait_interval": 0
     }
    },
    "colab_type": "code",
    "id": "eC4vEfcQ5oOq"
   },
   "outputs": [],
   "source": [
    "img_gen = None\n",
    "def train(run_name, start_epoch, stop_epoch, img_w):\n",
    "    global img_gen\n",
    "    img_h = 64\n",
    "    \n",
    "    # Input Parameters\n",
    "\n",
    "    words_per_epoch = 16000\n",
    "    val_split = 0.2\n",
    "    \n",
    "    # 16000 * 0.2 = 3200\n",
    "    val_words = int(words_per_epoch * (val_split))\n",
    "\n",
    "    # Network parameters\n",
    "    minibatch_size = 32\n",
    "    \n",
    "    \n",
    "    # (16000 - 3200) // 32 = 400\n",
    "    steps_per_epoch = (words_per_epoch - val_words) // minibatch_size\n",
    "\n",
    "\n",
    "    if generator_choice == \"Text_Image\":\n",
    "        fdir = os.path.dirname(get_file('wordlists.tgz',\n",
    "                                        origin='http://www.mythic-ai.com/datasets/wordlists.tgz', untar=True))\n",
    "\n",
    "        img_gen = GTI.TextImageGenerator(monogram_file=os.path.join(fdir, 'wordlist_mono_clean.txt'),\n",
    "                                     bigram_file=os.path.join(fdir, 'wordlist_bi_clean.txt'),\n",
    "                                     minibatch_size=minibatch_size,\n",
    "                                     img_w=img_w,\n",
    "                                     img_h=img_h,\n",
    "                                     downsample_factor=(pool_size ** 2),\n",
    "                                     val_split=words_per_epoch - val_words\n",
    "                                     )\n",
    "    elif generator_choice == \"Script_Image\":\n",
    "        img_gen = IAM.IAM_Word_Generator(minibatch_size = 32, img_w = img_w, img_h = img_h, downsample_factor=4, absolute_max_string_len=16)\n",
    "    elif generator_choice == \"German\":\n",
    "        img_gen = GER.German_Word_Generator(minibatch_size = 32, img_w = img_w, img_h = img_h, downsample_factor=4, absolute_max_string_len=16)\n",
    "    elif generator_choice == \"GSQL\":\n",
    "        img_gen = GSQL.German_Word_Generator(minibatch_size = 32, img_w = img_w, img_h = img_h, downsample_factor=4, absolute_max_string_len=16)\n",
    "    else:\n",
    "        assert False\n",
    "\n",
    "    model, model_p, input_data, y_pred = cnn_rnn_model.make_model(img_w, img_h, img_gen.get_output_size(), img_gen.absolute_max_string_len)\n",
    "    \n",
    "    model_p.summary() # print summary of model before added ctc\n",
    "    model.summary() # print summary of model\n",
    "    \n",
    "    from keras.utils import plot_model\n",
    "    plot_model(model, to_file='model.png', show_shapes=True)\n",
    "    from IPython.display import Image\n",
    "    Image(filename='model.png')\n",
    "\n",
    "    # clipnorm seems to speeds up convergence\n",
    "    sgd = SGD(lr=0.02, decay=1e-6, momentum=0.9, nesterov=True, clipnorm=5)\n",
    "    \n",
    "    # the loss calc occurs elsewhere, so use a dummy lambda func for the loss\n",
    "    model.compile(loss={'ctc': lambda y_true, y_pred: y_pred}, optimizer=sgd)\n",
    "    if start_epoch > 0:\n",
    "        weight_file = os.path.join(OUTPUT_DIR, os.path.join(run_name, 'weights%02d.h5' % (start_epoch - 1)))\n",
    "        model.load_weights(weight_file)\n",
    "    # captures output of softmax so we can decode the output during visualization\n",
    "    test_func = K.function([input_data], [y_pred])\n",
    "\n",
    "    viz_cb = VizCallback(run_name, test_func, img_gen.next_val())\n",
    "\n",
    "    model.fit_generator(generator=img_gen.next_train(),\n",
    "                        steps_per_epoch=steps_per_epoch,\n",
    "                        epochs=stop_epoch,\n",
    "                        validation_data=img_gen.next_val(),\n",
    "                        validation_steps=val_words // minibatch_size,\n",
    "                        callbacks=[viz_cb, img_gen],\n",
    "                        initial_epoch=start_epoch)\n"
   ]
  },
  {
   "cell_type": "code",
   "execution_count": null,
   "metadata": {},
   "outputs": [],
   "source": []
  },
  {
   "cell_type": "markdown",
   "metadata": {
    "colab_type": "text",
    "id": "13kO-MxI7XWb"
   },
   "source": [
    "### Start the training\n",
    "\n",
    "1080ti run times: \n",
    "- 12 minutes for 20/20 epoch\n",
    "- 25 minutes for 25/25 epoch\n"
   ]
  },
  {
   "cell_type": "code",
   "execution_count": null,
   "metadata": {
    "colab": {
     "autoexec": {
      "startup": false,
      "wait_interval": 0
     },
     "base_uri": "https://localhost:8080/",
     "height": 2094
    },
    "colab_type": "code",
    "id": "YRGglF5L5qzn",
    "outputId": "541e795b-80d1-49e6-9c9f-e2014690f4a7"
   },
   "outputs": [
    {
     "name": "stdout",
     "output_type": "stream",
     "text": [
      "WARNING:tensorflow:From /usr/local/lib/python3.5/dist-packages/tensorflow/python/framework/op_def_library.py:263: colocate_with (from tensorflow.python.framework.ops) is deprecated and will be removed in a future version.\n",
      "Instructions for updating:\n",
      "Colocations handled automatically by placer.\n",
      "Tensor(\"the_labels:0\", shape=(?, 16), dtype=float32)\n",
      "WARNING:tensorflow:From /usr/local/lib/python3.5/dist-packages/keras/backend/tensorflow_backend.py:4249: to_int32 (from tensorflow.python.ops.math_ops) is deprecated and will be removed in a future version.\n",
      "Instructions for updating:\n",
      "Use tf.cast instead.\n",
      "WARNING:tensorflow:From /usr/local/lib/python3.5/dist-packages/keras/backend/tensorflow_backend.py:4229: to_int64 (from tensorflow.python.ops.math_ops) is deprecated and will be removed in a future version.\n",
      "Instructions for updating:\n",
      "Use tf.cast instead.\n",
      "__________________________________________________________________________________________________\n",
      "Layer (type)                    Output Shape         Param #     Connected to                     \n",
      "==================================================================================================\n",
      "the_input (InputLayer)          (None, 128, 64, 1)   0                                            \n",
      "__________________________________________________________________________________________________\n",
      "conv1 (Conv2D)                  (None, 128, 64, 16)  160         the_input[0][0]                  \n",
      "__________________________________________________________________________________________________\n",
      "max1 (MaxPooling2D)             (None, 64, 32, 16)   0           conv1[0][0]                      \n",
      "__________________________________________________________________________________________________\n",
      "conv2 (Conv2D)                  (None, 64, 32, 16)   2320        max1[0][0]                       \n",
      "__________________________________________________________________________________________________\n",
      "max2 (MaxPooling2D)             (None, 32, 16, 16)   0           conv2[0][0]                      \n",
      "__________________________________________________________________________________________________\n",
      "reshape (Reshape)               (None, 32, 256)      0           max2[0][0]                       \n",
      "__________________________________________________________________________________________________\n",
      "dense1 (Dense)                  (None, 32, 32)       8224        reshape[0][0]                    \n",
      "__________________________________________________________________________________________________\n",
      "gru1 (GRU)                      (None, 32, 512)      837120      dense1[0][0]                     \n",
      "__________________________________________________________________________________________________\n",
      "gru1_b (GRU)                    (None, 32, 512)      837120      dense1[0][0]                     \n",
      "__________________________________________________________________________________________________\n",
      "add_1 (Add)                     (None, 32, 512)      0           gru1[0][0]                       \n",
      "                                                                 gru1_b[0][0]                     \n",
      "__________________________________________________________________________________________________\n",
      "gru2 (GRU)                      (None, 32, 512)      1574400     add_1[0][0]                      \n",
      "__________________________________________________________________________________________________\n",
      "gru2_b (GRU)                    (None, 32, 512)      1574400     add_1[0][0]                      \n",
      "__________________________________________________________________________________________________\n",
      "concatenate_1 (Concatenate)     (None, 32, 1024)     0           gru2[0][0]                       \n",
      "                                                                 gru2_b[0][0]                     \n",
      "__________________________________________________________________________________________________\n",
      "dense2 (Dense)                  (None, 32, 68)       69700       concatenate_1[0][0]              \n",
      "__________________________________________________________________________________________________\n",
      "softmax (Activation)            (None, 32, 68)       0           dense2[0][0]                     \n",
      "==================================================================================================\n",
      "Total params: 4,903,444\n",
      "Trainable params: 4,903,444\n",
      "Non-trainable params: 0\n",
      "__________________________________________________________________________________________________\n",
      "__________________________________________________________________________________________________\n",
      "Layer (type)                    Output Shape         Param #     Connected to                     \n",
      "==================================================================================================\n",
      "the_input (InputLayer)          (None, 128, 64, 1)   0                                            \n",
      "__________________________________________________________________________________________________\n",
      "conv1 (Conv2D)                  (None, 128, 64, 16)  160         the_input[0][0]                  \n",
      "__________________________________________________________________________________________________\n",
      "max1 (MaxPooling2D)             (None, 64, 32, 16)   0           conv1[0][0]                      \n",
      "__________________________________________________________________________________________________\n",
      "conv2 (Conv2D)                  (None, 64, 32, 16)   2320        max1[0][0]                       \n",
      "__________________________________________________________________________________________________\n",
      "max2 (MaxPooling2D)             (None, 32, 16, 16)   0           conv2[0][0]                      \n",
      "__________________________________________________________________________________________________\n",
      "reshape (Reshape)               (None, 32, 256)      0           max2[0][0]                       \n",
      "__________________________________________________________________________________________________\n",
      "dense1 (Dense)                  (None, 32, 32)       8224        reshape[0][0]                    \n",
      "__________________________________________________________________________________________________\n",
      "gru1 (GRU)                      (None, 32, 512)      837120      dense1[0][0]                     \n",
      "__________________________________________________________________________________________________\n",
      "gru1_b (GRU)                    (None, 32, 512)      837120      dense1[0][0]                     \n",
      "__________________________________________________________________________________________________\n",
      "add_1 (Add)                     (None, 32, 512)      0           gru1[0][0]                       \n",
      "                                                                 gru1_b[0][0]                     \n",
      "__________________________________________________________________________________________________\n",
      "gru2 (GRU)                      (None, 32, 512)      1574400     add_1[0][0]                      \n",
      "__________________________________________________________________________________________________\n",
      "gru2_b (GRU)                    (None, 32, 512)      1574400     add_1[0][0]                      \n",
      "__________________________________________________________________________________________________\n",
      "concatenate_1 (Concatenate)     (None, 32, 1024)     0           gru2[0][0]                       \n",
      "                                                                 gru2_b[0][0]                     \n",
      "__________________________________________________________________________________________________\n",
      "dense2 (Dense)                  (None, 32, 68)       69700       concatenate_1[0][0]              \n",
      "__________________________________________________________________________________________________\n",
      "softmax (Activation)            (None, 32, 68)       0           dense2[0][0]                     \n",
      "__________________________________________________________________________________________________\n",
      "the_labels (InputLayer)         (None, 16)           0                                            \n",
      "__________________________________________________________________________________________________\n",
      "input_length (InputLayer)       (None, 1)            0                                            \n",
      "__________________________________________________________________________________________________\n",
      "label_length (InputLayer)       (None, 1)            0                                            \n",
      "__________________________________________________________________________________________________\n",
      "ctc (Lambda)                    (None, 1)            0           softmax[0][0]                    \n",
      "                                                                 the_labels[0][0]                 \n",
      "                                                                 input_length[0][0]               \n",
      "                                                                 label_length[0][0]               \n",
      "==================================================================================================\n",
      "Total params: 4,903,444\n",
      "Trainable params: 4,903,444\n",
      "Non-trainable params: 0\n",
      "__________________________________________________________________________________________________\n"
     ]
    },
    {
     "name": "stdout",
     "output_type": "stream",
     "text": [
      "WARNING:tensorflow:From /usr/local/lib/python3.5/dist-packages/tensorflow/python/ops/math_grad.py:102: div (from tensorflow.python.ops.math_ops) is deprecated and will be removed in a future version.\n",
      "Instructions for updating:\n",
      "Deprecated in favor of operator or tf.math.divide.\n",
      "Epoch 1/200\n",
      "400/400 [==============================] - 81s 203ms/step - loss: 21.3263 - val_loss: 18.0781\n",
      "\n",
      "Out of 256 samples:  Mean edit distance: 4.949 Mean normalized edit distance: 0.994\n",
      "Epoch 2/200\n",
      "400/400 [==============================] - 78s 195ms/step - loss: 17.9209 - val_loss: 17.2978\n",
      "\n",
      "Out of 256 samples:  Mean edit distance: 4.605 Mean normalized edit distance: 0.892\n",
      "Epoch 3/200\n",
      "400/400 [==============================] - 78s 195ms/step - loss: 17.0103 - val_loss: 16.0944\n",
      "\n",
      "Out of 256 samples:  Mean edit distance: 4.391 Mean normalized edit distance: 0.873\n",
      "Epoch 4/200\n",
      "400/400 [==============================] - 77s 193ms/step - loss: 16.0455 - val_loss: 15.7953\n",
      "\n",
      "Out of 256 samples:  Mean edit distance: 5.039 Mean normalized edit distance: 0.973\n",
      "Epoch 5/200\n",
      "400/400 [==============================] - 79s 196ms/step - loss: 15.3872 - val_loss: 14.9153\n",
      "\n",
      "Out of 256 samples:  Mean edit distance: 3.977 Mean normalized edit distance: 0.788\n",
      "Epoch 6/200\n",
      "400/400 [==============================] - 78s 196ms/step - loss: 14.7822 - val_loss: 14.3283\n",
      "\n",
      "Out of 256 samples:  Mean edit distance: 3.930 Mean normalized edit distance: 0.776\n",
      "Epoch 7/200\n",
      "134/400 [=========>....................] - ETA: 43s - loss: 14.3933"
     ]
    }
   ],
   "source": [
    "## run_name = datetime.datetime.now().strftime('%Y:%m:%d:%H:%M:%S')\n",
    "run_name = datetime.datetime.now().strftime('%Y:%m:%d:%H:%M:%S')\n",
    "train(run_name, 0, 200, 128)\n",
    "# increase to wider images and start at epoch 20. The learned weights are reloaded\n",
    "img_gen.set_img_w(512)\n",
    "train(run_name, 20, 250, 512)"
   ]
  },
  {
   "cell_type": "code",
   "execution_count": null,
   "metadata": {},
   "outputs": [],
   "source": []
  },
  {
   "cell_type": "code",
   "execution_count": null,
   "metadata": {},
   "outputs": [],
   "source": []
  },
  {
   "cell_type": "code",
   "execution_count": null,
   "metadata": {},
   "outputs": [],
   "source": []
  }
 ],
 "metadata": {
  "accelerator": "GPU",
  "colab": {
   "collapsed_sections": [],
   "default_view": {},
   "name": "image_ocr.ipynb",
   "provenance": [],
   "version": "0.3.2",
   "views": {}
  },
  "kernelspec": {
   "display_name": "Python 3",
   "language": "python",
   "name": "python3"
  },
  "language_info": {
   "codemirror_mode": {
    "name": "ipython",
    "version": 3
   },
   "file_extension": ".py",
   "mimetype": "text/x-python",
   "name": "python",
   "nbconvert_exporter": "python",
   "pygments_lexer": "ipython3",
   "version": "3.5.2"
  }
 },
 "nbformat": 4,
 "nbformat_minor": 1
}
