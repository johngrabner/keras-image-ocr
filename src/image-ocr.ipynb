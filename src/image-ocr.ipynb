{
 "cells": [
  {
   "cell_type": "markdown",
   "metadata": {},
   "source": [
    "## References\n",
    "\n",
    "https://keras.io/examples/image_ocr/\n",
    "    \n",
    "    This example uses a convolutional stack followed by a recurrent stack and a CTC logloss function to perform optical character recognition of generated text images.\n",
    "    \n",
    "https://github.com/Tony607/keras-image-ocr\n",
    "\n",
    "    Chengwei Zhang adds prediction to the original keras.io/examples/image_ocr/\n",
    "\n",
    "https://www.dlology.com/blog/how-to-train-a-keras-model-to-recognize-variable-length-text/\n",
    "\n",
    "    Excellent article my Chengwei Zhang on the operation of this code and his addition to keras.io/examples/image_ocr."
   ]
  },
  {
   "cell_type": "markdown",
   "metadata": {
    "colab_type": "text",
    "id": "NH-B4hb1E00o"
   },
   "source": [
    "## Docker\n",
    "\n",
    "The dlology article explains how to run the code in the cloud and locally on your host by installing packages. You will see 'apt install' and 'pip install' in the Tony607 version of this notebook.\n",
    "\n",
    "I'm a docker fan.  On my Ubuntu system, I only installed the nvidia drivers and nvidia's docker.  Keras and Tensorflow are run in a container. See https://www.tensorflow.org/install/docker for details on installation.\n",
    "\n",
    "`/bin/bash build.sh` to build the docker container with everything needed. This is found in the docker directory of this project.\n",
    "\n",
    "`/bin/bash run.sh` to run the docker image.  This is found in the docker directory of this project."
   ]
  },
  {
   "cell_type": "code",
   "execution_count": 9,
   "metadata": {
    "colab": {
     "autoexec": {
      "startup": false,
      "wait_interval": 0
     },
     "base_uri": "https://localhost:8080/",
     "height": 34
    },
    "colab_type": "code",
    "executionInfo": {
     "elapsed": 7776,
     "status": "ok",
     "timestamp": 1526105952629,
     "user": {
      "displayName": "Chengwei Zhang",
      "photoUrl": "//lh5.googleusercontent.com/-FK2ckwmh6mM/AAAAAAAAAAI/AAAAAAAAPLw/SX9b1QAzJ5g/s50-c-k-no/photo.jpg",
      "userId": "114808171854651597062"
     },
     "user_tz": -480
    },
    "id": "1wsDPx682A7H",
    "outputId": "88ee055c-b674-4a81-c869-8401551f09d7"
   },
   "outputs": [],
   "source": [
    "import os\n",
    "import itertools\n",
    "import codecs\n",
    "import re\n",
    "import datetime\n",
    "import cairocffi as cairo\n",
    "import editdistance\n",
    "import numpy as np\n",
    "from scipy import ndimage\n",
    "import pylab\n",
    "import matplotlib.pyplot as plt\n",
    "from keras import backend as K\n",
    "from keras.layers.convolutional import Conv2D, MaxPooling2D\n",
    "from keras.layers import Input, Dense, Activation\n",
    "from keras.layers import Reshape, Lambda\n",
    "from keras.layers.merge import add, concatenate\n",
    "from keras.models import Model\n",
    "from keras.layers.recurrent import GRU\n",
    "from keras.optimizers import SGD\n",
    "from keras.utils.data_utils import get_file\n",
    "from keras.preprocessing import image\n",
    "import keras.callbacks"
   ]
  },
  {
   "cell_type": "code",
   "execution_count": 10,
   "metadata": {
    "colab": {
     "autoexec": {
      "startup": false,
      "wait_interval": 0
     }
    },
    "colab_type": "code",
    "id": "Xnj6R_OE3yMl"
   },
   "outputs": [],
   "source": [
    "OUTPUT_DIR = 'image_ocr'\n",
    "\n",
    "# character classes and matching regex filter\n",
    "regex = r'^[a-z ]+$'\n",
    "alphabet = u'abcdefghijklmnopqrstuvwxyz '\n",
    "\n",
    "np.random.seed(55)"
   ]
  },
  {
   "cell_type": "code",
   "execution_count": 11,
   "metadata": {
    "colab": {
     "autoexec": {
      "startup": false,
      "wait_interval": 0
     }
    },
    "colab_type": "code",
    "id": "mM0eHsJO5bP6"
   },
   "outputs": [],
   "source": [
    "\n",
    "# this creates larger \"blotches\" of noise which look\n",
    "# more realistic than just adding gaussian noise\n",
    "# assumes greyscale with pixels ranging from 0 to 1\n",
    "\n",
    "def speckle(img):\n",
    "    severity = np.random.uniform(0, 0.6)\n",
    "    blur = ndimage.gaussian_filter(np.random.randn(*img.shape) * severity, 1)\n",
    "    img_speck = (img + blur)\n",
    "    img_speck[img_speck > 1] = 1\n",
    "    img_speck[img_speck <= 0] = 0\n",
    "    return img_speck\n",
    "\n",
    "\n",
    "# paints the string in a random location the bounding box\n",
    "# also uses a random font, a slight random rotation,\n",
    "# and a random amount of speckle noise\n",
    "\n",
    "def paint_text(text, w, h, rotate=False, ud=False, multi_fonts=False):\n",
    "    surface = cairo.ImageSurface(cairo.FORMAT_RGB24, w, h)\n",
    "    with cairo.Context(surface) as context:\n",
    "        context.set_source_rgb(1, 1, 1)  # White\n",
    "        context.paint()\n",
    "        # this font list works in CentOS 7\n",
    "        if multi_fonts:\n",
    "            fonts = ['Century Schoolbook', 'Courier', 'STIX', 'URW Chancery L', 'FreeMono']\n",
    "            context.select_font_face(np.random.choice(fonts), cairo.FONT_SLANT_NORMAL,\n",
    "                                     np.random.choice([cairo.FONT_WEIGHT_BOLD, cairo.FONT_WEIGHT_NORMAL]))\n",
    "        else:\n",
    "            context.select_font_face('Courier', cairo.FONT_SLANT_NORMAL, cairo.FONT_WEIGHT_BOLD)\n",
    "        context.set_font_size(25)\n",
    "        box = context.text_extents(text)\n",
    "        border_w_h = (4, 4)\n",
    "        if box[2] > (w - 2 * border_w_h[1]) or box[3] > (h - 2 * border_w_h[0]):\n",
    "            raise IOError('Could not fit string into image. Max char count is too large for given image width.')\n",
    "\n",
    "        # teach the RNN translational invariance by\n",
    "        # fitting text box randomly on canvas, with some room to rotate\n",
    "        max_shift_x = w - box[2] - border_w_h[0]\n",
    "        max_shift_y = h - box[3] - border_w_h[1]\n",
    "        top_left_x = np.random.randint(0, int(max_shift_x))\n",
    "        if ud:\n",
    "            top_left_y = np.random.randint(0, int(max_shift_y))\n",
    "        else:\n",
    "            top_left_y = h // 2\n",
    "        context.move_to(top_left_x - int(box[0]), top_left_y - int(box[1]))\n",
    "        context.set_source_rgb(0, 0, 0)\n",
    "        context.show_text(text)\n",
    "\n",
    "    buf = surface.get_data()\n",
    "    a = np.frombuffer(buf, np.uint8)\n",
    "    a.shape = (h, w, 4)\n",
    "    a = a[:, :, 0]  # grab single channel\n",
    "    a = a.astype(np.float32) / 255\n",
    "    a = np.expand_dims(a, 0)\n",
    "    if rotate:\n",
    "        a = image.random_rotation(a, 3 * (w - top_left_x) / w + 1)\n",
    "    a = speckle(a)\n",
    "\n",
    "    return a\n",
    "\n",
    "\n",
    "def shuffle_mats_or_lists(matrix_list, stop_ind=None):\n",
    "    ret = []\n",
    "    assert all([len(i) == len(matrix_list[0]) for i in matrix_list])\n",
    "    len_val = len(matrix_list[0])\n",
    "    if stop_ind is None:\n",
    "        stop_ind = len_val\n",
    "    assert stop_ind <= len_val\n",
    "\n",
    "    a = list(range(stop_ind))\n",
    "    np.random.shuffle(a)\n",
    "    a += list(range(stop_ind, len_val))\n",
    "    for mat in matrix_list:\n",
    "        if isinstance(mat, np.ndarray):\n",
    "            ret.append(mat[a])\n",
    "        elif isinstance(mat, list):\n",
    "            ret.append([mat[i] for i in a])\n",
    "        else:\n",
    "            raise TypeError('`shuffle_mats_or_lists` only supports '\n",
    "                            'numpy.array and list objects.')\n",
    "    return ret\n",
    "\n",
    "\n",
    "# Translation of characters to unique integer values\n",
    "def text_to_labels(text):\n",
    "    ret = []\n",
    "    for char in text:\n",
    "        ret.append(alphabet.find(char))\n",
    "    return ret\n",
    "\n",
    "\n",
    "# Reverse translation of numerical classes back to characters\n",
    "def labels_to_text(labels):\n",
    "    ret = []\n",
    "    for c in labels:\n",
    "        if c == len(alphabet):  # CTC Blank\n",
    "            ret.append(\"\")\n",
    "        else:\n",
    "            ret.append(alphabet[c])\n",
    "    return \"\".join(ret)\n",
    "\n",
    "\n",
    "# only a-z and space..probably not to difficult\n",
    "# to expand to uppercase and symbols\n",
    "\n",
    "def is_valid_str(in_str):\n",
    "    search = re.compile(regex, re.UNICODE).search\n",
    "    return bool(search(in_str))\n"
   ]
  },
  {
   "cell_type": "code",
   "execution_count": 12,
   "metadata": {
    "colab": {
     "autoexec": {
      "startup": false,
      "wait_interval": 0
     }
    },
    "colab_type": "code",
    "id": "HBLwtxF35f0c"
   },
   "outputs": [],
   "source": [
    "\n",
    "# Uses generator functions to supply train/test with\n",
    "# data. Image renderings are text are created on the fly\n",
    "# each time with random perturbations\n",
    "\n",
    "class TextImageGenerator(keras.callbacks.Callback):\n",
    "\n",
    "    def __init__(self, monogram_file, bigram_file, minibatch_size,\n",
    "                 img_w, img_h, downsample_factor, val_split,\n",
    "                 absolute_max_string_len=16):\n",
    "\n",
    "        self.minibatch_size = minibatch_size\n",
    "        self.img_w = img_w\n",
    "        self.img_h = img_h\n",
    "        self.monogram_file = monogram_file\n",
    "        self.bigram_file = bigram_file\n",
    "        self.downsample_factor = downsample_factor\n",
    "        self.val_split = val_split\n",
    "        self.blank_label = self.get_output_size() - 1\n",
    "        self.absolute_max_string_len = absolute_max_string_len\n",
    "\n",
    "    def get_output_size(self):\n",
    "        return len(alphabet) + 1\n",
    "\n",
    "    # num_words can be independent of the epoch size due to the use of generators\n",
    "    # as max_string_len grows, num_words can grow\n",
    "    def build_word_list(self, num_words, max_string_len=None, mono_fraction=0.5):\n",
    "        assert max_string_len <= self.absolute_max_string_len\n",
    "        assert num_words % self.minibatch_size == 0\n",
    "        assert (self.val_split * num_words) % self.minibatch_size == 0\n",
    "        self.num_words = num_words\n",
    "        self.string_list = [''] * self.num_words\n",
    "        tmp_string_list = []\n",
    "        self.max_string_len = max_string_len\n",
    "        self.Y_data = np.ones([self.num_words, self.absolute_max_string_len]) * -1\n",
    "        self.X_text = []\n",
    "        self.Y_len = [0] * self.num_words\n",
    "\n",
    "        # monogram file is sorted by frequency in english speech\n",
    "        with codecs.open(self.monogram_file, mode='r', encoding='utf-8') as f:\n",
    "            for line in f:\n",
    "                if len(tmp_string_list) == int(self.num_words * mono_fraction):\n",
    "                    break\n",
    "                word = line.rstrip()\n",
    "                if max_string_len == -1 or max_string_len is None or len(word) <= max_string_len:\n",
    "                    tmp_string_list.append(word)\n",
    "\n",
    "        # bigram file contains common word pairings in english speech\n",
    "        with codecs.open(self.bigram_file, mode='r', encoding='utf-8') as f:\n",
    "            lines = f.readlines()\n",
    "            for line in lines:\n",
    "                if len(tmp_string_list) == self.num_words:\n",
    "                    break\n",
    "                columns = line.lower().split()\n",
    "                word = columns[0] + ' ' + columns[1]\n",
    "                if is_valid_str(word) and \\\n",
    "                        (max_string_len == -1 or max_string_len is None or len(word) <= max_string_len):\n",
    "                    tmp_string_list.append(word)\n",
    "        if len(tmp_string_list) != self.num_words:\n",
    "            raise IOError('Could not pull enough words from supplied monogram and bigram files. ')\n",
    "        # interlace to mix up the easy and hard words\n",
    "        self.string_list[::2] = tmp_string_list[:self.num_words // 2]\n",
    "        self.string_list[1::2] = tmp_string_list[self.num_words // 2:]\n",
    "\n",
    "        for i, word in enumerate(self.string_list):\n",
    "            self.Y_len[i] = len(word)\n",
    "            self.Y_data[i, 0:len(word)] = text_to_labels(word)\n",
    "            self.X_text.append(word)\n",
    "        self.Y_len = np.expand_dims(np.array(self.Y_len), 1)\n",
    "\n",
    "        self.cur_val_index = self.val_split\n",
    "        self.cur_train_index = 0\n",
    "\n",
    "    # each time an image is requested from train/val/test, a new random\n",
    "    # painting of the text is performed\n",
    "    def get_batch(self, index, size, train):\n",
    "        # width and height are backwards from typical Keras convention\n",
    "        # because width is the time dimension when it gets fed into the RNN\n",
    "        if K.image_data_format() == 'channels_first':\n",
    "            X_data = np.ones([size, 1, self.img_w, self.img_h])\n",
    "        else:\n",
    "            X_data = np.ones([size, self.img_w, self.img_h, 1])\n",
    "\n",
    "        labels = np.ones([size, self.absolute_max_string_len])\n",
    "        input_length = np.zeros([size, 1])\n",
    "        label_length = np.zeros([size, 1])\n",
    "        source_str = []\n",
    "        for i in range(size):\n",
    "            # Mix in some blank inputs.  This seems to be important for\n",
    "            # achieving translational invariance\n",
    "            if train and i > size - 4:\n",
    "                if K.image_data_format() == 'channels_first':\n",
    "                    X_data[i, 0, 0:self.img_w, :] = self.paint_func('')[0, :, :].T\n",
    "                else:\n",
    "                    X_data[i, 0:self.img_w, :, 0] = self.paint_func('',)[0, :, :].T\n",
    "                labels[i, 0] = self.blank_label\n",
    "                input_length[i] = self.img_w // self.downsample_factor - 2\n",
    "                label_length[i] = 1\n",
    "                source_str.append('')\n",
    "            else:\n",
    "                if K.image_data_format() == 'channels_first':\n",
    "                    X_data[i, 0, 0:self.img_w, :] = self.paint_func(self.X_text[index + i])[0, :, :].T\n",
    "                else:\n",
    "                    X_data[i, 0:self.img_w, :, 0] = self.paint_func(self.X_text[index + i])[0, :, :].T\n",
    "                labels[i, :] = self.Y_data[index + i]\n",
    "                input_length[i] = self.img_w // self.downsample_factor - 2\n",
    "                label_length[i] = self.Y_len[index + i]\n",
    "                source_str.append(self.X_text[index + i])\n",
    "        inputs = {'the_input': X_data,\n",
    "                  'the_labels': labels,\n",
    "                  'input_length': input_length,\n",
    "                  'label_length': label_length,\n",
    "                  'source_str': source_str  # used for visualization only\n",
    "                  }\n",
    "        outputs = {'ctc': np.zeros([size])}  # dummy data for dummy loss function\n",
    "        return (inputs, outputs)\n",
    "\n",
    "    def next_train(self):\n",
    "        while 1:\n",
    "            ret = self.get_batch(self.cur_train_index, self.minibatch_size, train=True)\n",
    "            self.cur_train_index += self.minibatch_size\n",
    "            if self.cur_train_index >= self.val_split:\n",
    "                self.cur_train_index = self.cur_train_index % 32\n",
    "                (self.X_text, self.Y_data, self.Y_len) = shuffle_mats_or_lists(\n",
    "                    [self.X_text, self.Y_data, self.Y_len], self.val_split)\n",
    "            yield ret\n",
    "\n",
    "    def next_val(self):\n",
    "        while 1:\n",
    "            ret = self.get_batch(self.cur_val_index, self.minibatch_size, train=False)\n",
    "            self.cur_val_index += self.minibatch_size\n",
    "            if self.cur_val_index >= self.num_words:\n",
    "                self.cur_val_index = self.val_split + self.cur_val_index % 32\n",
    "            yield ret\n",
    "\n",
    "    def on_train_begin(self, logs={}):\n",
    "        self.build_word_list(16000, 4, 1)\n",
    "        self.paint_func = lambda text: paint_text(text, self.img_w, self.img_h,\n",
    "                                                  rotate=False, ud=False, multi_fonts=False)\n",
    "\n",
    "    def on_epoch_begin(self, epoch, logs={}):\n",
    "        # rebind the paint function to implement curriculum learning\n",
    "        if 3 <= epoch < 6:\n",
    "            self.paint_func = lambda text: paint_text(text, self.img_w, self.img_h,\n",
    "                                                      rotate=False, ud=True, multi_fonts=False)\n",
    "        elif 6 <= epoch < 9:\n",
    "            self.paint_func = lambda text: paint_text(text, self.img_w, self.img_h,\n",
    "                                                      rotate=False, ud=True, multi_fonts=True)\n",
    "        elif epoch >= 9:\n",
    "            self.paint_func = lambda text: paint_text(text, self.img_w, self.img_h,\n",
    "                                                      rotate=True, ud=True, multi_fonts=True)\n",
    "        if epoch >= 21 and self.max_string_len < 12:\n",
    "            self.build_word_list(32000, 12, 0.5)\n"
   ]
  },
  {
   "cell_type": "code",
   "execution_count": 13,
   "metadata": {
    "colab": {
     "autoexec": {
      "startup": false,
      "wait_interval": 0
     }
    },
    "colab_type": "code",
    "id": "YOAsKfXm5jP1"
   },
   "outputs": [],
   "source": [
    "\n",
    "# the actual loss calc occurs here despite it not being\n",
    "# an internal Keras loss function\n",
    "\n",
    "def ctc_lambda_func(args):\n",
    "    y_pred, labels, input_length, label_length = args\n",
    "    # the 2 is critical here since the first couple outputs of the RNN\n",
    "    # tend to be garbage:\n",
    "    y_pred = y_pred[:, 2:, :]\n",
    "    return K.ctc_batch_cost(labels, y_pred, input_length, label_length)\n",
    "\n",
    "\n",
    "# For a real OCR application, this should be beam search with a dictionary\n",
    "# and language model.  For this example, best path is sufficient.\n",
    "\n",
    "def decode_batch(test_func, word_batch):\n",
    "    out = test_func([word_batch])[0]\n",
    "    ret = []\n",
    "    for j in range(out.shape[0]):\n",
    "        out_best = list(np.argmax(out[j, 2:], 1))\n",
    "        out_best = [k for k, g in itertools.groupby(out_best)]\n",
    "        outstr = labels_to_text(out_best)\n",
    "        ret.append(outstr)\n",
    "    return ret\n"
   ]
  },
  {
   "cell_type": "code",
   "execution_count": 14,
   "metadata": {
    "colab": {
     "autoexec": {
      "startup": false,
      "wait_interval": 0
     }
    },
    "colab_type": "code",
    "id": "KcGtIsLF5leW"
   },
   "outputs": [],
   "source": [
    "class VizCallback(keras.callbacks.Callback):\n",
    "\n",
    "    def __init__(self, run_name, test_func, text_img_gen, num_display_words=6):\n",
    "        self.test_func = test_func\n",
    "        self.output_dir = os.path.join(\n",
    "            OUTPUT_DIR, run_name)\n",
    "        self.text_img_gen = text_img_gen\n",
    "        self.num_display_words = num_display_words\n",
    "        if not os.path.exists(self.output_dir):\n",
    "            os.makedirs(self.output_dir)\n",
    "\n",
    "    def show_edit_distance(self, num):\n",
    "        num_left = num\n",
    "        mean_norm_ed = 0.0\n",
    "        mean_ed = 0.0\n",
    "        while num_left > 0:\n",
    "            word_batch = next(self.text_img_gen)[0]\n",
    "            num_proc = min(word_batch['the_input'].shape[0], num_left)\n",
    "            decoded_res = decode_batch(self.test_func, word_batch['the_input'][0:num_proc])\n",
    "            for j in range(num_proc):\n",
    "                edit_dist = editdistance.eval(decoded_res[j], word_batch['source_str'][j])\n",
    "                mean_ed += float(edit_dist)\n",
    "                mean_norm_ed += float(edit_dist) / len(word_batch['source_str'][j])\n",
    "            num_left -= num_proc\n",
    "        mean_norm_ed = mean_norm_ed / num\n",
    "        mean_ed = mean_ed / num\n",
    "        print('\\nOut of %d samples:  Mean edit distance: %.3f Mean normalized edit distance: %0.3f'\n",
    "              % (num, mean_ed, mean_norm_ed))\n",
    "\n",
    "    def on_epoch_end(self, epoch, logs={}):\n",
    "        self.model.save_weights(os.path.join(self.output_dir, 'weights%02d.h5' % (epoch)))\n",
    "        self.show_edit_distance(256)\n",
    "        word_batch = next(self.text_img_gen)[0]\n",
    "        res = decode_batch(self.test_func, word_batch['the_input'][0:self.num_display_words])\n",
    "        if word_batch['the_input'][0].shape[0] < 256:\n",
    "            cols = 2\n",
    "        else:\n",
    "            cols = 1\n",
    "        for i in range(self.num_display_words):\n",
    "            plt.subplot(self.num_display_words // cols, cols, i + 1)\n",
    "            if K.image_data_format() == 'channels_first':\n",
    "                the_input = word_batch['the_input'][i, 0, :, :]\n",
    "            else:\n",
    "                the_input = word_batch['the_input'][i, :, :, 0]\n",
    "            plt.imshow(the_input.T, cmap='Greys_r')\n",
    "            plt.xlabel('Truth = \\'%s\\'\\nDecoded = \\'%s\\'' % (word_batch['source_str'][i], res[i]))\n",
    "        fig = pylab.gcf()\n",
    "        fig.set_size_inches(10, 13)\n",
    "        plt.savefig(os.path.join(self.output_dir, 'e%02d.png' % (epoch)))\n",
    "        plt.close()\n"
   ]
  },
  {
   "cell_type": "code",
   "execution_count": 15,
   "metadata": {
    "colab": {
     "autoexec": {
      "startup": false,
      "wait_interval": 0
     }
    },
    "colab_type": "code",
    "id": "eC4vEfcQ5oOq"
   },
   "outputs": [],
   "source": [
    "\n",
    "def train(run_name, start_epoch, stop_epoch, img_w):\n",
    "    # Input Parameters\n",
    "    img_h = 64\n",
    "    words_per_epoch = 16000\n",
    "    val_split = 0.2\n",
    "    val_words = int(words_per_epoch * (val_split))\n",
    "\n",
    "    # Network parameters\n",
    "    conv_filters = 16\n",
    "    kernel_size = (3, 3)\n",
    "    pool_size = 2\n",
    "    time_dense_size = 32\n",
    "    rnn_size = 512\n",
    "    minibatch_size = 32\n",
    "\n",
    "    if K.image_data_format() == 'channels_first':\n",
    "        input_shape = (1, img_w, img_h)\n",
    "    else:\n",
    "        input_shape = (img_w, img_h, 1)\n",
    "\n",
    "    fdir = os.path.dirname(get_file('wordlists.tgz',\n",
    "                                    origin='http://www.mythic-ai.com/datasets/wordlists.tgz', untar=True))\n",
    "\n",
    "    img_gen = TextImageGenerator(monogram_file=os.path.join(fdir, 'wordlist_mono_clean.txt'),\n",
    "                                 bigram_file=os.path.join(fdir, 'wordlist_bi_clean.txt'),\n",
    "                                 minibatch_size=minibatch_size,\n",
    "                                 img_w=img_w,\n",
    "                                 img_h=img_h,\n",
    "                                 downsample_factor=(pool_size ** 2),\n",
    "                                 val_split=words_per_epoch - val_words\n",
    "                                 )\n",
    "    act = 'relu'\n",
    "    input_data = Input(name='the_input', shape=input_shape, dtype='float32')\n",
    "    inner = Conv2D(conv_filters, kernel_size, padding='same',\n",
    "                   activation=act, kernel_initializer='he_normal',\n",
    "                   name='conv1')(input_data)\n",
    "    inner = MaxPooling2D(pool_size=(pool_size, pool_size), name='max1')(inner)\n",
    "    inner = Conv2D(conv_filters, kernel_size, padding='same',\n",
    "                   activation=act, kernel_initializer='he_normal',\n",
    "                   name='conv2')(inner)\n",
    "    inner = MaxPooling2D(pool_size=(pool_size, pool_size), name='max2')(inner)\n",
    "\n",
    "    conv_to_rnn_dims = (img_w // (pool_size ** 2), (img_h // (pool_size ** 2)) * conv_filters)\n",
    "    inner = Reshape(target_shape=conv_to_rnn_dims, name='reshape')(inner)\n",
    "\n",
    "    # cuts down input size going into RNN:\n",
    "    inner = Dense(time_dense_size, activation=act, name='dense1')(inner)\n",
    "\n",
    "    # Two layers of bidirectional GRUs\n",
    "    # GRU seems to work as well, if not better than LSTM:\n",
    "    gru_1 = GRU(rnn_size, return_sequences=True, kernel_initializer='he_normal', name='gru1')(inner)\n",
    "    gru_1b = GRU(rnn_size, return_sequences=True, go_backwards=True, kernel_initializer='he_normal', name='gru1_b')(inner)\n",
    "    gru1_merged = add([gru_1, gru_1b])\n",
    "    gru_2 = GRU(rnn_size, return_sequences=True, kernel_initializer='he_normal', name='gru2')(gru1_merged)\n",
    "    gru_2b = GRU(rnn_size, return_sequences=True, go_backwards=True, kernel_initializer='he_normal', name='gru2_b')(gru1_merged)\n",
    "\n",
    "    # transforms RNN output to character activations:\n",
    "    inner = Dense(img_gen.get_output_size(), kernel_initializer='he_normal',\n",
    "                  name='dense2')(concatenate([gru_2, gru_2b]))\n",
    "    y_pred = Activation('softmax', name='softmax')(inner)\n",
    "    Model(inputs=input_data, outputs=y_pred).summary()\n",
    "\n",
    "    labels = Input(name='the_labels', shape=[img_gen.absolute_max_string_len], dtype='float32')\n",
    "    input_length = Input(name='input_length', shape=[1], dtype='int64')\n",
    "    label_length = Input(name='label_length', shape=[1], dtype='int64')\n",
    "    # Keras doesn't currently support loss funcs with extra parameters\n",
    "    # so CTC loss is implemented in a lambda layer\n",
    "    loss_out = Lambda(ctc_lambda_func, output_shape=(1,), name='ctc')([y_pred, labels, input_length, label_length])\n",
    "\n",
    "    # clipnorm seems to speeds up convergence\n",
    "    sgd = SGD(lr=0.02, decay=1e-6, momentum=0.9, nesterov=True, clipnorm=5)\n",
    "\n",
    "    model = Model(inputs=[input_data, labels, input_length, label_length], outputs=loss_out)\n",
    "\n",
    "    # the loss calc occurs elsewhere, so use a dummy lambda func for the loss\n",
    "    model.compile(loss={'ctc': lambda y_true, y_pred: y_pred}, optimizer=sgd)\n",
    "    if start_epoch > 0:\n",
    "        weight_file = os.path.join(OUTPUT_DIR, os.path.join(run_name, 'weights%02d.h5' % (start_epoch - 1)))\n",
    "        model.load_weights(weight_file)\n",
    "    # captures output of softmax so we can decode the output during visualization\n",
    "    test_func = K.function([input_data], [y_pred])\n",
    "\n",
    "    viz_cb = VizCallback(run_name, test_func, img_gen.next_val())\n",
    "\n",
    "    model.fit_generator(generator=img_gen.next_train(),\n",
    "                        steps_per_epoch=(words_per_epoch - val_words) // minibatch_size,\n",
    "                        epochs=stop_epoch,\n",
    "                        validation_data=img_gen.next_val(),\n",
    "                        validation_steps=val_words // minibatch_size,\n",
    "                        callbacks=[viz_cb, img_gen],\n",
    "                        initial_epoch=start_epoch)\n"
   ]
  },
  {
   "cell_type": "markdown",
   "metadata": {
    "colab_type": "text",
    "id": "13kO-MxI7XWb"
   },
   "source": [
    "### Start the training\n",
    "It may take an hour, alternative you can just download my pre-trained model weights.\n",
    "```shell\n",
    "! wget https://github.com/Tony607/keras-image-ocr/releases/download/V0.1/weights24.h5\n",
    "```"
   ]
  },
  {
   "cell_type": "code",
   "execution_count": 16,
   "metadata": {
    "colab": {
     "autoexec": {
      "startup": false,
      "wait_interval": 0
     },
     "base_uri": "https://localhost:8080/",
     "height": 2094
    },
    "colab_type": "code",
    "id": "YRGglF5L5qzn",
    "outputId": "541e795b-80d1-49e6-9c9f-e2014690f4a7"
   },
   "outputs": [
    {
     "name": "stdout",
     "output_type": "stream",
     "text": [
      "__________________________________________________________________________________________________\n",
      "Layer (type)                    Output Shape         Param #     Connected to                     \n",
      "==================================================================================================\n",
      "the_input (InputLayer)          (None, 128, 64, 1)   0                                            \n",
      "__________________________________________________________________________________________________\n",
      "conv1 (Conv2D)                  (None, 128, 64, 16)  160         the_input[0][0]                  \n",
      "__________________________________________________________________________________________________\n",
      "max1 (MaxPooling2D)             (None, 64, 32, 16)   0           conv1[0][0]                      \n",
      "__________________________________________________________________________________________________\n",
      "conv2 (Conv2D)                  (None, 64, 32, 16)   2320        max1[0][0]                       \n",
      "__________________________________________________________________________________________________\n",
      "max2 (MaxPooling2D)             (None, 32, 16, 16)   0           conv2[0][0]                      \n",
      "__________________________________________________________________________________________________\n",
      "reshape (Reshape)               (None, 32, 256)      0           max2[0][0]                       \n",
      "__________________________________________________________________________________________________\n",
      "dense1 (Dense)                  (None, 32, 32)       8224        reshape[0][0]                    \n",
      "__________________________________________________________________________________________________\n",
      "gru1 (GRU)                      (None, 32, 512)      837120      dense1[0][0]                     \n",
      "__________________________________________________________________________________________________\n",
      "gru1_b (GRU)                    (None, 32, 512)      837120      dense1[0][0]                     \n",
      "__________________________________________________________________________________________________\n",
      "add_2 (Add)                     (None, 32, 512)      0           gru1[0][0]                       \n",
      "                                                                 gru1_b[0][0]                     \n",
      "__________________________________________________________________________________________________\n",
      "gru2 (GRU)                      (None, 32, 512)      1574400     add_2[0][0]                      \n",
      "__________________________________________________________________________________________________\n",
      "gru2_b (GRU)                    (None, 32, 512)      1574400     add_2[0][0]                      \n",
      "__________________________________________________________________________________________________\n",
      "concatenate_2 (Concatenate)     (None, 32, 1024)     0           gru2[0][0]                       \n",
      "                                                                 gru2_b[0][0]                     \n",
      "__________________________________________________________________________________________________\n",
      "dense2 (Dense)                  (None, 32, 28)       28700       concatenate_2[0][0]              \n",
      "__________________________________________________________________________________________________\n",
      "softmax (Activation)            (None, 32, 28)       0           dense2[0][0]                     \n",
      "==================================================================================================\n",
      "Total params: 4,862,444\n",
      "Trainable params: 4,862,444\n",
      "Non-trainable params: 0\n",
      "__________________________________________________________________________________________________\n",
      "Epoch 1/20\n",
      "400/400 [==============================] - 33s 83ms/step - loss: 11.7526 - val_loss: 8.2385\n",
      "\n",
      "Out of 256 samples:  Mean edit distance: 2.453 Mean normalized edit distance: 0.697\n",
      "Epoch 2/20\n",
      "400/400 [==============================] - 31s 78ms/step - loss: 2.6482 - val_loss: 0.1387\n",
      "\n",
      "Out of 256 samples:  Mean edit distance: 0.027 Mean normalized edit distance: 0.008\n",
      "Epoch 3/20\n",
      "400/400 [==============================] - 31s 78ms/step - loss: -0.0221 - val_loss: 0.0097\n",
      "\n",
      "Out of 256 samples:  Mean edit distance: 0.000 Mean normalized edit distance: 0.000\n",
      "Epoch 4/20\n",
      "400/400 [==============================] - 31s 78ms/step - loss: 5.3349 - val_loss: 1.0058\n",
      "\n",
      "Out of 256 samples:  Mean edit distance: 0.395 Mean normalized edit distance: 0.118\n",
      "Epoch 5/20\n",
      "400/400 [==============================] - 31s 78ms/step - loss: 0.3072 - val_loss: 0.5824\n",
      "\n",
      "Out of 256 samples:  Mean edit distance: 0.176 Mean normalized edit distance: 0.051\n",
      "Epoch 6/20\n",
      "400/400 [==============================] - 31s 78ms/step - loss: 0.1152 - val_loss: 0.1348\n",
      "\n",
      "Out of 256 samples:  Mean edit distance: 0.035 Mean normalized edit distance: 0.011\n",
      "Epoch 7/20\n",
      "400/400 [==============================] - 31s 78ms/step - loss: 0.7144 - val_loss: 0.2596\n",
      "\n",
      "Out of 256 samples:  Mean edit distance: 0.082 Mean normalized edit distance: 0.024\n",
      "Epoch 8/20\n",
      "400/400 [==============================] - 31s 78ms/step - loss: 0.1714 - val_loss: 0.1885\n",
      "\n",
      "Out of 256 samples:  Mean edit distance: 0.043 Mean normalized edit distance: 0.012\n",
      "Epoch 9/20\n",
      "400/400 [==============================] - 31s 78ms/step - loss: 0.1094 - val_loss: 0.1432\n",
      "\n",
      "Out of 256 samples:  Mean edit distance: 0.043 Mean normalized edit distance: 0.012\n",
      "Epoch 10/20\n",
      "400/400 [==============================] - 33s 82ms/step - loss: 0.2492 - val_loss: 0.2701\n",
      "\n",
      "Out of 256 samples:  Mean edit distance: 0.051 Mean normalized edit distance: 0.014\n",
      "Epoch 11/20\n",
      "400/400 [==============================] - 32s 80ms/step - loss: 0.2446 - val_loss: 0.1763\n",
      "\n",
      "Out of 256 samples:  Mean edit distance: 0.039 Mean normalized edit distance: 0.012\n",
      "Epoch 12/20\n",
      "400/400 [==============================] - 32s 80ms/step - loss: 0.1059 - val_loss: 0.2069\n",
      "\n",
      "Out of 256 samples:  Mean edit distance: 0.047 Mean normalized edit distance: 0.013\n",
      "Epoch 13/20\n",
      "400/400 [==============================] - 32s 80ms/step - loss: 0.1069 - val_loss: 0.1097\n",
      "\n",
      "Out of 256 samples:  Mean edit distance: 0.023 Mean normalized edit distance: 0.007\n",
      "Epoch 14/20\n",
      "400/400 [==============================] - 32s 80ms/step - loss: 0.1017 - val_loss: 0.1909\n",
      "\n",
      "Out of 256 samples:  Mean edit distance: 0.051 Mean normalized edit distance: 0.014\n",
      "Epoch 15/20\n",
      "400/400 [==============================] - 32s 80ms/step - loss: 0.0834 - val_loss: 0.1677\n",
      "\n",
      "Out of 256 samples:  Mean edit distance: 0.055 Mean normalized edit distance: 0.016\n",
      "Epoch 16/20\n",
      "400/400 [==============================] - 32s 80ms/step - loss: 0.0608 - val_loss: 0.0878\n",
      "\n",
      "Out of 256 samples:  Mean edit distance: 0.023 Mean normalized edit distance: 0.007\n",
      "Epoch 17/20\n",
      "400/400 [==============================] - 32s 80ms/step - loss: 0.0503 - val_loss: 0.0672\n",
      "\n",
      "Out of 256 samples:  Mean edit distance: 0.012 Mean normalized edit distance: 0.004\n",
      "Epoch 18/20\n",
      "400/400 [==============================] - 31s 78ms/step - loss: 0.0403 - val_loss: 0.1374\n",
      "\n",
      "Out of 256 samples:  Mean edit distance: 0.051 Mean normalized edit distance: 0.015\n",
      "Epoch 19/20\n",
      "400/400 [==============================] - 32s 79ms/step - loss: 0.0384 - val_loss: 0.1222\n",
      "\n",
      "Out of 256 samples:  Mean edit distance: 0.031 Mean normalized edit distance: 0.009\n",
      "Epoch 20/20\n",
      "400/400 [==============================] - 31s 79ms/step - loss: 0.0491 - val_loss: 0.1322\n",
      "\n",
      "Out of 256 samples:  Mean edit distance: 0.039 Mean normalized edit distance: 0.012\n",
      "__________________________________________________________________________________________________\n",
      "Layer (type)                    Output Shape         Param #     Connected to                     \n",
      "==================================================================================================\n",
      "the_input (InputLayer)          (None, 512, 64, 1)   0                                            \n",
      "__________________________________________________________________________________________________\n",
      "conv1 (Conv2D)                  (None, 512, 64, 16)  160         the_input[0][0]                  \n",
      "__________________________________________________________________________________________________\n",
      "max1 (MaxPooling2D)             (None, 256, 32, 16)  0           conv1[0][0]                      \n",
      "__________________________________________________________________________________________________\n",
      "conv2 (Conv2D)                  (None, 256, 32, 16)  2320        max1[0][0]                       \n",
      "__________________________________________________________________________________________________\n",
      "max2 (MaxPooling2D)             (None, 128, 16, 16)  0           conv2[0][0]                      \n",
      "__________________________________________________________________________________________________\n",
      "reshape (Reshape)               (None, 128, 256)     0           max2[0][0]                       \n",
      "__________________________________________________________________________________________________\n",
      "dense1 (Dense)                  (None, 128, 32)      8224        reshape[0][0]                    \n",
      "__________________________________________________________________________________________________\n",
      "gru1 (GRU)                      (None, 128, 512)     837120      dense1[0][0]                     \n",
      "__________________________________________________________________________________________________\n",
      "gru1_b (GRU)                    (None, 128, 512)     837120      dense1[0][0]                     \n",
      "__________________________________________________________________________________________________\n",
      "add_3 (Add)                     (None, 128, 512)     0           gru1[0][0]                       \n",
      "                                                                 gru1_b[0][0]                     \n",
      "__________________________________________________________________________________________________\n",
      "gru2 (GRU)                      (None, 128, 512)     1574400     add_3[0][0]                      \n",
      "__________________________________________________________________________________________________\n",
      "gru2_b (GRU)                    (None, 128, 512)     1574400     add_3[0][0]                      \n",
      "__________________________________________________________________________________________________\n",
      "concatenate_3 (Concatenate)     (None, 128, 1024)    0           gru2[0][0]                       \n",
      "                                                                 gru2_b[0][0]                     \n",
      "__________________________________________________________________________________________________\n",
      "dense2 (Dense)                  (None, 128, 28)      28700       concatenate_3[0][0]              \n",
      "__________________________________________________________________________________________________\n",
      "softmax (Activation)            (None, 128, 28)      0           dense2[0][0]                     \n",
      "==================================================================================================\n",
      "Total params: 4,862,444\n",
      "Trainable params: 4,862,444\n",
      "Non-trainable params: 0\n",
      "__________________________________________________________________________________________________\n"
     ]
    },
    {
     "name": "stdout",
     "output_type": "stream",
     "text": [
      "Epoch 21/25\n",
      "400/400 [==============================] - 124s 311ms/step - loss: 0.3340 - val_loss: 0.4300\n",
      "\n",
      "Out of 256 samples:  Mean edit distance: 0.055 Mean normalized edit distance: 0.015\n",
      "Epoch 22/25\n",
      "400/400 [==============================] - 123s 307ms/step - loss: 0.6911 - val_loss: 0.5141\n",
      "\n",
      "Out of 256 samples:  Mean edit distance: 0.078 Mean normalized edit distance: 0.010\n",
      "Epoch 23/25\n",
      "400/400 [==============================] - 122s 305ms/step - loss: 0.2677 - val_loss: 0.3902\n",
      "\n",
      "Out of 256 samples:  Mean edit distance: 0.055 Mean normalized edit distance: 0.006\n",
      "Epoch 24/25\n",
      "400/400 [==============================] - 124s 311ms/step - loss: 0.3095 - val_loss: 0.3366\n",
      "\n",
      "Out of 256 samples:  Mean edit distance: 0.074 Mean normalized edit distance: 0.008\n",
      "Epoch 25/25\n",
      "400/400 [==============================] - 124s 310ms/step - loss: 0.2462 - val_loss: 0.3427\n",
      "\n",
      "Out of 256 samples:  Mean edit distance: 0.094 Mean normalized edit distance: 0.013\n"
     ]
    }
   ],
   "source": [
    "run_name = datetime.datetime.now().strftime('%Y:%m:%d:%H:%M:%S')\n",
    "train(run_name, 0, 20, 128)\n",
    "# increase to wider images and start at epoch 20. The learned weights are reloaded\n",
    "train(run_name, 20, 25, 512)"
   ]
  },
  {
   "cell_type": "markdown",
   "metadata": {
    "colab_type": "text",
    "id": "P4jVRC6J3vUy"
   },
   "source": [
    "## Predict\n"
   ]
  },
  {
   "cell_type": "code",
   "execution_count": null,
   "metadata": {},
   "outputs": [],
   "source": [
    "# update this path with the date from your run of this notebook\n",
    "weight_file = './image_ocr/2019:06:04:19:45:12/weights24.h5'"
   ]
  },
  {
   "cell_type": "code",
   "execution_count": 19,
   "metadata": {
    "colab": {
     "autoexec": {
      "startup": false,
      "wait_interval": 0
     },
     "base_uri": "https://localhost:8080/",
     "height": 714
    },
    "colab_type": "code",
    "executionInfo": {
     "elapsed": 5918,
     "status": "ok",
     "timestamp": 1526105966476,
     "user": {
      "displayName": "Chengwei Zhang",
      "photoUrl": "//lh5.googleusercontent.com/-FK2ckwmh6mM/AAAAAAAAAAI/AAAAAAAAPLw/SX9b1QAzJ5g/s50-c-k-no/photo.jpg",
      "userId": "114808171854651597062"
     },
     "user_tz": -480
    },
    "id": "on6qCFcV5uPx",
    "outputId": "3dcc507c-3baa-4d00-d38f-eb2e65d840b0"
   },
   "outputs": [
    {
     "name": "stdout",
     "output_type": "stream",
     "text": [
      "__________________________________________________________________________________________________\n",
      "Layer (type)                    Output Shape         Param #     Connected to                     \n",
      "==================================================================================================\n",
      "the_input (InputLayer)          (None, 128, 64, 1)   0                                            \n",
      "__________________________________________________________________________________________________\n",
      "conv1 (Conv2D)                  (None, 128, 64, 16)  160         the_input[0][0]                  \n",
      "__________________________________________________________________________________________________\n",
      "max1 (MaxPooling2D)             (None, 64, 32, 16)   0           conv1[0][0]                      \n",
      "__________________________________________________________________________________________________\n",
      "conv2 (Conv2D)                  (None, 64, 32, 16)   2320        max1[0][0]                       \n",
      "__________________________________________________________________________________________________\n",
      "max2 (MaxPooling2D)             (None, 32, 16, 16)   0           conv2[0][0]                      \n",
      "__________________________________________________________________________________________________\n",
      "reshape (Reshape)               (None, 32, 256)      0           max2[0][0]                       \n",
      "__________________________________________________________________________________________________\n",
      "dense1 (Dense)                  (None, 32, 32)       8224        reshape[0][0]                    \n",
      "__________________________________________________________________________________________________\n",
      "gru1 (GRU)                      (None, 32, 512)      837120      dense1[0][0]                     \n",
      "__________________________________________________________________________________________________\n",
      "gru1_b (GRU)                    (None, 32, 512)      837120      dense1[0][0]                     \n",
      "__________________________________________________________________________________________________\n",
      "add_6 (Add)                     (None, 32, 512)      0           gru1[0][0]                       \n",
      "                                                                 gru1_b[0][0]                     \n",
      "__________________________________________________________________________________________________\n",
      "gru2 (GRU)                      (None, 32, 512)      1574400     add_6[0][0]                      \n",
      "__________________________________________________________________________________________________\n",
      "gru2_b (GRU)                    (None, 32, 512)      1574400     add_6[0][0]                      \n",
      "__________________________________________________________________________________________________\n",
      "concatenate_6 (Concatenate)     (None, 32, 1024)     0           gru2[0][0]                       \n",
      "                                                                 gru2_b[0][0]                     \n",
      "__________________________________________________________________________________________________\n",
      "dense2 (Dense)                  (None, 32, 28)       28700       concatenate_6[0][0]              \n",
      "__________________________________________________________________________________________________\n",
      "softmax (Activation)            (None, 32, 28)       0           dense2[0][0]                     \n",
      "==================================================================================================\n",
      "Total params: 4,862,444\n",
      "Trainable params: 4,862,444\n",
      "Non-trainable params: 0\n",
      "__________________________________________________________________________________________________\n"
     ]
    }
   ],
   "source": [
    "\n",
    "img_w = 128\n",
    "# Input Parameters\n",
    "img_h = 64\n",
    "words_per_epoch = 16000\n",
    "val_split = 0.2\n",
    "val_words = int(words_per_epoch * (val_split))\n",
    "\n",
    "# Network parameters\n",
    "conv_filters = 16\n",
    "kernel_size = (3, 3)\n",
    "pool_size = 2\n",
    "time_dense_size = 32\n",
    "rnn_size = 512\n",
    "minibatch_size = 32\n",
    "\n",
    "if K.image_data_format() == 'channels_first':\n",
    "    input_shape = (1, img_w, img_h)\n",
    "else:\n",
    "    input_shape = (img_w, img_h, 1)\n",
    "\n",
    "fdir = os.path.dirname(get_file('wordlists.tgz',\n",
    "                                origin='http://www.mythic-ai.com/datasets/wordlists.tgz', untar=True))\n",
    "\n",
    "img_gen = TextImageGenerator(monogram_file=os.path.join(fdir, 'wordlist_mono_clean.txt'),\n",
    "                             bigram_file=os.path.join(fdir, 'wordlist_bi_clean.txt'),\n",
    "                             minibatch_size=minibatch_size,\n",
    "                             img_w=img_w,\n",
    "                             img_h=img_h,\n",
    "                             downsample_factor=(pool_size ** 2),\n",
    "                             val_split=words_per_epoch - val_words\n",
    "                             )\n",
    "act = 'relu'\n",
    "input_data = Input(name='the_input', shape=input_shape, dtype='float32')\n",
    "inner = Conv2D(conv_filters, kernel_size, padding='same',\n",
    "               activation=act, kernel_initializer='he_normal',\n",
    "               name='conv1')(input_data)\n",
    "inner = MaxPooling2D(pool_size=(pool_size, pool_size), name='max1')(inner)\n",
    "inner = Conv2D(conv_filters, kernel_size, padding='same',\n",
    "               activation=act, kernel_initializer='he_normal',\n",
    "               name='conv2')(inner)\n",
    "inner = MaxPooling2D(pool_size=(pool_size, pool_size), name='max2')(inner)\n",
    "\n",
    "conv_to_rnn_dims = (img_w // (pool_size ** 2), (img_h // (pool_size ** 2)) * conv_filters)\n",
    "inner = Reshape(target_shape=conv_to_rnn_dims, name='reshape')(inner)\n",
    "\n",
    "# cuts down input size going into RNN:\n",
    "inner = Dense(time_dense_size, activation=act, name='dense1')(inner)\n",
    "\n",
    "# Two layers of bidirectional GRUs\n",
    "# GRU seems to work as well, if not better than LSTM:\n",
    "gru_1 = GRU(rnn_size, return_sequences=True, kernel_initializer='he_normal', name='gru1')(inner)\n",
    "gru_1b = GRU(rnn_size, return_sequences=True, go_backwards=True, kernel_initializer='he_normal', name='gru1_b')(inner)\n",
    "gru1_merged = add([gru_1, gru_1b])\n",
    "gru_2 = GRU(rnn_size, return_sequences=True, kernel_initializer='he_normal', name='gru2')(gru1_merged)\n",
    "gru_2b = GRU(rnn_size, return_sequences=True, go_backwards=True, kernel_initializer='he_normal', name='gru2_b')(gru1_merged)\n",
    "\n",
    "# transforms RNN output to character activations:\n",
    "inner = Dense(img_gen.get_output_size(), kernel_initializer='he_normal',\n",
    "              name='dense2')(concatenate([gru_2, gru_2b]))\n",
    "y_pred = Activation('softmax', name='softmax')(inner)\n",
    "Model(inputs=input_data, outputs=y_pred).summary()\n",
    "\n",
    "labels = Input(name='the_labels', shape=[img_gen.absolute_max_string_len], dtype='float32')\n",
    "input_length = Input(name='input_length', shape=[1], dtype='int64')\n",
    "label_length = Input(name='label_length', shape=[1], dtype='int64')\n",
    "# Keras doesn't currently support loss funcs with extra parameters\n",
    "# so CTC loss is implemented in a lambda layer\n",
    "loss_out = Lambda(ctc_lambda_func, output_shape=(1,), name='ctc')([y_pred, labels, input_length, label_length])\n",
    "\n",
    "# clipnorm seems to speeds up convergence\n",
    "sgd = SGD(lr=0.02, decay=1e-6, momentum=0.9, nesterov=True, clipnorm=5)\n",
    "\n",
    "model = Model(inputs=[input_data, labels, input_length, label_length], outputs=loss_out)\n",
    "\n",
    "# the loss calc occurs elsewhere, so use a dummy lambda func for the loss\n",
    "model.compile(loss={'ctc': lambda y_true, y_pred: y_pred}, optimizer=sgd)\n",
    "model.load_weights(weight_file)\n",
    "# captures output of softmax so we can decode the output during visualization\n",
    "test_func = K.function([input_data], [y_pred])\n"
   ]
  },
  {
   "cell_type": "code",
   "execution_count": 20,
   "metadata": {
    "colab": {
     "autoexec": {
      "startup": false,
      "wait_interval": 0
     },
     "base_uri": "https://localhost:8080/",
     "height": 1549
    },
    "colab_type": "code",
    "executionInfo": {
     "elapsed": 2778,
     "status": "ok",
     "timestamp": 1526105969268,
     "user": {
      "displayName": "Chengwei Zhang",
      "photoUrl": "//lh5.googleusercontent.com/-FK2ckwmh6mM/AAAAAAAAAAI/AAAAAAAAPLw/SX9b1QAzJ5g/s50-c-k-no/photo.jpg",
      "userId": "114808171854651597062"
     },
     "user_tz": -480
    },
    "id": "_f_3wfZr36dq",
    "outputId": "c360da6c-190e-4a05-fa1c-46f8018161b9"
   },
   "outputs": [
    {
     "data": {
      "image/png": "[encoded data removed]",
      "text/plain": [
       "<IPython.core.display.Image object>"
      ]
     },
     "execution_count": 20,
     "metadata": {},
     "output_type": "execute_result"
    }
   ],
   "source": [
    "from keras.utils import plot_model\n",
    "plot_model(model, to_file='model.png', show_shapes=True)\n",
    "from IPython.display import Image\n",
    "Image(filename='model.png')"
   ]
  },
  {
   "cell_type": "code",
   "execution_count": 21,
   "metadata": {
    "colab": {
     "autoexec": {
      "startup": false,
      "wait_interval": 0
     }
    },
    "colab_type": "code",
    "id": "YrSqXKIY4WRU"
   },
   "outputs": [],
   "source": [
    "model_p = Model(inputs=input_data, outputs=y_pred)"
   ]
  },
  {
   "cell_type": "code",
   "execution_count": 22,
   "metadata": {
    "colab": {
     "autoexec": {
      "startup": false,
      "wait_interval": 0
     }
    },
    "colab_type": "code",
    "id": "SDkiHH8_4aVJ"
   },
   "outputs": [],
   "source": [
    "def decode_predict_ctc(out, top_paths = 1):\n",
    "    results = []\n",
    "    beam_width = 5\n",
    "    if beam_width < top_paths:\n",
    "      beam_width = top_paths\n",
    "    for i in range(top_paths):\n",
    "      lables = K.get_value(K.ctc_decode(out, input_length=np.ones(out.shape[0])*out.shape[1],\n",
    "                           greedy=False, beam_width=beam_width, top_paths=top_paths)[0][i])[0]\n",
    "      text = labels_to_text(lables)\n",
    "      results.append(text)\n",
    "    return results\n",
    "  \n",
    "def predit_a_image(a, top_paths = 1):\n",
    "  c = np.expand_dims(a.T, axis=0)\n",
    "  net_out_value = model_p.predict(c)\n",
    "  top_pred_texts = decode_predict_ctc(net_out_value, top_paths)\n",
    "  return top_pred_texts\n",
    "\n"
   ]
  },
  {
   "cell_type": "code",
   "execution_count": 23,
   "metadata": {
    "colab": {
     "autoexec": {
      "startup": false,
      "wait_interval": 0
     },
     "base_uri": "https://localhost:8080/",
     "height": 290
    },
    "colab_type": "code",
    "executionInfo": {
     "elapsed": 1118,
     "status": "ok",
     "timestamp": 1526107425874,
     "user": {
      "displayName": "Chengwei Zhang",
      "photoUrl": "//lh5.googleusercontent.com/-FK2ckwmh6mM/AAAAAAAAAAI/AAAAAAAAPLw/SX9b1QAzJ5g/s50-c-k-no/photo.jpg",
      "userId": "114808171854651597062"
     },
     "user_tz": -480
    },
    "id": "gVH2yF7DAm10",
    "outputId": "8e483e0f-87a3-4302-bb83-4e28497d135b"
   },
   "outputs": [
    {
     "data": {
      "image/png": "[encoded data removed]",
      "text/plain": [
       "<Figure size 432x288 with 1 Axes>"
      ]
     },
     "metadata": {
      "needs_background": "light"
     },
     "output_type": "display_data"
    },
    {
     "name": "stdout",
     "output_type": "stream",
     "text": [
      "WARNING:tensorflow:From /usr/local/lib/python3.5/dist-packages/keras/backend/tensorflow_backend.py:4303: sparse_to_dense (from tensorflow.python.ops.sparse_ops) is deprecated and will be removed in a future version.\n",
      "Instructions for updating:\n",
      "Create a `tf.sparse.SparseTensor` and use `tf.sparse.to_dense` instead.\n"
     ]
    },
    {
     "data": {
      "text/plain": [
       "['a game']"
      ]
     },
     "execution_count": 23,
     "metadata": {},
     "output_type": "execute_result"
    }
   ],
   "source": [
    "h = 64\n",
    "w = 128\n",
    "a = paint_text('a game',h = h, w = w)\n",
    "b = a.reshape((h, w))\n",
    "plt.imshow(b, cmap='Greys_r')\n",
    "plt.show()\n",
    "\n",
    "c = np.expand_dims(a.T, axis=0)\n",
    "\n",
    "net_out_value = model_p.predict(c)\n",
    "pred_texts = decode_predict_ctc(net_out_value)\n",
    "pred_texts"
   ]
  },
  {
   "cell_type": "code",
   "execution_count": 24,
   "metadata": {
    "colab": {
     "autoexec": {
      "startup": false,
      "wait_interval": 0
     },
     "base_uri": "https://localhost:8080/",
     "height": 34
    },
    "colab_type": "code",
    "executionInfo": {
     "elapsed": 625,
     "status": "ok",
     "timestamp": 1526107438636,
     "user": {
      "displayName": "Chengwei Zhang",
      "photoUrl": "//lh5.googleusercontent.com/-FK2ckwmh6mM/AAAAAAAAAAI/AAAAAAAAPLw/SX9b1QAzJ5g/s50-c-k-no/photo.jpg",
      "userId": "114808171854651597062"
     },
     "user_tz": -480
    },
    "id": "Zzahy6G-HXy4",
    "outputId": "2a92f768-1cd5-4456-8994-073886b1205f"
   },
   "outputs": [
    {
     "data": {
      "text/plain": [
       "['a game', 'ag game', 'a g game']"
      ]
     },
     "execution_count": 24,
     "metadata": {},
     "output_type": "execute_result"
    }
   ],
   "source": [
    "predit_a_image(a, top_paths = 3)"
   ]
  },
  {
   "cell_type": "code",
   "execution_count": 25,
   "metadata": {
    "colab": {
     "autoexec": {
      "startup": false,
      "wait_interval": 0
     },
     "base_uri": "https://localhost:8080/",
     "height": 347
    },
    "colab_type": "code",
    "executionInfo": {
     "elapsed": 616,
     "status": "ok",
     "timestamp": 1526105974272,
     "user": {
      "displayName": "Chengwei Zhang",
      "photoUrl": "//lh5.googleusercontent.com/-FK2ckwmh6mM/AAAAAAAAAAI/AAAAAAAAPLw/SX9b1QAzJ5g/s50-c-k-no/photo.jpg",
      "userId": "114808171854651597062"
     },
     "user_tz": -480
    },
    "id": "RPuabD6PAqFR",
    "outputId": "a45dfe84-156d-4290-9cfd-601a24b27684"
   },
   "outputs": [
    {
     "data": {
      "image/png": "[encoded data removed]",
      "text/plain": [
       "<Figure size 432x288 with 1 Axes>"
      ]
     },
     "metadata": {
      "needs_background": "light"
     },
     "output_type": "display_data"
    }
   ],
   "source": [
    "plt.imshow(net_out_value[0].T, cmap='binary', interpolation='nearest')\n",
    "plt.show()"
   ]
  },
  {
   "cell_type": "code",
   "execution_count": 26,
   "metadata": {
    "colab": {
     "autoexec": {
      "startup": false,
      "wait_interval": 0
     },
     "base_uri": "https://localhost:8080/",
     "height": 34
    },
    "colab_type": "code",
    "executionInfo": {
     "elapsed": 645,
     "status": "ok",
     "timestamp": 1526105974956,
     "user": {
      "displayName": "Chengwei Zhang",
      "photoUrl": "//lh5.googleusercontent.com/-FK2ckwmh6mM/AAAAAAAAAAI/AAAAAAAAPLw/SX9b1QAzJ5g/s50-c-k-no/photo.jpg",
      "userId": "114808171854651597062"
     },
     "user_tz": -480
    },
    "id": "9M94ioRQA217",
    "outputId": "3b1d8af0-4768-4954-bba3-fdb81df9e9c4"
   },
   "outputs": [
    {
     "data": {
      "text/plain": [
       "array([[ 0, 26,  6,  0, 12,  4]])"
      ]
     },
     "execution_count": 26,
     "metadata": {},
     "output_type": "execute_result"
    }
   ],
   "source": [
    "K.get_value(K.ctc_decode(net_out_value, input_length=np.ones(net_out_value.shape[0])*net_out_value.shape[1],\n",
    "                         greedy=False, beam_width=3, top_paths=3)[0][0])"
   ]
  },
  {
   "cell_type": "code",
   "execution_count": 27,
   "metadata": {
    "colab": {
     "autoexec": {
      "startup": false,
      "wait_interval": 0
     },
     "base_uri": "https://localhost:8080/",
     "height": 136
    },
    "colab_type": "code",
    "executionInfo": {
     "elapsed": 622,
     "status": "ok",
     "timestamp": 1526106981099,
     "user": {
      "displayName": "Chengwei Zhang",
      "photoUrl": "//lh5.googleusercontent.com/-FK2ckwmh6mM/AAAAAAAAAAI/AAAAAAAAPLw/SX9b1QAzJ5g/s50-c-k-no/photo.jpg",
      "userId": "114808171854651597062"
     },
     "user_tz": -480
    },
    "id": "VeB1FAyVIpl_",
    "outputId": "bec04e29-83e9-4614-8c31-700a16b7b898"
   },
   "outputs": [
    {
     "data": {
      "text/plain": [
       "([<tf.Tensor 'SparseToDense_13:0' shape=(1, 6) dtype=int64>,\n",
       "  <tf.Tensor 'SparseToDense_14:0' shape=(1, 7) dtype=int64>,\n",
       "  <tf.Tensor 'SparseToDense_15:0' shape=(1, 8) dtype=int64>],\n",
       " <tf.Tensor 'CTCBeamSearchDecoder_5:9' shape=(1, 3) dtype=float32>)"
      ]
     },
     "execution_count": 27,
     "metadata": {},
     "output_type": "execute_result"
    }
   ],
   "source": [
    "K.ctc_decode(net_out_value, input_length=np.ones(net_out_value.shape[0])*net_out_value.shape[1],\n",
    "                         greedy=False, beam_width=5, top_paths=3)"
   ]
  },
  {
   "cell_type": "code",
   "execution_count": 28,
   "metadata": {
    "colab": {
     "autoexec": {
      "startup": false,
      "wait_interval": 0
     },
     "base_uri": "https://localhost:8080/",
     "height": 34
    },
    "colab_type": "code",
    "executionInfo": {
     "elapsed": 1681,
     "status": "ok",
     "timestamp": 1526105901853,
     "user": {
      "displayName": "Chengwei Zhang",
      "photoUrl": "//lh5.googleusercontent.com/-FK2ckwmh6mM/AAAAAAAAAAI/AAAAAAAAPLw/SX9b1QAzJ5g/s50-c-k-no/photo.jpg",
      "userId": "114808171854651597062"
     },
     "user_tz": -480
    },
    "id": "b0NDGYZwKElX",
    "outputId": "e8395f8a-b8c9-46dc-b174-dba3de6fe884"
   },
   "outputs": [
    {
     "name": "stdout",
     "output_type": "stream",
     "text": [
      "image-ocr.ipynb  image_ocr  model.png  requirements.txt\r\n"
     ]
    }
   ],
   "source": [
    "!ls"
   ]
  },
  {
   "cell_type": "code",
   "execution_count": 29,
   "metadata": {
    "colab": {
     "autoexec": {
      "startup": false,
      "wait_interval": 0
     },
     "base_uri": "https://localhost:8080/",
     "height": 34
    },
    "colab_type": "code",
    "executionInfo": {
     "elapsed": 1392,
     "status": "ok",
     "timestamp": 1526106995201,
     "user": {
      "displayName": "Chengwei Zhang",
      "photoUrl": "//lh5.googleusercontent.com/-FK2ckwmh6mM/AAAAAAAAAAI/AAAAAAAAPLw/SX9b1QAzJ5g/s50-c-k-no/photo.jpg",
      "userId": "114808171854651597062"
     },
     "user_tz": -480
    },
    "id": "Qe-RceTPK-yJ",
    "outputId": "7081439c-61f3-4e2d-f293-5c68721d6496"
   },
   "outputs": [
    {
     "data": {
      "text/plain": [
       "array([[ 0, 26,  6,  0, 12,  4]])"
      ]
     },
     "execution_count": 29,
     "metadata": {},
     "output_type": "execute_result"
    }
   ],
   "source": [
    "K.get_value(K.ctc_decode(net_out_value, input_length=np.ones(net_out_value.shape[0])*net_out_value.shape[1],\n",
    "                         greedy=False, beam_width=3, top_paths=3)[0][0])"
   ]
  },
  {
   "cell_type": "code",
   "execution_count": 32,
   "metadata": {
    "colab": {
     "autoexec": {
      "startup": false,
      "wait_interval": 0
     }
    },
    "colab_type": "code",
    "id": "qz7VeMhxC7ID"
   },
   "outputs": [],
   "source": [
    "K.ctc_decode?"
   ]
  },
  {
   "cell_type": "code",
   "execution_count": 0,
   "metadata": {
    "colab": {
     "autoexec": {
      "startup": false,
      "wait_interval": 0
     }
    },
    "colab_type": "code",
    "id": "aCAJ0joMDJWO"
   },
   "outputs": [],
   "source": []
  }
 ],
 "metadata": {
  "accelerator": "GPU",
  "colab": {
   "collapsed_sections": [],
   "default_view": {},
   "name": "image_ocr.ipynb",
   "provenance": [],
   "version": "0.3.2",
   "views": {}
  },
  "kernelspec": {
   "display_name": "Python 3",
   "language": "python",
   "name": "python3"
  },
  "language_info": {
   "codemirror_mode": {
    "name": "ipython",
    "version": 3
   },
   "file_extension": ".py",
   "mimetype": "text/x-python",
   "name": "python",
   "nbconvert_exporter": "python",
   "pygments_lexer": "ipython3",
   "version": "3.5.2"
  }
 },
 "nbformat": 4,
 "nbformat_minor": 1
}
