{
 "cells": [
  {
   "cell_type": "markdown",
   "metadata": {},
   "source": [
    "## References\n",
    "\n",
    "https://keras.io/examples/image_ocr/\n",
    "    \n",
    "    This example uses a convolutional stack followed by a recurrent stack and a CTC logloss function to perform optical character recognition of generated text images.\n",
    "    \n",
    "https://github.com/Tony607/keras-image-ocr\n",
    "\n",
    "    Chengwei Zhang adds prediction to the original keras.io/examples/image_ocr/\n",
    "\n",
    "https://www.dlology.com/blog/how-to-train-a-keras-model-to-recognize-variable-length-text/\n",
    "\n",
    "    Excellent article my Chengwei Zhang on the operation of this code and his addition to keras.io/examples/image_ocr."
   ]
  },
  {
   "cell_type": "markdown",
   "metadata": {
    "colab_type": "text",
    "id": "NH-B4hb1E00o"
   },
   "source": [
    "## Docker\n",
    "\n",
    "The dlology article explains how to run the code in the cloud and locally on your host by installing packages. You will see 'apt install' and 'pip install' in the Tony607 version of this notebook.\n",
    "\n",
    "I'm a docker fan.  On my Ubuntu system, I only installed the nvidia drivers and nvidia's docker.  Keras and Tensorflow are run in a container. See https://www.tensorflow.org/install/docker for details on installation.\n",
    "\n",
    "`/bin/bash build.sh` to build the docker container with everything needed. This is found in the docker directory of this project.\n",
    "\n",
    "`/bin/bash run.sh` to run the docker image.  This is found in the docker directory of this project."
   ]
  },
  {
   "cell_type": "code",
   "execution_count": 1,
   "metadata": {
    "colab": {
     "autoexec": {
      "startup": false,
      "wait_interval": 0
     },
     "base_uri": "https://localhost:8080/",
     "height": 34
    },
    "colab_type": "code",
    "executionInfo": {
     "elapsed": 7776,
     "status": "ok",
     "timestamp": 1526105952629,
     "user": {
      "displayName": "Chengwei Zhang",
      "photoUrl": "//lh5.googleusercontent.com/-FK2ckwmh6mM/AAAAAAAAAAI/AAAAAAAAPLw/SX9b1QAzJ5g/s50-c-k-no/photo.jpg",
      "userId": "114808171854651597062"
     },
     "user_tz": -480
    },
    "id": "1wsDPx682A7H",
    "outputId": "88ee055c-b674-4a81-c869-8401551f09d7"
   },
   "outputs": [
    {
     "name": "stderr",
     "output_type": "stream",
     "text": [
      "Using TensorFlow backend.\n"
     ]
    }
   ],
   "source": [
    "import os\n",
    "import itertools\n",
    "import codecs\n",
    "import re\n",
    "import datetime\n",
    "import cairocffi as cairo\n",
    "import editdistance\n",
    "import numpy as np\n",
    "from scipy import ndimage\n",
    "import pylab\n",
    "import matplotlib.pyplot as plt\n",
    "from keras import backend as K\n",
    "from keras.layers.convolutional import Conv2D, MaxPooling2D\n",
    "from keras.layers import Input, Dense, Activation\n",
    "from keras.layers import Reshape, Lambda\n",
    "from keras.layers.merge import add, concatenate\n",
    "from keras.models import Model\n",
    "from keras.layers.recurrent import GRU\n",
    "from keras.optimizers import SGD\n",
    "from keras.utils.data_utils import get_file\n",
    "from keras.preprocessing import image\n",
    "import keras.callbacks"
   ]
  },
  {
   "cell_type": "code",
   "execution_count": 2,
   "metadata": {
    "colab": {
     "autoexec": {
      "startup": false,
      "wait_interval": 0
     }
    },
    "colab_type": "code",
    "id": "Xnj6R_OE3yMl"
   },
   "outputs": [],
   "source": [
    "OUTPUT_DIR = 'image_ocr'\n",
    "\n",
    "# character classes and matching regex filter\n",
    "regex = r'^[a-z ]+$'\n",
    "alphabet = u'abcdefghijklmnopqrstuvwxyz '\n",
    "\n",
    "np.random.seed(55)"
   ]
  },
  {
   "cell_type": "code",
   "execution_count": 3,
   "metadata": {
    "colab": {
     "autoexec": {
      "startup": false,
      "wait_interval": 0
     }
    },
    "colab_type": "code",
    "id": "mM0eHsJO5bP6"
   },
   "outputs": [],
   "source": [
    "\n",
    "# this creates larger \"blotches\" of noise which look\n",
    "# more realistic than just adding gaussian noise\n",
    "# assumes greyscale with pixels ranging from 0 to 1\n",
    "\n",
    "def speckle(img):\n",
    "    severity = np.random.uniform(0, 0.6)\n",
    "    blur = ndimage.gaussian_filter(np.random.randn(*img.shape) * severity, 1)\n",
    "    img_speck = (img + blur)\n",
    "    img_speck[img_speck > 1] = 1\n",
    "    img_speck[img_speck <= 0] = 0\n",
    "    return img_speck\n",
    "\n",
    "\n",
    "# paints the string in a random location the bounding box\n",
    "# also uses a random font, a slight random rotation,\n",
    "# and a random amount of speckle noise\n",
    "\n",
    "def paint_text(text, w, h, rotate=False, ud=False, multi_fonts=False):\n",
    "    surface = cairo.ImageSurface(cairo.FORMAT_RGB24, w, h)\n",
    "    with cairo.Context(surface) as context:\n",
    "        context.set_source_rgb(1, 1, 1)  # White\n",
    "        context.paint()\n",
    "        # this font list works in CentOS 7\n",
    "        if multi_fonts:\n",
    "            fonts = ['Century Schoolbook', 'Courier', 'STIX', 'URW Chancery L', 'FreeMono']\n",
    "            context.select_font_face(np.random.choice(fonts), cairo.FONT_SLANT_NORMAL,\n",
    "                                     np.random.choice([cairo.FONT_WEIGHT_BOLD, cairo.FONT_WEIGHT_NORMAL]))\n",
    "        else:\n",
    "            context.select_font_face('Courier', cairo.FONT_SLANT_NORMAL, cairo.FONT_WEIGHT_BOLD)\n",
    "        context.set_font_size(25)\n",
    "        box = context.text_extents(text)\n",
    "        border_w_h = (4, 4)\n",
    "        if box[2] > (w - 2 * border_w_h[1]) or box[3] > (h - 2 * border_w_h[0]):\n",
    "            raise IOError('Could not fit string into image. Max char count is too large for given image width.')\n",
    "\n",
    "        # teach the RNN translational invariance by\n",
    "        # fitting text box randomly on canvas, with some room to rotate\n",
    "        max_shift_x = w - box[2] - border_w_h[0]\n",
    "        max_shift_y = h - box[3] - border_w_h[1]\n",
    "        top_left_x = np.random.randint(0, int(max_shift_x))\n",
    "        if ud:\n",
    "            top_left_y = np.random.randint(0, int(max_shift_y))\n",
    "        else:\n",
    "            top_left_y = h // 2\n",
    "        context.move_to(top_left_x - int(box[0]), top_left_y - int(box[1]))\n",
    "        context.set_source_rgb(0, 0, 0)\n",
    "        context.show_text(text)\n",
    "\n",
    "    buf = surface.get_data()\n",
    "    a = np.frombuffer(buf, np.uint8)\n",
    "    a.shape = (h, w, 4)\n",
    "    a = a[:, :, 0]  # grab single channel\n",
    "    a = a.astype(np.float32) / 255\n",
    "    a = np.expand_dims(a, 0)\n",
    "    if rotate:\n",
    "        a = image.random_rotation(a, 3 * (w - top_left_x) / w + 1)\n",
    "    a = speckle(a)\n",
    "\n",
    "    return a\n",
    "\n",
    "\n",
    "def shuffle_mats_or_lists(matrix_list, stop_ind=None):\n",
    "    ret = []\n",
    "    assert all([len(i) == len(matrix_list[0]) for i in matrix_list])\n",
    "    len_val = len(matrix_list[0])\n",
    "    if stop_ind is None:\n",
    "        stop_ind = len_val\n",
    "    assert stop_ind <= len_val\n",
    "\n",
    "    a = list(range(stop_ind))\n",
    "    np.random.shuffle(a)\n",
    "    a += list(range(stop_ind, len_val))\n",
    "    for mat in matrix_list:\n",
    "        if isinstance(mat, np.ndarray):\n",
    "            ret.append(mat[a])\n",
    "        elif isinstance(mat, list):\n",
    "            ret.append([mat[i] for i in a])\n",
    "        else:\n",
    "            raise TypeError('`shuffle_mats_or_lists` only supports '\n",
    "                            'numpy.array and list objects.')\n",
    "    return ret\n",
    "\n",
    "\n",
    "# Translation of characters to unique integer values\n",
    "def text_to_labels(text):\n",
    "    ret = []\n",
    "    for char in text:\n",
    "        ret.append(alphabet.find(char))\n",
    "    return ret\n",
    "\n",
    "\n",
    "# Reverse translation of numerical classes back to characters\n",
    "def labels_to_text(labels):\n",
    "    ret = []\n",
    "    for c in labels:\n",
    "        if c == len(alphabet):  # CTC Blank\n",
    "            ret.append(\"\")\n",
    "        else:\n",
    "            ret.append(alphabet[c])\n",
    "    return \"\".join(ret)\n",
    "\n",
    "\n",
    "# only a-z and space..probably not to difficult\n",
    "# to expand to uppercase and symbols\n",
    "\n",
    "def is_valid_str(in_str):\n",
    "    search = re.compile(regex, re.UNICODE).search\n",
    "    return bool(search(in_str))\n"
   ]
  },
  {
   "cell_type": "code",
   "execution_count": 9,
   "metadata": {
    "colab": {
     "autoexec": {
      "startup": false,
      "wait_interval": 0
     }
    },
    "colab_type": "code",
    "id": "HBLwtxF35f0c"
   },
   "outputs": [],
   "source": [
    "\n",
    "# Uses generator functions to supply train/test with\n",
    "# data. Image renderings are text are created on the fly\n",
    "# each time with random perturbations\n",
    "\n",
    "class TextImageGenerator(keras.callbacks.Callback):\n",
    "\n",
    "    def __init__(self, monogram_file, bigram_file, minibatch_size,\n",
    "                 img_w, img_h, downsample_factor, val_split,\n",
    "                 absolute_max_string_len=16):\n",
    "\n",
    "        self.minibatch_size = minibatch_size\n",
    "        self.img_w = img_w\n",
    "        self.img_h = img_h\n",
    "        self.monogram_file = monogram_file\n",
    "        self.bigram_file = bigram_file\n",
    "        self.downsample_factor = downsample_factor\n",
    "        self.val_split = val_split\n",
    "        self.blank_label = self.get_output_size() - 1\n",
    "        self.absolute_max_string_len = absolute_max_string_len\n",
    "\n",
    "    def get_output_size(self):\n",
    "        return len(alphabet) + 1\n",
    "\n",
    "    # num_words can be independent of the epoch size due to the use of generators\n",
    "    # as max_string_len grows, num_words can grow\n",
    "    # updates self.Y_len, self.Y_data, self.X_text, cur_val_index, cur_train_index\n",
    "    def build_word_list(self, num_words, max_string_len=None, mono_fraction=0.5):\n",
    "        assert max_string_len <= self.absolute_max_string_len\n",
    "        assert num_words % self.minibatch_size == 0\n",
    "        assert (self.val_split * num_words) % self.minibatch_size == 0\n",
    "        self.num_words = num_words\n",
    "        self.string_list = [''] * self.num_words\n",
    "        tmp_string_list = []\n",
    "        self.max_string_len = max_string_len\n",
    "        self.Y_data = np.ones([self.num_words, self.absolute_max_string_len]) * -1\n",
    "        self.X_text = []\n",
    "        self.Y_len = [0] * self.num_words\n",
    "\n",
    "        # monogram file is sorted by frequency in english speech\n",
    "        with codecs.open(self.monogram_file, mode='r', encoding='utf-8') as f:\n",
    "            for line in f:\n",
    "                if len(tmp_string_list) == int(self.num_words * mono_fraction):\n",
    "                    break\n",
    "                word = line.rstrip()\n",
    "                if max_string_len == -1 or max_string_len is None or len(word) <= max_string_len:\n",
    "                    tmp_string_list.append(word)\n",
    "\n",
    "        # bigram file contains common word pairings in english speech\n",
    "        with codecs.open(self.bigram_file, mode='r', encoding='utf-8') as f:\n",
    "            lines = f.readlines()\n",
    "            for line in lines:\n",
    "                if len(tmp_string_list) == self.num_words:\n",
    "                    break\n",
    "                columns = line.lower().split()\n",
    "                word = columns[0] + ' ' + columns[1]\n",
    "                if is_valid_str(word) and \\\n",
    "                        (max_string_len == -1 or max_string_len is None or len(word) <= max_string_len):\n",
    "                    tmp_string_list.append(word)\n",
    "        if len(tmp_string_list) != self.num_words:\n",
    "            raise IOError('Could not pull enough words from supplied monogram and bigram files. ')\n",
    "            \n",
    "        #print(tmp_string_list)\n",
    "        # ['the', 'of', 'and', 'to', ....\n",
    "        \n",
    "        # interlace to mix up the easy and hard words\n",
    "        self.string_list[::2] = tmp_string_list[:self.num_words // 2] # in every second position ::2, place half of words :num/2\n",
    "        self.string_list[1::2] = tmp_string_list[self.num_words // 2:] # in every second position starting at 1 1::1, place half of words\n",
    "\n",
    "        for i, word in enumerate(self.string_list):\n",
    "            self.Y_len[i] = len(word)\n",
    "            self.Y_data[i, 0:len(word)] = text_to_labels(word) # Translation of characters to unique integer 0-n values\n",
    "            self.X_text.append(word)\n",
    "        self.Y_len = np.expand_dims(np.array(self.Y_len), 1) # tbd why one extra ????\n",
    "\n",
    "        self.cur_val_index = self.val_split # tbd, why set index to a fraction????\n",
    "        self.cur_train_index = 0\n",
    "\n",
    "    # each time an image is requested from train/val/test, a new random\n",
    "    # painting of the text is performed\n",
    "    def get_batch(self, index, size, train):\n",
    "        # width and height are backwards from typical Keras convention\n",
    "        # because width is the time dimension when it gets fed into the RNN\n",
    "        if K.image_data_format() == 'channels_first':\n",
    "            X_data = np.ones([size, 1, self.img_w, self.img_h])\n",
    "        else:\n",
    "            X_data = np.ones([size, self.img_w, self.img_h, 1])\n",
    "\n",
    "        labels = np.ones([size, self.absolute_max_string_len])\n",
    "        input_length = np.zeros([size, 1])\n",
    "        label_length = np.zeros([size, 1])\n",
    "        source_str = []\n",
    "        for i in range(size):\n",
    "            # Mix in some blank inputs.  This seems to be important for\n",
    "            # achieving translational invariance\n",
    "            if train and i > size - 4:\n",
    "                if K.image_data_format() == 'channels_first':\n",
    "                    X_data[i, 0, 0:self.img_w, :] = self.paint_func('')[0, :, :].T\n",
    "                else:\n",
    "                    X_data[i, 0:self.img_w, :, 0] = self.paint_func('',)[0, :, :].T\n",
    "                labels[i, 0] = self.blank_label\n",
    "                input_length[i] = self.img_w // self.downsample_factor - 2\n",
    "                label_length[i] = 1\n",
    "                source_str.append('')\n",
    "            else:\n",
    "                if K.image_data_format() == 'channels_first':\n",
    "                    X_data[i, 0, 0:self.img_w, :] = self.paint_func(self.X_text[index + i])[0, :, :].T\n",
    "                else:\n",
    "                    X_data[i, 0:self.img_w, :, 0] = self.paint_func(self.X_text[index + i])[0, :, :].T\n",
    "                labels[i, :] = self.Y_data[index + i]\n",
    "                input_length[i] = self.img_w // self.downsample_factor - 2\n",
    "                label_length[i] = self.Y_len[index + i]\n",
    "                source_str.append(self.X_text[index + i])\n",
    "        inputs = {'the_input': X_data,\n",
    "                  'the_labels': labels,\n",
    "                  'input_length': input_length,\n",
    "                  'label_length': label_length,\n",
    "                  'source_str': source_str  # used for visualization only\n",
    "                  }\n",
    "        outputs = {'ctc': np.zeros([size])}  # dummy data for dummy loss function\n",
    "        return (inputs, outputs)\n",
    "\n",
    "    def next_train(self):\n",
    "        while 1:\n",
    "            ret = self.get_batch(self.cur_train_index, self.minibatch_size, train=True)\n",
    "            self.cur_train_index += self.minibatch_size\n",
    "            if self.cur_train_index >= self.val_split:\n",
    "                self.cur_train_index = self.cur_train_index % 32\n",
    "                (self.X_text, self.Y_data, self.Y_len) = shuffle_mats_or_lists(\n",
    "                    [self.X_text, self.Y_data, self.Y_len], self.val_split)\n",
    "            yield ret\n",
    "\n",
    "    def next_val(self):\n",
    "        while 1:\n",
    "            ret = self.get_batch(self.cur_val_index, self.minibatch_size, train=False)\n",
    "            self.cur_val_index += self.minibatch_size\n",
    "            if self.cur_val_index >= self.num_words:\n",
    "                self.cur_val_index = self.val_split + self.cur_val_index % 32\n",
    "            yield ret\n",
    "\n",
    "    def on_train_begin(self, logs={}):\n",
    "        self.build_word_list(16000, 4, 1) # num_words, max_string_len, mono_fraction\n",
    "                                          # updates self.Y_len, self.Y_data, self.X_text, cur_val_index, cur_train_index\n",
    "        self.paint_func = lambda text: paint_text(text, self.img_w, self.img_h,\n",
    "                                                  rotate=False, ud=False, multi_fonts=False)\n",
    "\n",
    "    # wow, complexity of training a function of epoch\n",
    "    # is this nessesary?\n",
    "    # how much does this help?\n",
    "    def on_epoch_begin(self, epoch, logs={}):\n",
    "        # rebind the paint function to implement curriculum learning\n",
    "        if 3 <= epoch < 6:\n",
    "            self.paint_func = lambda text: paint_text(text, self.img_w, self.img_h,\n",
    "                                                      rotate=False, ud=True, multi_fonts=False)\n",
    "        elif 6 <= epoch < 9:\n",
    "            self.paint_func = lambda text: paint_text(text, self.img_w, self.img_h,\n",
    "                                                      rotate=False, ud=True, multi_fonts=True)\n",
    "        elif epoch >= 9:\n",
    "            self.paint_func = lambda text: paint_text(text, self.img_w, self.img_h,\n",
    "                                                      rotate=True, ud=True, multi_fonts=True)\n",
    "        if epoch >= 21 and self.max_string_len < 12:\n",
    "            self.build_word_list(32000, 12, 0.5) # num_words, max_string_len, mono_fraction\n",
    "                                                 # updates self.Y_len, self.Y_data, self.X_text, cur_val_index, cur_train_index\n"
   ]
  },
  {
   "cell_type": "code",
   "execution_count": 5,
   "metadata": {
    "colab": {
     "autoexec": {
      "startup": false,
      "wait_interval": 0
     }
    },
    "colab_type": "code",
    "id": "YOAsKfXm5jP1"
   },
   "outputs": [],
   "source": [
    "\n",
    "# the actual loss calc occurs here despite it not being\n",
    "# an internal Keras loss function\n",
    "\n",
    "def ctc_lambda_func(args):\n",
    "    y_pred, labels, input_length, label_length = args\n",
    "    # the 2 is critical here since the first couple outputs of the RNN\n",
    "    # tend to be garbage:\n",
    "    y_pred = y_pred[:, 2:, :]\n",
    "    return K.ctc_batch_cost(labels, y_pred, input_length, label_length)\n",
    "\n",
    "\n",
    "# For a real OCR application, this should be beam search with a dictionary\n",
    "# and language model.  For this example, best path is sufficient.\n",
    "\n",
    "def decode_batch(test_func, word_batch):\n",
    "    out = test_func([word_batch])[0]\n",
    "    ret = []\n",
    "    for j in range(out.shape[0]):\n",
    "        out_best = list(np.argmax(out[j, 2:], 1))\n",
    "        out_best = [k for k, g in itertools.groupby(out_best)]\n",
    "        outstr = labels_to_text(out_best)\n",
    "        ret.append(outstr)\n",
    "    return ret\n"
   ]
  },
  {
   "cell_type": "code",
   "execution_count": 6,
   "metadata": {
    "colab": {
     "autoexec": {
      "startup": false,
      "wait_interval": 0
     }
    },
    "colab_type": "code",
    "id": "KcGtIsLF5leW"
   },
   "outputs": [],
   "source": [
    "class VizCallback(keras.callbacks.Callback):\n",
    "\n",
    "    def __init__(self, run_name, test_func, text_img_gen, num_display_words=6):\n",
    "        self.test_func = test_func\n",
    "        self.output_dir = os.path.join(\n",
    "            OUTPUT_DIR, run_name)\n",
    "        self.text_img_gen = text_img_gen\n",
    "        self.num_display_words = num_display_words\n",
    "        if not os.path.exists(self.output_dir):\n",
    "            os.makedirs(self.output_dir)\n",
    "\n",
    "    def show_edit_distance(self, num):\n",
    "        num_left = num\n",
    "        mean_norm_ed = 0.0\n",
    "        mean_ed = 0.0\n",
    "        while num_left > 0:\n",
    "            word_batch = next(self.text_img_gen)[0]\n",
    "            num_proc = min(word_batch['the_input'].shape[0], num_left)\n",
    "            decoded_res = decode_batch(self.test_func, word_batch['the_input'][0:num_proc])\n",
    "            for j in range(num_proc):\n",
    "                edit_dist = editdistance.eval(decoded_res[j], word_batch['source_str'][j])\n",
    "                mean_ed += float(edit_dist)\n",
    "                mean_norm_ed += float(edit_dist) / len(word_batch['source_str'][j])\n",
    "            num_left -= num_proc\n",
    "        mean_norm_ed = mean_norm_ed / num\n",
    "        mean_ed = mean_ed / num\n",
    "        print('\\nOut of %d samples:  Mean edit distance: %.3f Mean normalized edit distance: %0.3f'\n",
    "              % (num, mean_ed, mean_norm_ed))\n",
    "\n",
    "    def on_epoch_end(self, epoch, logs={}):\n",
    "        self.model.save_weights(os.path.join(self.output_dir, 'weights%02d.h5' % (epoch)))\n",
    "        self.show_edit_distance(256)\n",
    "        word_batch = next(self.text_img_gen)[0]\n",
    "        res = decode_batch(self.test_func, word_batch['the_input'][0:self.num_display_words])\n",
    "        if word_batch['the_input'][0].shape[0] < 256:\n",
    "            cols = 2\n",
    "        else:\n",
    "            cols = 1\n",
    "        for i in range(self.num_display_words):\n",
    "            plt.subplot(self.num_display_words // cols, cols, i + 1)\n",
    "            if K.image_data_format() == 'channels_first':\n",
    "                the_input = word_batch['the_input'][i, 0, :, :]\n",
    "            else:\n",
    "                the_input = word_batch['the_input'][i, :, :, 0]\n",
    "            plt.imshow(the_input.T, cmap='Greys_r')\n",
    "            plt.xlabel('Truth = \\'%s\\'\\nDecoded = \\'%s\\'' % (word_batch['source_str'][i], res[i]))\n",
    "        fig = pylab.gcf()\n",
    "        fig.set_size_inches(10, 13)\n",
    "        plt.savefig(os.path.join(self.output_dir, 'e%02d.png' % (epoch)))\n",
    "        plt.close()\n"
   ]
  },
  {
   "cell_type": "code",
   "execution_count": 7,
   "metadata": {
    "colab": {
     "autoexec": {
      "startup": false,
      "wait_interval": 0
     }
    },
    "colab_type": "code",
    "id": "eC4vEfcQ5oOq"
   },
   "outputs": [],
   "source": [
    "\n",
    "def train(run_name, start_epoch, stop_epoch, img_w):\n",
    "    # Input Parameters\n",
    "    img_h = 64\n",
    "    words_per_epoch = 16000\n",
    "    val_split = 0.2\n",
    "    val_words = int(words_per_epoch * (val_split))\n",
    "\n",
    "    # Network parameters\n",
    "    conv_filters = 16\n",
    "    kernel_size = (3, 3)\n",
    "    pool_size = 2\n",
    "    time_dense_size = 32\n",
    "    rnn_size = 512\n",
    "    minibatch_size = 32\n",
    "\n",
    "    if K.image_data_format() == 'channels_first':\n",
    "        input_shape = (1, img_w, img_h)\n",
    "    else:\n",
    "        input_shape = (img_w, img_h, 1)\n",
    "\n",
    "    fdir = os.path.dirname(get_file('wordlists.tgz',\n",
    "                                    origin='http://www.mythic-ai.com/datasets/wordlists.tgz', untar=True))\n",
    "\n",
    "    img_gen = TextImageGenerator(monogram_file=os.path.join(fdir, 'wordlist_mono_clean.txt'),\n",
    "                                 bigram_file=os.path.join(fdir, 'wordlist_bi_clean.txt'),\n",
    "                                 minibatch_size=minibatch_size,\n",
    "                                 img_w=img_w,\n",
    "                                 img_h=img_h,\n",
    "                                 downsample_factor=(pool_size ** 2),\n",
    "                                 val_split=words_per_epoch - val_words\n",
    "                                 )\n",
    "    act = 'relu'\n",
    "    input_data = Input(name='the_input', shape=input_shape, dtype='float32')\n",
    "    inner = Conv2D(conv_filters, kernel_size, padding='same',\n",
    "                   activation=act, kernel_initializer='he_normal',\n",
    "                   name='conv1')(input_data)\n",
    "    inner = MaxPooling2D(pool_size=(pool_size, pool_size), name='max1')(inner)\n",
    "    inner = Conv2D(conv_filters, kernel_size, padding='same',\n",
    "                   activation=act, kernel_initializer='he_normal',\n",
    "                   name='conv2')(inner)\n",
    "    inner = MaxPooling2D(pool_size=(pool_size, pool_size), name='max2')(inner)\n",
    "\n",
    "    conv_to_rnn_dims = (img_w // (pool_size ** 2), (img_h // (pool_size ** 2)) * conv_filters)\n",
    "    inner = Reshape(target_shape=conv_to_rnn_dims, name='reshape')(inner)\n",
    "\n",
    "    # cuts down input size going into RNN:\n",
    "    inner = Dense(time_dense_size, activation=act, name='dense1')(inner)\n",
    "\n",
    "    # Two layers of bidirectional GRUs\n",
    "    # GRU seems to work as well, if not better than LSTM:\n",
    "    gru_1 = GRU(rnn_size, return_sequences=True, kernel_initializer='he_normal', name='gru1')(inner)\n",
    "    gru_1b = GRU(rnn_size, return_sequences=True, go_backwards=True, kernel_initializer='he_normal', name='gru1_b')(inner)\n",
    "    gru1_merged = add([gru_1, gru_1b])\n",
    "    gru_2 = GRU(rnn_size, return_sequences=True, kernel_initializer='he_normal', name='gru2')(gru1_merged)\n",
    "    gru_2b = GRU(rnn_size, return_sequences=True, go_backwards=True, kernel_initializer='he_normal', name='gru2_b')(gru1_merged)\n",
    "\n",
    "    # transforms RNN output to character activations:\n",
    "    inner = Dense(img_gen.get_output_size(), kernel_initializer='he_normal',\n",
    "                  name='dense2')(concatenate([gru_2, gru_2b]))\n",
    "    y_pred = Activation('softmax', name='softmax')(inner)\n",
    "    Model(inputs=input_data, outputs=y_pred).summary()\n",
    "\n",
    "    labels = Input(name='the_labels', shape=[img_gen.absolute_max_string_len], dtype='float32')\n",
    "    input_length = Input(name='input_length', shape=[1], dtype='int64')\n",
    "    label_length = Input(name='label_length', shape=[1], dtype='int64')\n",
    "    # Keras doesn't currently support loss funcs with extra parameters\n",
    "    # so CTC loss is implemented in a lambda layer\n",
    "    loss_out = Lambda(ctc_lambda_func, output_shape=(1,), name='ctc')([y_pred, labels, input_length, label_length])\n",
    "\n",
    "    # clipnorm seems to speeds up convergence\n",
    "    sgd = SGD(lr=0.02, decay=1e-6, momentum=0.9, nesterov=True, clipnorm=5)\n",
    "\n",
    "    model = Model(inputs=[input_data, labels, input_length, label_length], outputs=loss_out)\n",
    "\n",
    "    # the loss calc occurs elsewhere, so use a dummy lambda func for the loss\n",
    "    model.compile(loss={'ctc': lambda y_true, y_pred: y_pred}, optimizer=sgd)\n",
    "    if start_epoch > 0:\n",
    "        weight_file = os.path.join(OUTPUT_DIR, os.path.join(run_name, 'weights%02d.h5' % (start_epoch - 1)))\n",
    "        model.load_weights(weight_file)\n",
    "    # captures output of softmax so we can decode the output during visualization\n",
    "    test_func = K.function([input_data], [y_pred])\n",
    "\n",
    "    viz_cb = VizCallback(run_name, test_func, img_gen.next_val())\n",
    "\n",
    "    model.fit_generator(generator=img_gen.next_train(),\n",
    "                        steps_per_epoch=(words_per_epoch - val_words) // minibatch_size,\n",
    "                        epochs=stop_epoch,\n",
    "                        validation_data=img_gen.next_val(),\n",
    "                        validation_steps=val_words // minibatch_size,\n",
    "                        callbacks=[viz_cb, img_gen],\n",
    "                        initial_epoch=start_epoch)\n"
   ]
  },
  {
   "cell_type": "markdown",
   "metadata": {
    "colab_type": "text",
    "id": "13kO-MxI7XWb"
   },
   "source": [
    "### Start the training\n",
    "It may take an hour, alternative you can just download my pre-trained model weights.\n",
    "```shell\n",
    "! wget https://github.com/Tony607/keras-image-ocr/releases/download/V0.1/weights24.h5\n",
    "```"
   ]
  },
  {
   "cell_type": "code",
   "execution_count": 10,
   "metadata": {
    "colab": {
     "autoexec": {
      "startup": false,
      "wait_interval": 0
     },
     "base_uri": "https://localhost:8080/",
     "height": 2094
    },
    "colab_type": "code",
    "id": "YRGglF5L5qzn",
    "outputId": "541e795b-80d1-49e6-9c9f-e2014690f4a7"
   },
   "outputs": [
    {
     "name": "stdout",
     "output_type": "stream",
     "text": [
      "__________________________________________________________________________________________________\n",
      "Layer (type)                    Output Shape         Param #     Connected to                     \n",
      "==================================================================================================\n",
      "the_input (InputLayer)          (None, 128, 64, 1)   0                                            \n",
      "__________________________________________________________________________________________________\n",
      "conv1 (Conv2D)                  (None, 128, 64, 16)  160         the_input[0][0]                  \n",
      "__________________________________________________________________________________________________\n",
      "max1 (MaxPooling2D)             (None, 64, 32, 16)   0           conv1[0][0]                      \n",
      "__________________________________________________________________________________________________\n",
      "conv2 (Conv2D)                  (None, 64, 32, 16)   2320        max1[0][0]                       \n",
      "__________________________________________________________________________________________________\n",
      "max2 (MaxPooling2D)             (None, 32, 16, 16)   0           conv2[0][0]                      \n",
      "__________________________________________________________________________________________________\n",
      "reshape (Reshape)               (None, 32, 256)      0           max2[0][0]                       \n",
      "__________________________________________________________________________________________________\n",
      "dense1 (Dense)                  (None, 32, 32)       8224        reshape[0][0]                    \n",
      "__________________________________________________________________________________________________\n",
      "gru1 (GRU)                      (None, 32, 512)      837120      dense1[0][0]                     \n",
      "__________________________________________________________________________________________________\n",
      "gru1_b (GRU)                    (None, 32, 512)      837120      dense1[0][0]                     \n",
      "__________________________________________________________________________________________________\n",
      "add_3 (Add)                     (None, 32, 512)      0           gru1[0][0]                       \n",
      "                                                                 gru1_b[0][0]                     \n",
      "__________________________________________________________________________________________________\n",
      "gru2 (GRU)                      (None, 32, 512)      1574400     add_3[0][0]                      \n",
      "__________________________________________________________________________________________________\n",
      "gru2_b (GRU)                    (None, 32, 512)      1574400     add_3[0][0]                      \n",
      "__________________________________________________________________________________________________\n",
      "concatenate_3 (Concatenate)     (None, 32, 1024)     0           gru2[0][0]                       \n",
      "                                                                 gru2_b[0][0]                     \n",
      "__________________________________________________________________________________________________\n",
      "dense2 (Dense)                  (None, 32, 28)       28700       concatenate_3[0][0]              \n",
      "__________________________________________________________________________________________________\n",
      "softmax (Activation)            (None, 32, 28)       0           dense2[0][0]                     \n",
      "==================================================================================================\n",
      "Total params: 4,862,444\n",
      "Trainable params: 4,862,444\n",
      "Non-trainable params: 0\n",
      "__________________________________________________________________________________________________\n",
      "['the', 'of', 'and', 'to', 'a', 'in', 'for', 'is', 'on', 'that', 'by', 'this', 'with', 'i', 'you', 'it', 'not', 'or', 'be', 'are', 'from', 'at', 'as', 'your', 'all', 'have', 'new', 'more', 'an', 'was', 'we', 'will', 'can', 'us', 'if', 'page', 'my', 'has', 'free', 'but', 'our', 'one', 'do', 'no', 'time', 'they', 'site', 'he', 'up', 'may', 'what', 'news', 'out', 'use', 'any', 'see', 'only', 'so', 'his', 'when', 'here', 'web', 'also', 'now', 'help', 'get', 'pm', 'view', 'c', 'e', 'am', 'been', 'were', 'me', 's', 'some', 'its', 'like', 'x', 'than', 'find', 'date', 'back', 'top', 'had', 'list', 'name', 'just', 'over', 'year', 'day', 'into', 'two', 'n', 're', 'next', 'used', 'go', 'b', 'work', 'last', 'most', 'buy', 'data', 'make', 'them', 'post', 'her', 'city', 't', 'add', 'such', 'best', 'then', 'jan', 'good', 'well', 'd', 'info', 'high', 'm', 'each', 'she', 'very', 'book', 'r', 'read', 'need', 'many', 'user', 'said', 'de', 'does', 'set', 'mail', 'map', 'life', 'know', 'way', 'days', 'p', 'part', 'real', 'f', 'item', 'ebay', 'must', 'off', 'line', 'did', 'send', 'type', 'car', 'take', 'area', 'want', 'dvd', 'l', 'long', 'w', 'code', 'o', 'even', 'much', 'sign', 'file', 'link', 'open', 'case', 'same', 'both', 'g', 'game', 'care', 'end', 'h', 'him', 'per', 'law', 'size', 'art', 'text', 'rate', 'usa', 'v', 'form', 'love', 'old', 'john', 'main', 'call', 'non', 'k', 'y', 'why', 'cd', 'save', 'low', 'york', 'man', 'card', 'jobs', 'j', 'food', 'u', 'sale', 'job', 'teen', 'room', 'too', 'join', 'men', 'west', 'look', 'left', 'team', 'box', 'week', 'note', 'live', 'june', 'air', 'plan', 'tv', 'yes', 'cost', 'la', 'say', 'july', 'test', 'come', 'dec', 'pc', 'cart', 'san', 'play', 'tax', 'less', 'got', 'blog', 'let', 'park', 'side', 'act', 'red', 'give', 'q', 'sell', 'key', 'few', 'east', 'ii', 'age', 'club', 'z', 'road', 'gift', 'ca', 'hard', 'oct', 'pay', 'four', 'war', 'nov', 'blue', 'al', 'easy', 'fax', 'yet', 'star', 'hand', 'sun', 'rss', 'id', 'keep', 'baby', 'run', 'net', 'term', 'film', 'put', 'co', 'try', 'head', 'cell', 'self', 'away', 'once', 'log', 'sure', 'faq', 'cars', 'tell', 'able', 'gold', 'feb', 'sep', 'arts', 'lot', 'ask', 'past', 'due', 'et', 'five', 'upon', 'says', 'mar', 'land', 'done', 'pro', 'st', 'url', 'aug', 'ever', 'ago', 'word', 'apr', 'talk', 'via', 'true', 'else', 'mark', 'rock', 'bad', 'tips', 'plus', 'auto', 'edit', 'fast', 'fact', 'unit', 'tech', 'meet', 'far', 'en', 'feel', 'bank', 'risk', 'jul', 'jun', 'girl', 'toys', 'golf', 'loan', 'wide', 'sort', 'half', 'step', 'none', 'paul', 'lake', 'sony', 'chat', 'html', 'loss', 'face', 'oil', 'base', 'near', 'oh', 'stay', 'turn', 'mean', 'king', 'copy', 'pics', 'cash', 'bay', 'ad', 'seen', 'port', 'stop', 'bar', 'dog', 'soon', 'held', 'ny', 'eur', 'mind', 'pdf', 'lost', 'tour', 'menu', 'wish', 'role', 'came', 'usr', 'dc', 'mon', 'com', 'fine', 'gas', 'six', 'bush', 'pre', 'huge', 'sat', 'zip', 'kind', 'move', 'logo', 'nice', 'ok', 'sent', 'band', 'ms', 'lead', 'went', 'fri', 'hi', 'mode', 'wed', 'male', 'took', 'inn', 'song', 'cnet', 'ltd', 'los', 'hp', 'late', 'fall', 'idea', 'inc', 'win', 'tool', 'eg', 'bed', 'ip', 'hill', 'maps', 'deal', 'tue', 'safe', 'feed', 'pa', 'thu', 'sea', 'cut', 'hall', 'anti', 'tel', 'ship', 'tx', 'paid', 'hair', 'kit', 'tree', 'thus', 'wall', 'ie', 'el', 'ma', 'boy', 'wine', 'vote', 'ways', 'est', 'son', 'rule', 'mac', 'iii', 'gmt', 'max', 'told', 'xml', 'feet', 'door', 'cool', 'md', 'fl', 'mb', 'asia', 'uses', 'mr', 'java', 'van', 'fees', 'skin', 'prev', 'ads', 'mary', 'il', 'ring', 'pop', 'int', 'iraq', 'boys', 'deep', 'rest', 'hit', 'mm', 'mini', 'fish', 'eye', 'pack', 'born', 'race', 'usb', 'ed', 'php', 'etc', 'debt', 'core', 'sets', 'wood', 'msn', 'fee', 'rent', 'las', 'dark', 'le', 'min', 'aid', 'isbn', 'fair', 'az', 'ohio', 'gets', 'un', 'saw', 'mike', 'trip', 'pst', 'mi', 'eyes', 'farm', 'tom', 'lord', 'sub', 'hear', 'goes', 'led', 'fan', 'wife', 'ten', 'hits', 'zone', 'th', 'cat', 'jack', 'flat', 'flow', 'dr', 'path', 'kb', 'laws', 'pet', 'guy', 'dev', 'cup', 'vol', 'pp', 'na', 'skip', 'army', 'gear', 'lee', 'os', 'lots', 'firm', 'jump', 'dvds', 'ball', 'goal', 'sold', 'wind', 'palm', 'bob', 'fit', 'ex', 'met', 'pain', 'xbox', 'www', 'ford', 'edge', 'root', 'au', 'fi', 'ice', 'pink', 'nc', 'llc', 'sec', 'bus', 'cold', 'bag', 'po', 'va', 'foot', 'ibm', 'rd', 'sc', 'heat', 'wild', 'miss', 'task', 'nor', 'bug', 'mid', 'se', 'soft', 'walk', 'wait', 'rose', 'jim', 'di', 'km', 'pick', 'del', 'ga', 'ac', 'ft', 'load', 'tags', 'joe', 'guys', 'drop', 'cds', 'rich', 'im', 'vs', 'ipod', 'ar', 'mo', 'seem', 'sa', 'hire', 'gave', 'ones', 'xp', 'rank', 'kong', 'inch', 'lab', 'cvs', 'snow', 'eu', 'camp', 'des', 'fill', 'cc', 'lcd', 'wa', 'ave', 'dj', 'gone', 'fort', 'cm', 'wi', 'gene', 'disc', 'ct', 'boat', 'icon', 'ends', 'da', 'cast', 'felt', 'pic', 'soul', 'aids', 'flag', 'nj', 'hr', 'em', 'iv', 'atom', 'rw', 'iron', 'void', 'tag', 'mix', 'disk', 'vhs', 'fix', 'desk', 'dave', 'vice', 'ne', 'ray', 'du', 'duty', 'bear', 'lack', 'iowa', 'dry', 'spa', 'knew', 'con', 'ups', 'zoom', 'clip', 'nt', 'es', 'wire', 'tape', 'spam', 'acid', 'cent', 'null', 'gb', 'bc', 'pr', 'roll', 'fr', 'bath', 'aa', 'var', 'font', 'mt', 'beta', 'fail', 'won', 'bags', 'doc', 'wear', 'mom', 'rare', 'bars', 'row', 'oz', 'dual', 'rise', 'usd', 'mg', 'lady', 'fans', 'eat', 'dell', 'seat', 'aim', 'toll', 'les', 'cape', 'ann', 'tip', 'mine', 'ski', 'math', 'ch', 'dan', 'dogs', 'sd', 'moon', 'fly', 'rs', 'wars', 'kept', 'hey', 'beat', 'bbc', 'arms', 'tea', 'avg', 'utah', 'rom', 'hide', 'toy', 'slow', 'src', 'hip', 'faqs', 'nine', 'eric', 'grow', 'dot', 'pda', 'rain', 'onto', 'dsl', 'zum', 'dna', 'diff', 'pets', 'ride', 'tim', 'sql', 'pair', 'don', 'ss', 'runs', 'yeah', 'ap', 'nm', 'mn', 'nd', 'evil', 'gps', 'op', 'acc', 'euro', 'cap', 'ink', 'peak', 'tn', 'salt', 'bell', 'pin', 'raw', 'gnu', 'jeff', 'ben', 'lane', 'aol', 'ce', 'ages', 'plug', 'cook', 'hat', 'perl', 'lib', 'ab', 'utc', 'der', 'lose', 'seek', 'tony', 'kits', 'cam', 'soil', 'wet', 'ram', 'matt', 'fox', 'exit', 'iran', 'arm', 'keys', 'wave', 'acts', 'mesh', 'dean', 'poll', 'unix', 'bond', 'pub', 'tm', 'sp', 'jean', 'visa', 'nh', 'pure', 'lens', 'draw', 'fm', 'warm', 'crew', 'legs', 'sam', 'pdt', 'rear', 'node', 'lock', 'mile', 'mens', 'bowl', 'ref', 'tank', 'navy', 'db', 'pan', 'ph', 'dish', 'ia', 'pt', 'adam', 'slot', 'psp', 'ha', 'ds', 'gray', 'ea', 'und', 'demo', 'lg', 'hate', 'rice', 'loop', 'nfl', 'gary', 'vary', 'rome', 'milk', 'nw', 'boot', 'ff', 'push', 'iso', 'sum', 'misc', 'alan', 'dear', 'oak', 'vat', 'jose', 'jane', 'ps', 'sir', 'earn', 'kim', 'twin', 'dont', 'spy', 'br', 'lo', 'suit', 'ml', 'chip', 'res', 'sit', 'wow', 'char', 'cs', 'que', 'grid', 'voip', 'fig', 'sf', 'kg', 'pull', 'ut', 'nasa', 'tab', 'si', 'css', 'mc', 'nick', 'plot', 'qty', 'pump', 'lp', 'anne', 'exam', 'ryan', 'beds', 'pcs', 'grey', 'bold', 'von', 'ag', 'scan', 'vi', 'aged', 'bulk', 'sci', 'edt', 'pmid', 'sin', 'cute', 'ba', 'para', 'cr', 'pg', 'seed', 'ee', 'meat', 'ing', 'ks', 'alex', 'bugs', 'ftp', 'med', 'gate', 'sw', 'tone', 'busy', 'leg', 'neck', 'hd', 'wing', 'abc', 'tiny', 'rail', 'jay', 'gap', 'tube', 'belt', 'er', 'jr', 'rob', 'era', 'gcc', 'asp', 'dial', 'jet', 'par', 'gang', 'nv', 'cake', 'semi', 'andy', 'cafe', 'ken', 'su', 'exp', 'till', 'pen', 'sand', 'joy', 'cpu', 'ran', 'seal', 'sr', 'jon', 'pipe', 'nr', 'ill', 'lbs', 'lay', 'lol', 'deck', 'mp', 'thin', 'mph', 'dose', 'bet', 'def', 'lets', 'li', 'nl', 'cats', 'ya', 'nba', 'greg', 'epa', 'tr', 'bb', 'ron', 'nz', 'folk', 'org', 'okay', 'hist', 'lift', 'lisa', 'mall', 'dad', 'pat', 'fell', 'yard', 'te', 'av', 'sean', 'pour', 'reg', 'tion', 'dust', 'wiki', 'kent', 'adds', 'nsw', 'ear', 'pci', 'tie', 'ward', 'ian', 'roof', 'kiss', 'ra', 'mod', 'rc', 'bmw', 'rush', 'mpeg', 'yoga', 'lamp', 'rico', 'phil', 'cst', 'http', 'ceo', 'glad', 'wins', 'rack', 'ec', 'rep', 'mit', 'boss', 'ross', 'anna', 'solo', 'tall', 'rm', 'pdas', 'sri', 'toe', 'nova', 'api', 'cf', 'vt', 'wake', 'urw', 'lan', 'sms', 'nec', 'foto', 'ease', 'tabs', 'xx', 'gm', 'ri', 'pine', 'tend', 'gulf', 'rt', 'rick', 'cp', 'hunt', 'thai', 'fred', 'dd', 'mill', 'den', 'aud', 'pl', 'labs', 'lie', 'crm', 'rf', 'ak', 'fe', 'td', 'amp', 'sb', 'ah', 'sole', 'sm', 'clay', 'weak', 'usc', 'blvd', 'amd', 'wise', 'wv', 'odds', 'ns', 'eve', 'marc', 'sons', 'leaf', 'pad', 'ja', 'bs', 'rod', 'cuba', 'hrs', 'silk', 'kate', 'sad', 'wolf', 'cal', 'fits', 'kick', 'meal', 'ta', 'hurt', 'img', 'slip', 'rpm', 'cuts', 'mars', 'tvs', 'egg', 'mhz', 'caps', 'pill', 'lat', 'meta', 'mint', 'gi', 'spin', 'sur', 'wash', 'rev', 'll', 'aims', 'cl', 'ieee', 'corp', 'gt', 'sh', 'soap', 'ae', 'nyc', 'jam', 'axis', 'rio', 'hs', 'rv', 'punk', 'pi', 'ai', 'pace', 'wage', 'ot', 'arc', 'carl', 'coat', 'mrs', 'rica', 'yr', 'app', 'roy', 'ion', 'doll', 'ic', 'peru', 'nike', 'fed', 'reed', 'mice', 'ban', 'temp', 'zus', 'vast', 'ent', 'odd', 'wrap', 'mood', 'quiz', 'mx', 'gr', 'ext', 'beam', 'tops', 'amy', 'ts', 'shut', 'ge', 'ncaa', 'phd', 'mask', 'ng', 'pe', 'coal', 'cry', 'tt', 'zoo', 'aka', 'tee', 'lion', 'goto', 'xl', 'neil', 'beef', 'cad', 'hats', 'tcp', 'surf', 'dv', 'dir', 'cord', 'val', 'crop', 'tu', 'fy', 'lite', 'ghz', 'hub', 'rr', 'eng', 'ef', 'ace', 'sing', 'tons', 'sue', 'ep', 'hang', 'gbp', 'lb', 'jp', 'chi', 'bt', 'fame', 'af', 'rfc', 'sl', 'seo', 'isp', 'ins', 'eggs', 'hb', 'jpg', 'tc', 'ruby', 'mins', 'ssl', 'stem', 'opt', 'drew', 'flu', 'mlb', 'rap', 'tune', 'corn', 'gp', 'puts', 'grew', 'tin', 'trek', 'oem', 'ir', 'ties', 'rat', 'jury', 'dos', 'tail', 'soup', 'byte', 'nose', 'oclc', 'plc', 'juan', 'msg', 'cod', 'thru', 'trim', 'cv', 'cb', 'gen', 'espn', 'nhl', 'quit', 'lung', 'ti', 'fc', 'gel', 'todd', 'fw', 'doug', 'sees', 'gs', 'aaa', 'bull', 'cole', 'mart', 'tale', 'lynn', 'bp', 'std', 'docs', 'vid', 'oo', 'coin', 'bbw', 'fake', 'fda', 'cure', 'arch', 'ni', 'hdtv', 'asin', 'harm', 'thy', 'deer', 'tri', 'pal', 'um', 'ye', 'fs', 'nn', 'mat', 'oven', 'ted', 'noon', 'gym', 'kde', 'vb', 'cams', 'joel', 'yo', 'proc', 'tan', 'fx', 'mate', 'dl', 'chef', 'isle', 'slim', 'comp', 'alt', 'pie', 'ls', 'cbs', 'pete', 'spec', 'bow', 'penn', 'midi', 'tied', 'dale', 'oils', 'sept', 'unto', 'lt', 'atm', 'eq', 'pays', 'cox', 'je', 'lang', 'stud', 'fold', 'uv', 'cms', 'sg', 'vic', 'pos', 'phys', 'pole', 'mega', 'bend', 'moms', 'glen', 'nav', 'cab', 'fa', 'ist', 'lips', 'pond', 'lc', 'dam', 'cnn', 'lil', 'das', 'tire', 'chad', 'sys', 'josh', 'drag', 'icq', 'ripe', 'rely', 'scsi', 'cu', 'dns', 'pty', 'ws', 'nuts', 'nail', 'span', 'sox', 'joke', 'univ', 'tub', 'pads', 'inns', 'cups', 'ash', 'ali', 'np', 'foam', 'tft', 'jvc', 'poem', 'jo', 'dt', 'cgi', 'asks', 'bean', 'por', 'mem', 'gc', 'tap', 'ci', 'swim', 'nano', 'yn', 'vii', 'bee', 'loud', 'rats', 'cfr', 'stat', 'cruz', 'pmc', 'thee', 'nb', 'ruth', 'pray', 'pope', 'jeep', 'bare', 'hung', 'mba', 'pit', 'mono', 'tile', 'rx', 'apps', 'mag', 'gsm', 'ddr', 'rec', 'ciao', 'knee', 'prep', 'pb', 'chem', 'ton', 'oe', 'gif', 'cant', 'jd', 'gpl', 'irc', 'wy', 'dm', 'sara', 'joan', 'phi', 'mls', 'cow', 'cet', 'fiji', 'audi', 'raid', 'ppc', 'volt', 'div', 'dirt', 'jc', 'acer', 'dist', 'ons', 'geek', 'xnxx', 'sink', 'grip', 'avi', 'watt', 'pins', 'reno', 'bdsm', 'ide', 'polo', 'rpg', 'pd', 'prot', 'frog', 'logs', 'tgp', 'leo', 'diy', 'snap', 'arg', 'ur', 'geo', 'doe', 'jpeg', 'ati', 'wal', 'swap', 'abs', 'flip', 'sim', 'rna', 'buzz', 'rid', 'calm', 'fork', 'troy', 'ln', 'uc', 'rip', 'zope', 'gmbh', 'buf', 'ld', 'sims', 'tray', 'sol', 'sage', 'eco', 'bat', 'lip', 'sap', 'suse', 'mf', 'cave', 'wool', 'mw', 'nu', 'ict', 'dp', 'eyed', 'ou', 'grab', 'oops', 'xi', 'sku', 'ht', 'za', 'trap', 'fool', 've', 'karl', 'pts', 'rh', 'rrp', 'fg', 'jail', 'ooo', 'hz', 'ipaq', 'bk', 'comm', 'nhs', 'aye', 'lace', 'ste', 'hart', 'ment', 'col', 'dx', 'sk', 'yu', 'rows', 'sq', 'oc', 'aj', 'treo', 'une', 'tex', 'cia', 'poly', 'ears', 'dod', 'wp', 'fist', 'neo', 'mere', 'cons', 'dig', 'taxi', 'om', 'nat', 'tp', 'jm', 'dpi', 'gis', 'loc', 'worn', 'shaw', 'vp', 'expo', 'cn', 'deny', 'bali', 'judy', 'trio', 'cube', 'rugs', 'gui', 'gras', 'ver', 'rn', 'rim', 'zen', 'dis', 'kay', 'oval', 'cg', 'soma', 'ser', 'href', 'benz', 'wifi', 'tier', 'fwd', 'earl', 'aus', 'hwy', 'guam', 'cite', 'nam', 'ix', 'gdp', 'pig', 'mess', 'lit', 'una', 'ada', 'tb', 'rope', 'dump', 'yrs', 'foo', 'gba', 'bm', 'sig', 'duo', 'fog', 'str', 'pubs', 'vip', 'yea', 'mild', 'tar', 'rj', 'soc', 'clan', 'sync', 'mesa', 'rug', 'ka', 'hull', 'dem', 'wav', 'shed', 'memo', 'ham', 'tide', 'reel', 'rp', 'rand', 'eh', 'tba', 'sie', 'usgs', 'acre', 'lows', 'aqua', 'chen', 'emma', 'eva', 'pest', 'hc', 'rca', 'fp', 'reef', 'gst', 'bon', 'jj', 'chan', 'mas', 'beth', 'len', 'kai', 'dom', 'jill', 'sofa', 'obj', 'dans', 'viii', 'jar', 'ev', 'tent', 'dept', 'hack', 'dare', 'hawk', 'lamb', 'cos', 'pac', 'rl', 'erp', 'gl', 'ui', 'dh', 'vpn', 'fcc', 'eds', 'ro', 'df', 'junk', 'wax', 'lucy', 'hans', 'poet', 'epic', 'nut', 'sake', 'sans', 'irs', 'lean', 'bye', 'cdt', 'ana', 'dude', 'luis', 'ez', 'pf', 'uw', 'alto', 'eau', 'bd', 'mil', 'gore', 'cult', 'dash', 'cage', 'divx', 'hugh', 'lap', 'jake', 'eval', 'ping', 'flux', 'sao', 'muze', 'oman', 'gmc', 'hh', 'rage', 'adsl', 'uh', 'prix', 'fd', 'bo', 'avon', 'rays', 'asn', 'walt', 'acne', 'libs', 'undo', 'wm', 'pk', 'dana', 'halo', 'ppm', 'ant', 'apt', 'exec', 'inf', 'eos', 'vcr', 'uri', 'gem', 'maui', 'psi', 'pct', 'wb', 'vids', 'yale', 'sn', 'qld', 'pas', 'dk', 'owen', 'issn', 'myth', 'gig', 'sas', 'oecd', 'dice', 'quad', 'dock', 'mods', 'hint', 'msie', 'liz', 'ccd', 'sv', 'buys', 'pork', 'zu', 'barn', 'llp', 'boc', 'fare', 'dg', 'asus', 'vg', 'bald', 'leon', 'mold', 'dame', 'fo', 'herb', 'tmp', 'alot', 'ate', 'idle', 'fin', 'io', 'mud', 'uni', 'ul', 'ol', 'js', 'pn', 'cove', 'casa', 'mu', 'eden', 'incl', 'ala', 'hq', 'dip', 'nbc', 'reid', 'wt', 'flex', 'rosa', 'hash', 'lazy', 'mv', 'mpg', 'carb', 'cas', 'cio', 'dow', 'rb', 'upc', 'dui', 'pens', 'yen', 'mh', 'worm', 'lid', 'deaf', 'mats', 'pvc', 'blah', 'mime', 'feof', 'usda', 'keen', 'peas', 'urls', 'enb', 'gg', 'og', 'ko', 'til', 'wto', 'hay', 'ww', 'gd', 'zinc', 'guru', 'isa', 'levy', 'grad', 'pix', 'mic', 'bw', 'mj', 'pale', 'gaps', 'tear', 'lf', 'ata', 'nil', 'nest', 'pam', 'nato', 'cop', 'gale', 'dim', 'stan', 'idol', 'wc', 'mai', 'hk', 'abu', 'moss', 'ty', 'cork', 'cj', 'mali', 'mtv', 'dome', 'leu', 'heel', 'yang', 'qc', 'lou', 'pgp', 'aw', 'sip', 'tf', 'pj', 'cw', 'wr', 'rg', 'bl', 'vc', 'dee', 'wx', 'mae', 'mel', 'feat', 'ntsc', 'sic', 'usps', 'bg', 'seq', 'conf', 'glow', 'wma', 'cir', 'oaks', 'erik', 'hu', 'acm', 'kw', 'paso', 'norm', 'ips', 'dsc', 'ware', 'mia', 'wan', 'foul', 'keno', 'gtk', 'seas', 'ru', 'pose', 'mrna', 'goat', 'ira', 'sen', 'sail', 'dts', 'qt', 'sega', 'cdna', 'pod', 'wu', 'bolt', 'gage', 'lu', 'dat', 'soa', 'urge', 'smtp', 'kurt', 'neon', 'ours', 'lone', 'cope', 'lm', 'lime', 'kirk', 'bool', 'wit', 'bbs', 'spas', 'ind', 'jets', 'qui', 'intl', 'cz', 'yarn', 'knit', 'mug', 'hl', 'ob', 'pike', 'ids', 'hugo', 'gzip', 'ctrl', 'bent', 'laos', 'rfid', 'mama', 'vaio', 'slr', 'rel', 'ign', 'tg', 'pv', 'owl', 'num', 'coil', 'din', 'roma', 'btw', 'att', 'vet', 'lily', 'rita', 'pbs', 'joey', 'tilt', 'vw', 'bead', 'leak', 'dw', 'hm', 'jl', 'hg', 'als', 'ffl', 'mk', 'bulb', 'iris', 'hal', 'ppp', 'bach', 'khan', 'che', 'bu', 'ies', 'ei', 'wl', 'lin', 'stir', 'togo', 'pile', 'iq', 'het', 'mol', 'korn', 'qa', 'nas', 'det', 'xsl', 'pony', 'ctr', 'leap', 'swan', 'vcd', 'sz', 'gal', 'ems', 'nets', 'mst', 'bf', 'bash', 'ngos', 'tot', 'sj', 'mbps', 'rem', 'ij', 'elk', 'cis', 'eb', 'xd', 'rex', 'txt', 'soy', 'ansi', 'neat', 'suv', 'bud', 'mis', 'bbq', 'wh', 'dmx', 'xr', 'bn', 'noaa', 'cest', 'webb', 'bump', 'kbps', 'auf', 'trac', 'esp', 'pkg', 'esl', 'jk', 'wk', 'aunt', 'crow', 'dia', 'atv', 'vga', 'sch', 'mfg', 'jb', 'faso', 'gram', 'blk', 'dye', 'sits', 'toes', 'jw', 'xt', 'ucla', 'bust', 'palo', 'tina', 'kia', 'fb', 'cola', 'ile', 'bsd', 'saab', 'dew', 'gems', 'cert', 'npr', 'mann', 'outs', 'gum', 'adv', 'imc', 'ufo', 'nyse', 'pcr', 'bnet', 'ein', 'ua', 'fry', 'foil', 'roi', 'kc', 'kt', 'pogo', 'amps', 'digg', 'tick', 'tj', 'deg', 'bot', 'lea', 'vans', 'od', 'tw', 'glue', 'gw', 'cone', 'dvi', 'apo', 'ao', 'nih', 'gals', 'hdd', 'nos', 'ivan', 'ssh', 'olds', 'ramp', 'tl', 'vivo', 'wap', 'lr', 'edu', 'mmc', 'rms', 'isdn', 'ku', 'pear', 'clue', 'duff', 'lys', 'ck', 'scam', 'gia', 'ops', 'beck', 'huh', 'coli', 'tome', 'prof', 'eps', 'hmm', 'ont', 'sins', 'hath', 'cdc', 'hsn', 'prop', 'nf', 'shy', 'maid', 'sid', 'enom', 'sta', 'ret', 'haha', 'erin', 'dvr', 'cdn', 'rods', 'wong', 'pigs', 'pw', 'maya', 'hex', 'wg', 'fest', 'deed', 'crt', 'tivo', 'ptr', 'cmd', 'papa', 'nina', 'seth', 'warn', 'cops', 'peso', 'lego', 'err', 'sup', 'lv', 'sgh', 'ki', 'vent', 'aux', 'een', 'rdf', 'bj', 'pitt', 'pol', 'hyde', 'doo', 'dots', 'hf', 'mugs', 'wd', 'vase', 'msc', 'snmp', 'liu', 'gta', 'lyon', 'vera', 'boyd', 'napa', 'abt', 'inst', 'lj', 'pier', 'cote', 'rgb', 'saga', 'sgt', 'ast', 'gran', 'ke', 'apc', 'alle', 'rue', 'pga', 'ldap', 'elf', 'ces', 'mayo', 'benq', 'cha', 'lx', 'dub', 'bv', 'tai', 'como', 'lisp', 'pak', 'mos', 'tk', 'vis', 'erie', 'hifi', 'gf', 'ajax', 'wont', 'ew', 'nile', 'vm', 'hubs', 'hpa', 'soda', 'gop', 'dunn', 'ngo', 'pvt', 'atp', 'ivy', 'mvp', 'jh', 'clin', 'ark', 'govt', 'cbc', 'sed', 'uu', 'tomb', 'wwe', 'cor', 'goo', 'bldg', 'prom', 'isps', 'nic', 'kr', 'cubs', 'pulp', 'razr', 'slam', 'jt', 'lowe', 'crib', 'coca', 'acs', 'noun', 'xmas', 'cpa', 'dn', 'tara', 'hw', 'crab', 'jen', 'hike', 'bore', 'imdb', 'clic', 'ars', 'cows', 'xs', 'gprs', 'cue', 'png', 'han', 'sac', 'peg', 'init', 'svn', 'bake', 'oslo', 'fave', 'viet', 'heal', 'mum', 'asa', 'tote', 'alfa', 'twp', 'sour', 'atx', 'ietf', 'sock', 'xm', 'bail', 'fn', 'hen', 'mib', 'tees', 'ib', 'mist', 'glu', 'verb', 'tec', 'chic', 'gh', 'csi', 'doi', 'vest', 'neal', 'bst', 'tens', 'dsp', 'puma', 'toc', 'ax', 'rant', 'mms', 'desc', 'ego', 'gaza', 'gill', 'rude', 'sang', 'nay', 'gn', 'dll', 'curl', 'deli', 'nsf', 'sata', 'vine', 'vale', 'djs', 'cur', 'args', 'russ', 'limo', 'rust', 'lon', 'vin', 'nash', 'avid', 'lam', 'iss', 'bets', 'dcr', 'carr', 'fade', 'kvm', 'gwen', 'mob', 'imf', 'vr', 'monk', 'jovi', 'cmp', 'udp', 'sts', 'ich', 'torn', 'sbc', 'gag', 'heck', 'bark', 'lynx', 'goa', 'jedi', 'thr', 'roms', 'kane', 'yy', 'ug', 'emi', 'roth', 'odor', 'sis', 'flew', 'ale', 'sem', 'rcs', 'ios', 'apex', 'yds', 'ive', 'curb', 'cctv', 'deco', 'coke', 'webs', 'prod', 'dei', 'cane', 'todo', 'noah', 'wore', 'asap', 'dst', 'hut', 'mgmt', 'lima', 'cern', 'msa', 'dues', 'acad', 'gigs', 'lori', 'plea', 'pcb', 'sdk', 'pres', 'prey', 'drm', 'tas', 'enya', 'rub', 'lick', 'gov', 'ter', 'ness', 'crc', 'whip', 'chf', 'clr', 'msrp', 'vac', 'gu', 'nan', 'imac', 'uss', 'och', 'wwii', 'dba', 'cdr', 'ay', 'msi', 'prog', 'fifa', 'mus', 'msdn', 'mps', 'agp', 'bout', 'cont', 'hank', 'dhcp', 'avec', 'esta', 'amos', 'wo', 'unc', 'ang', 'fond', 'sore', 'fiat', 'jf', 'noel', 'cans', 'lim', 'exc', 'eff', 'kk', 'aide', 'nes', 'lieu', 'tor', 'fra', 'nwt', 'ole', 'reds', 'bart', 'auth', 'rsa', 'rcw', 'ths', 'noir', 'eli', 'evan', 'knob', 'meg', 'bh', 'knox', 'khz', 'aps', 'boca', 'dove', 'iis', 'ostg', 'kl', 'coll', 'imp', 'oi', 'mack', 'pu', 'sung', 'uae', 'wee', 'jsp', 'lett', 'ally', 'kung', 'alma', 'ger', 'px', 'isis', 'dull', 'tis', 'omni', 'cy', 'owe', 'jimi', 'som', 'bees', 'psa', 'tac', 'dlp', 'voor', 'sigh', 'hud', 'mov', 'mock', 'bats', 'lh', 'afp', 'kd', 'melt', 'ned', 'utf', 'faux', 'tha', 'ore', 'pant', 'hype', 'addr', 'nfs', 'rite', 'lac', 'alba', 'edi', 'vous', 'turf', 'ig', 'ziff', 'berg', 'muse', 'tyne', 'xv', 'pid', 'xii', 'dep', 'lust', 'luna', 'emc', 'dion', 'gpa', 'cpus', 'jude', 'corr', 'lien', 'marx', 'toni', 'vein', 'hale', 'ji', 'bel', 'tsp', 'sha', 'mri', 'hum', 'aix', 'tiff', 'cnc', 'natl', 'bait', 'dent', 'ida', 'macs', 'sums', 'hj', 'req', 'lame', 'feng', 'sar', 'pep', 'psc', 'moto', 'dior', 'mer', 'pops', 'osha', 'amid', 'icc', 'ly', 'knot', 'rad', 'gut', 'acta', 'yep', 'yuan', 'iec', 'esa', 'tate', 'coop', 'uml', 'bur', 'kris', 'spi', 'regs', 'plum', 'loft', 'arin', 'elm', 'rsvp', 'lump', 'halt', 'alta', 'hug', 'bury', 'ppl', 'supp', 'hep', 'duct', 'tos', 'hcl', 'lend', 'sco', 'lois', 'levi', 'mont', 'sx', 'pans', 'env', 'phs', 'mah', 'rk', 'abn', 'ames', 'ions', 'wat', 'rey', 'yay', 'polk', 'mets', 'niue', 'ux', 'rams', 'mfr', 'boo', 'hmmm', 'afb', 'ruin', 'nate', 'adhd', 'exe', 'vu', 'tcl', 'sy', 'tow', 'qos', 'otto', 'ik', 'theo', 'hgh', 'hx', 'este', 'fema', 'ack', 'nyt', 'hai', 'tuna', 'wipe', 'bei', 'dmc', 'adj', 'gcse', 'haul', 'duly', 'rig', 'ov', 'mick', 'obey', 'sax', 'oss', 'mare', 'asc', 'nsu', 'cary', 'wks', 'kite', 'faa', 'heap', 'wmv', 'lao', 'jaw', 'eats', 'flea', 'pals', 'hail', 'indy', 'herd', 'lag', 'fyi', 'xc', 'ics', 'apa', 'cx', 'akon', 'axe', 'amex', 'fh', 'cuz', 'calf', 'ams', 'engl', 'rave', 'ej', 'dy', 'mgm', 'ras', 'rib', 'phe', 'ers', 'bose', 'ses', 'situ', 'ord', 'bea', 'ama', 'mal', 'flap', 'aba', 'qb', 'woo', 'tty', 'bsc', 'bbb', 'jg', 'diva', 'csa', 'hvac', 'fao', 'nws', 'taps', 'oath', 'ngc', 'gala', 'dane', 'appl', 'xf', 'nib', 'slac', 'dora', 'riot', 'ming', 'tao', 'quot', 'ritz', 'lush', 'sti', 'fran', 'ccc', 'grim', 'flop', 'heh', 'toss', 'diaz', 'pity', 'eta', 'amc', 'woke', 'kos', 'cuff', 'reps', 'hn', 'tau', 'nsa', 'beg', 'psu', 'ogg', 'xslt', 'omg', 'cle', 'eddy', 'vv', 'tyr', 'cues', 'esq', 'kerr', 'kat', 'vega', 'lsu', 'colt', 'gao', 'uid', 'fav', 'wf', 'umd', 'gdb', 'bro', 'offs', 'fab', 'cond', 'cody', 'oa', 'quo', 'iu', 'vf', 'lei', 'jars', 'hips', 'rene', 'wigs', 'zion', 'hunk', 'stu', 'chap', 'rpc', 'thb', 'tele', 'imap', 'ita', 'idg', 'harp', 'phat', 'zz', 'wes', 'dds', 'tack', 'sack', 'deb', 'cpc', 'alr', 'ella', 'roe', 'sars', 'cme', 'vlan', 'hier', 'secs', 'sued', 'ecc', 'kj', 'kv', 'dogg', 'dimm', 'crs', 'nord', 'ssi', 'toby', 'gly', 'aac', 'cbd', 'afl', 'har', 'omar', 'axle', 'cobb', 'lara', 'kx', 'opal', 'toon', 'lars', 'rfp', 'coa', 'eo', 'tra', 'viva', 'blew', 'nap', 'lava', 'vie', 'gil', 'sle', 'vail', 'jv', 'envy', 'scr', 'ussr', 'lw', 'shah', 'bots', 'meds', 'pdb', 'eine', 'hehe', 'ju', 'ape', 'svc', 'gee', 'dcp', 'stag', 'pte', 'rash', 'ors', 'cps', 'digi', 'lex', 'yves', 'mips', 'boil', 'abe', 'roc', 'vo', 'pow', 'lic', 'xy', 'fte', 'stl', 'yd', 'gsa', 'vain', 'bert', 'maze', 'cmos', 'rode', 'amen', 'warp', 'imo', 'katz', 'jojo', 'kobe', 'otc', 'ssa', 'zeta', 'odbc', 'shui', 'mehr', 'brew', 'kern', 'coup', 'itu', 'mpi', 'rag', 'uf', 'alps', 'ow', 'econ', 'rowe', 'lec', 'lob', 'hbo', 'sus', 'subs', 'kh', 'yi', 'yum', 'limb', 'poe', 'wlan', 'gan', 'limp', 'mute', 'koch', 'freq', 'ans', 'dar', 'dart', 'robe', 'nrc', 'ezra', 'chr', 'scm', 'mast', 'fno', 'goth', 'kin', 'koh', 'cozy', 'spd', 'oj', 'comb', 'amer', 'zur', 'fps', 'alas', 'arte', 'acl', 'luv', 'onyx', 'fir', 'vn', 'dbz', 'tem', 'nope', 'evo', 'dire', 'gull', 'jour', 'mir', 'emo', 'sion', 'brit', 'prac', 'rims', 'idc', 'shin', 'flaw', 'adc', 'pane', 'wj', 'cre', 'vibe', 'ubc', 'teas', 'pri', 'anon', 'ribs', 'elem', 'nite', 'sal', 'barb', 'huns', 'mcse', 'barr', 'aura', 'csu', 'sect', 'astm', 'fsa', 'nous', 'xiv', 'sgd', 'ox', 'mole', 'obs', 'owed', 'cao', 'ftd', 'buff', 'asm', 'smb', 'clad', 'blu', 'orb', 'bse', 'fled', 'elle', 'xiii', 'awe', 'bros', 'dal', 'baja', 'cub', 'psy', 'moc', 'dau', 'byrd', 'prob', 'aces', 'xxl', 'lug', 'ymca', 'bos', 'wwf', 'smc', 'ry', 'lq', 'serv', 'ipo', 'tek', 'ipc', 'lied', 'ek', 'bloc', 'mdt', 'tam', 'hy', 'hugs', 'owls', 'cpr', 'ih', 'elec', 'ami', 'hid', 'gimp', 'nk', 'burt', 'inks', 'wink', 'itk', 'kms', 'nod', 'ocr', 'fife', 'stub', 'tort', 'grep', 'xeon', 'ud', 'dams', 'nx', 'thn', 'afro', 'mach', 'zine', 'conn', 'jin', 'spur', 'sith', 'wie', 'dwi', 'uma', 'skis', 'calc', 'pact', 'itc', 'lulu', 'kpx', 'kan', 'vita', 'attn', 'tues', 'ean', 'fla', 'lk', 'wig', 'ska', 'nora', 'dma', 'vida', 'sme', 'kp', 'yyyy', 'atl', 'ims', 'vx', 'spp', 'coed', 'mule', 'gk', 'kiwi', 'ohm', 'duel', 'mfc', 'mca', 'nmr', 'mso', 'htm', 'ats', 'tal', 'mead', 'gong', 'ber', 'dhs', 'util', 'bono', 'bays', 'exif', 'msu', 'gaze', 'tlc', 'rye', 'mpls', 'fta', 'pls', 'bmx', 'lad', 'hulk', 'cyan', 'ora', 'cory', 'bal', 'fsb', 'cns', 'hv', 'mlm', 'goin', 'aq', 'gx', 'axes', 'fj', 'wil', 'haze', 'pits', 'shi', 'ants', 'gev', 'lax', 'omb', 'wei', 'bac', 'rei', 'slab', 'lure', 'kart', 'ren', 'cpl', 'sbs', 'ling', 'aviv', 'pea', 'tubs', 'swf', 'rus', 'mags', 'tbd', 'hers', 'grin', 'ipb', 'asu', 'tsn', 'bdd', 'csc', 'daly', 'moby', 'neu', 'hem', 'leds', 'gln', 'acme', 'ilug', 'rove', 'gj', 'ect', 'sto', 'esc', 'stp', 'mot', 'avis', 'ari', 'avr', 'ppt', 'jung', 'cts', 'aria', 'qtr', 'rae', 'dirk', 'gz', 'bas', 'scar', 'wmd', 'cfs', 'ffi', 'rot', 'tcm', 'dorm', 'pies', 'prc', 'ther', 'afc', 'roxy', 'saws', 'tz', 'demi', 'dcs', 'emu', 'mci', 'mais', 'cain', 'syn', 'sgi', 'coco', 'rudy', 'tia', 'msds', 'srl', 'dine', 'wai', 'thx', 'slap', 'jaws', 'finn', 'paw', 'lux', 'isl', 'cit', 'amor', 'xvi', 'ttl', 'qq', 'suvs', 'bmp', 'kona', 'dss', 'luc', 'bam', 'ante', 'pcos', 'vols', 'ssk', 'leah', 'bred', 'sek', 'dsm', 'shea', 'dea', 'spc', 'hklm', 'osx', 'dems', 'oahu', 'lds', 'tout', 'gre', 'dab', 'bpm', 'hare', 'xa', 'ged', 'plat', 'ue', 'kn', 'py', 'bonn', 'pcg', 'tory', 'vor', 'atc', 'oder', 'abby', 'veil', 'tres', 'helm', 'pim', 'smp', 'jess', 'adr', 'jays', 'saul', 'apis', 'chew', 'teak', 'sli', 'enum', 'mio', 'aes', 'snp', 'aclu', 'pap', 'tive', 'nimh', 'adm', 'isd', 'sane', 'cen', 'minh', 'sba', 'vl', 'rea', 'snr', 'ecs', 'nrs', 'cfa', 'nom', 'pps', 'ntp', 'dune', 'hee', 'opp', 'isnt', 'dug', 'cli', 'mana', 'lest', 'tic', 'blur', 'punt', 'lps', 'zach', 'pdp', 'embl', 'gpo', 'dq', 'mojo', 'pq', 'ub', 'tori', 'moe', 'dime', 'smes', 'xu', 'carp', 'dusk', 'lent', 'aloe', 'lund', 'fam', 'nel', 'puff', 'bmi', 'exim', 'eis', 'claw', 'tyre', 'wand', 'taco', 'mcsg', 'ish', 'mla', 'chu', 'weld', 'writ', 'excl', 'bx', 'arr', 'typo', 'jn', 'damp', 'cpp', 'dz', 'spf', 'fern', 'jdbc', 'lore', 'vox', 'gyms', 'nach', 'quan', 'cpi', 'nis', 'sgml', 'arid', 'mona', 'crn', 'cid', 'mmf', 'coe', 'fac', 'zh', 'jive', 'siam', 'spun', 'ric', 'loch', 'balm', 'figs', 'upto', 'chit', 'lays', 'drip', 'wien', 'rtf', 'indo', 'sven', 'bmc', 'eia', 'mans', 'aff', 'rama', 'jfk', 'raf', 'igor', 'hama', 'mop', 'urn', 'pei', 'eas', 'waco', 'adp', 'sich', 'kev', 'katy', 'zoe', 'uber', 'csr', 'soo', 'pint', 'ply', 'dvb', 'cdma', 'msm', 'rac', 'liar', 'ares', 'opus', 'mage', 'sqrt', 'cdp', 'nur', 'mev', 'uno', 'nist', 'cot', 'novo', 'otis', 'sdn', 'mta', 'teal', 'ity', 'esd', 'kz', 'gnd', 'libc', 'ire', 'osu', 'gus', 'utp', 'jpy', 'liam', 'bard', 'reap', 'argv', 'ccm', 'bmg', 'csv', 'wen', 'atk', 'qi', 'kool', 'oki', 'hast', 'indi', 'undp', 'jbl', 'vel', 'ilo', 'pcm', 'dtd', 'mda', 'mira', 'hess', 'tidy', 'jong', 'vets', 'bows', 'nok', 'beau', 'caa', 'tad', 'xe', 'rang', 'hhs', 'cca', 'jeux', 'svg', 'mvc', 'mz', 'sew', 'laps', 'pong', 'hun', 'oro', 'myr', 'tata', 'frau', 'vows', 'macy', 'bern', 'agri', 'mpc', 'fob', 'sont', 'nemo', 'ifs', 'haas', 'mpa', 'rao', 'arp', 'pax', 'taj', 'auch', 'nie', 'educ', 'wsop', 'cpt', 'ftc', 'mft', 'uefa', 'soar', 'ooh', 'yin', 'tiki', 'asi', 'lena', 'cpm', 'bop', 'flee', 'woes', 'smf', 'boyz', 'cher', 'aut', 'dblp', 'cq', 'kara', 'foia', 'gam', 'stew', 'wac', 'hush', 'kiev', 'lama', 'akin', 'dex', 'lola', 'hms', 'ibn', 'asf', 'pfc', 'ctx', 'mmm', 'irq', 'dads', 'sdl', 'hays', 'soak', 'dade', 'baht', 'ttf', 'aca', 'fpo', 'fre', 'mds', 'boa', 'pers', 'ncr', 'xb', 'voc', 'yer', 'rts', 'pdfs', 'cac', 'teh', 'mes', 'hymn', 'quay', 'aest', 'lev', 'weir', 'rai', 'aft', 'bhd', 'publ', 'cpg', 'tes', 'dram', 'mara', 'sds', 'dun', 'lis', 'srs', 'hua', 'abba', 'qd', 'orig', 'frey', 'iz', 'vos', 'xda', 'burr', 'cfo', 'qr', 'vhf', 'slug', 'lira', 'gv', 'mimi', 'staa', 'tdk', 'sind', 'fha', 'nox', 'jams', 'tran', 'dyes', 'sca', 'tls', 'viz', 'cdrw', 'yell', 'fins', 'plz', 'rake', 'dsa', 'dag', 'ess', 'acct', 'jira', 'suns', 'bunk', 'stab', 'dyer', 'moi', 'ode', 'attr', 'emp', 'dit', 'dino', 'xvid', 'dmoz', 'amt', 'avs', 'suny', 'gifs', 'seam', 'aust', 'omit', 'orf', 'darn', 'lyme', 'prov', 'amg', 'moo', 'cpe', 'tous', 'resp', 'ammo', 'linn', 'sst', 'acp', 'tds', 'hsbc', 'veto', 'paz', 'lai', 'clam', 'nerd', 'hes', 'dac', 'guts', 'ros', 'mnt', 'axel', 'hahn', 'fas', 'alec', 'judd', 'bans', 'pta', 'poy', 'mao', 'buds', 'sire', 'ding', 'coma', 'svcd', 'cron', 'yup', 'occ', 'cpan', 'yan', 'tco', 'opel', 'eeo', 'sham', 'loaf', 'dkk', 'sse', 'stad', 'abel', 'bgp', 'dnc', 'jug', 'bci', 'aaaa', 'lst', 'ais', 'surg', 'rst', 'ecm', 'fem', 'spe', 'ani', 'jens', 'agm', 'sai', 'mdot', 'qs', 'cso', 'whey', 'mei', 'mcg', 'curt', 'lvl', 'ado', 'teac', 'neg', 'moth', 'rma', 'mash', 'germ', 'pug', 'srp', 'tat', 'voir', 'tug', 'hmv', 'drs', 'thi', 'bz', 'mts', 'pip', 'pup', 'clie', 'cdm', 'icy', 'nbsp', 'sui', 'ccs', 'seg', 'atop', 'kemp', 'sla', 'mcc', 'foe', 'mpaa', 'gogh', 'bnwt', 'nun', 'edna', 'isi', 'axim', 'cve', 'cls', 'ftse', 'moor', 'ecn', 'mech', 'sway', 'qtek', 'oy', 'utd', 'sul', 'juno', 'deux', 'xfm', 'sps', 'toad', 'mcs', 'cmc', 'cnt', 'aan', 'nah', 'eek', 'vdc', 'wsdl', 'xyz', 'esrb', 'bum', 'olga', 'vim', 'ssp', 'icp', 'wir', 'malt', 'yp', 'ugm', 'bsa', 'ima', 'iain', 'mtn', 'pbx', 'inv', 'pln', 'ohne', 'cin', 'msp', 'medi', 'nrt', 'pisa', 'pods', 'afs', 'ost', 'aha', 'dre', 'aarp', 'git', 'dict', 'nps', 'afr', 'expr', 'clap', 'ejb', 'afi', 'sera', 'cfp', 'osi', 'hmo', 'blm', 'paws', 'mtg', 'poke', 'zeus', 'cma', 'hume', 'dkny', 'tdd', 'kiln', 'dcc', 'btu', 'sud', 'gy', 'lyle', 'sous', 'kda', 'jock', 'gyn', 'ely', 'dyed', 'wasp', 'ugg', 'fdid', 'muir', 'snes', 'swat', 'pune', 'pvr', 'zn', 'dms', 'pico', 'dnr', 'nee', 'rtp', 'umm', 'eap', 'ism', 'seti', 'dnp', 'teri', 'rbd', 'yt', 'xff', 'qu', 'hbox', 'lng', 'pds', 'ini', 'mrc', 'ncc', 'ldl', 'pgs', 'hue', 'xga', 'ys', 'seks', 'eof', 'ito', 'sine', 'pkwy', 'exon', 'kf', 'mig', 'toro', 'ndp', 'itt', 'ley', 'ike', 'iff', 'roar', 'ibs', 'gall', 'pir', 'reco', 'loi', 'meme', 'typ', 'ze', 'apes', 'ives', 'mgt', 'dali', 'kahn', 'mgr', 'jody', 'vue', 'mex', 'bona', 'sel', 'gaap', 'hmc', 'nid', 'ffm', 'duh', 'hse', 'slit', 'wah', 'mor', 'ecco', 'irb', 'ava', 'amr', 'ecu', 'crd', 'trp', 'psd', 'adb', 'ias', 'pai', 'fic', 'nix', 'tak', 'fdi', 'npc', 'bun', 'cip', 'lsc', 'otrs', 'omim', 'cine', 'xen', 'ture', 'scc', 'raj', 'iana', 'elmo', 'ixus', 'ralf', 'anh', 'trax', 'dai', 'ssc', 'nofx', 'beep', 'kaye', 'bps', 'camo', 'toms', 'ccg', 'slid', 'riaa', 'jig', 'spl', 'qua', 'fk', 'cla', 'cbr', 'pab', 'nana', 'proj', 'raft', 'cul', 'sae', 'iaea', 'cali', 'prs', 'ssb', 'cpd', 'ece', 'fide', 'brow', 'ntl', 'zack', 'gels', 'byu', 'sdp', 'fay', 'vars', 'iep', 'fink', 'deem', 'gpg', 'ene', 'flax', 'tart', 'tram', 'alia', 'iced', 'mtb', 'aed', 'vms', 'orr', 'uva', 'fga', 'nino', 'urdu', 'cara', 'ese', 'ils', 'civ', 'fro', 'dsn', 'shri', 'vk', 'uhf', 'meer', 'parc', 'heir', 'phy', 'sth', 'slc', 'cfl', 'nci', 'nga', 'lotr', 'isn', 'lau', 'loco', 'feds', 'kwh', 'sacd', 'spv', 'baba', 'ets', 'xtra', 'ceos', 'loom', 'xena', 'ara', 'tru', 'grub', 'slew', 'jenn', 'tay', 'duet', 'hdmi', 'ctc', 'cato', 'naar', 'aeg', 'lcs', 'uo', 'uns', 'yuma', 'gpm', 'hla', 'mori', 'adi', 'hfs', 'nal', 'mea', 'pca', 'topo', 'cel', 'depp', 'trna', 'cong', 'dwl', 'nea', 'riga', 'cbt', 'oti', 'aas', 'rory', 'jas', 'sma', 'epi', 'qv', 'ame', 'ohms', 'msgs', 'mpn', 'cse', 'taos', 'tong', 'dri', 'ozzy', 'zx', 'dodd', 'jpn', 'nye', 'bq', 'cdw', 'robb', 'dif', 'isc', 'wary', 'tbsp', 'tre', 'oft', 'bnc', 'ria', 'cdi', 'clp', 'pun', 'riff', 'dest', 'tae', 'chai', 'alsa', 'mace', 'wkh', 'nyu', 'isla', 'dps', 'icmp', 'dol', 'wrt', 'ppg', 'sym', 'luca', 'dahl', 'pla', 'nfc', 'lids', 'pore', 'ey', 'oily', 'ina', 'nntp', 'mga', 'joys', 'lear', 'mich', 'zire', 'sow', 'wiz', 'grit', 'ym', 'itv', 'colo', 'ying', 'bce', 'ssn', 'mou', 'hpv', 'jain', 'sei', 'nays', 'rds', 'abb', 'usaf', 'ence', 'sinh', 'hilo', 'idx', 'weil', 'aec', 'kari', 'ikea', 'gbr', 'koi', 'sues', 'tame', 'cba', 'oats', 'sqft', 'oth', 'wilt', 'vnu', 'tera', 'acpi', 'ting', 'iva', 'neue', 'sau', 'nds', 'dbm', 'marr', 'ssw', 'vh', 'agra', 'rolf', 'emit', 'rink', 'pov', 'ifc', 'inxs', 'desy', 'dav', 'bcc', 'ven', 'ecb', 'ugh', 'nlm', 'numb', 'flo', 'vcrs', 'scot', 'kato', 'kama', 'bcs', 'icu', 'veg', 'pave', 'fv', 'irda', 'grp', 'edp', 'scs', 'dur', 'doh', 'jodi', 'chun', 'dmr', 'svs', 'ntfs', 'fdic', 'icd', 'vj', 'airy', 'pref', 'fmt', 'vd', 'shan', 'nys', 'cra', 'sly', 'raul', 'wtc', 'loma', 'geil', 'lans', 'emmy', 'chez', 'ruiz', 'vba', 'airs', 'sito', 'scp', 'hst', 'fey', 'cmt', 'usm', 'xls', 'bog', 'lsb', 'dole', 'wick', 'owes', 'sag', 'peat', 'rq', 'cda', 'maj', 'usp', 'foi', 'imax', 'mss', 'ici', 'metz', 'ucc', 'pur', 'ono', 'cem', 'sunk', 'perm', 'rte', 'pha', 'igg', 'wsu', 'vlc', 'liv', 'lana', 'jag', 'kang', 'lair', 'els', 'sod', 'lacy', 'taft', 'pcc', 'spr', 'nep', 'ach', 'wren', 'csp', 'ait', 'drc', 'desi', 'xj', 'dpkg', 'mapa', 'aip', 'eda', 'rar', 'hin', 'pmi', 'tdm', 'shen', 'arcs', 'ayes', 'gmp', 'mth', 'heed', 'mein', 'graf', 'fpic', 'pdc', 'bora', 'shu', 'tcs', 'boon', 'sams', 'zend', 'csf', 'lyn', 'witt', 'mcd', 'unep', 'jeu', 'bois', 'inr', 'tore', 'dunk', 'eth', 'aga', 'cdf', 'jel', 'mq', 'dvp', 'csb', 'subj', 'sono', 'lott', 'srv', 'mhc', 'odp', 'diss', 'olaf', 'fer', 'cta', 'nzd', 'fil', 'psx', 'dmv', 'ayp', 'mutt', 'vide', 'sil', 'deus', 'tsx', 'dnl', 'mtu', 'ouch', 'cys', 'dips', 'fpga', 'digs', 'smd', 'ql', 'chs', 'zar', 'joss', 'enid', 'kohl', 'khi', 'pups', 'hdr', 'anc', 'doin', 'tld', 'lido', 'trl', 'noch', 'soto', 'jus', 'bpo', 'daft', 'rtl', 'iea', 'coo', 'bleu', 'czk', 'opm', 'tmc', 'dob', 'inet', 'cov', 'tcb', 'dmca', 'idl', 'dax', 'ris', 'nag', 'lcds', 'xo', 'mdl', 'hts', 'gilt', 'gq', 'yc', 'faye', 'cto', 'ospf', 'asic', 'yong', 'vers', 'asl', 'ble', 'clk', 'ica', 'cyl', 'cec', 'trad', 'nra', 'ihr', 'cath', 'sato', 'ccr', 'agro', 'pvp', 'taxa', 'irl', 'mfa', 'endo', 'emt', 'aia', 'tig', 'eec', 'nlp', 'smt', 'sia', 'sami', 'sled', 'elan', 'csd', 'milo', 'frm', 'dbs', 'refs', 'smh', 'rees', 'coax', 'mwf', 'lees', 'sooo', 'mari', 'tod', 'dla', 'alum', 'zhu', 'doth', 'kip', 'bla', 'qual', 'stc', 'plow', 'orc', 'gti', 'hdl', 'yun', 'hui', 'nac', 'dang', 'foes', 'ewan', 'cwa', 'akai', 'fsc', 'vow', 'ttc', 'neff', 'blot', 'imam', 'rial', 'tafe', 'pz', 'zulu', 'rin', 'rift', 'dup', 'syd', 'fsu', 'turk', 'lep', 'fnal', 'mcp', 'judo', 'ltc', 'gli', 'opc', 'fec', 'opml', 'cana', 'cou', 'awd', 'pew', 'coz', 'unk', 'reb', 'rios', 'manu', 'cic', 'pyle', 'ldp', 'msr', 'zr', 'asx', 'curr', 'conv', 'jana', 'luxe', 'dhl', 'mays', 'risc', 'hcv', 'oboe', 'tzu', 'hurd', 'yeh', 'ahh', 'lobe', 'wynn', 'hsa', 'bret', 'gosh', 'elsa', 'gerd', 'copa', 'gtp', 'zlib', 'cnr', 'olde', 'mdc', 'tsa', 'akg', 'ttm', 'fz', 'mica', 'ott', 'bsn', 'lads', 'suzy', 'sumo', 'hsc', 'inca', 'fad', 'tse', 'pfam', 'tdi', 'ain', 'sftp', 'coby', 'ihre', 'inte', 'zee', 'cfc', 'isu', 'stm', 'iw', 'tif', 'usn', 'heb', 'luz', 'fips', 'urea', 'rvs', 'wenn', 'rhs', 'oop', 'gmac', 'zeal', 'sant', 'bah', 'borg', 'doa', 'ase', 'osg', 'xlr', 'esi', 'ubs', 'spie', 'anu', 'fol', 'vom', 'asme', 'cai', 'swe', 'xorg', 'cout', 'kpmg', 'sedo', 'igp', 'lutz', 'iter', 'lar', 'tmdl', 'gent', 'zap', 'zhao', 'gaa', 'rz', 'lal', 'bjc', 'cfm', 'gms', 'poc', 'wird', 'pny', 'hind', 'ache', 'pdr', 'bhp', 'ust', 'yoke', 'mak', 'hci', 'kuhn', 'tins', 'xix', 'loot', 'jy', 'ctw', 'tbs', 'sct', 'cog', 'sfo', 'gasp', 'uci', 'hap', 'dti', 'wwi', 'usf', 'tint', 'cea', 'eet', 'sua', 'emil', 'yz', 'ipa', 'vert', 'dfw', 'bain', 'vax', 'yak', 'silt', 'muy', 'aap', 'pto', 'lint', 'blob', 'ela', 'ical', 'roam', 'toto', 'uz', 'fait', 'perf', 'kant', 'csm', 'svcs', 'stun', 'ifn', 'cee', 'yl', 'yee', 'jpl', 'lhc', 'lew', 'ong', 'trey', 'trs', 'ddd', 'pwd', 'aiwa', 'fang', 'jdk', 'sop', 'thur', 'oper', 'stn', 'yuri', 'woe', 'liza', 'nge', 'weep', 'cleo', 'kata', 'giga', 'lilo', 'adf', 'jax', 'iam', 'deph', 'aziz', 'lula', 'nucl', 'saba', 'endl', 'ergo', 'orch', 'nts', 'rbc', 'cob', 'apec', 'mcl', 'sfc', 'sss', 'lbp', 'tcc', 'kam', 'ecg', 'aire', 'moan', 'dca', 'lua', 'lpg', 'opti', 'opec', 'irix', 'aber', 'qp', 'bryn', 'erm', 'rfi', 'fen', 'sank', 'zs', 'kjv', 'qm', 'eid', 'bale', 'sthn', 'fel', 'smog', 'ucl', 'poa', 'mics', 'prem', 'ntt', 'keel', 'qw', 'mems', 'cosy', 'qvc', 'pws', 'tbc', 'vod', 'jrst', 'tnf', 'ere', 'gto', 'dao', 'ravi', 'yam', 'ple', 'shes', 'seer', 'vial', 'chao', 'huff', 'gust', 'cate', 'rmi', 'haus', 'graz', 'doha', 'ard', 'amir', 'ects', 'nell', 'lok', 'kwan', 'cdl', 'gar', 'ltr', 'capt', 'uwe', 'clio', 'xvii', 'musk', 'wsw', 'lice', 'vnc', 'nfpa', 'dnf', 'chp', 'kinh', 'ioc', 'winn', 'skim', 'rune', 'welt', 'veal', 'abd', 'cay', 'jog', 'rect', 'ipx', 'rags', 'poi', 'cti', 'tei', 'baum', 'lms', 'hsu', 'ferc', 'tanf', 'llvm', 'chet', 'pel', 'amo', 'egan', 'posh', 'bnib', 'moh', 'mink', 'deze', 'doj', 'ipm', 'cree', 'rnd', 'jama', 'lsi', 'gtr', 'sdi', 'blum', 'pcbs', 'iac', 'nss', 'smi', 'jak', 'rnb', 'aig', 'penh', 'agc', 'kali', 'umts', 'spo', 'jai', 'gard', 'deja', 'dill', 'vbr', 'qed', 'itat', 'syst', 'ests', 'rigs', 'moot', 'zane', 'acd', 'hepa', 'ance', 'alp', 'agar', 'edo', 'impl', 'gmat', 'dani', 'dvm', 'rein', 'thq', 'osce', 'cmo', 'jos', 'pia', 'cmg', 'buoy', 'niet', 'tenn', 'fis', 'korg', 'newt', 'ola', 'frye', 'wmf', 'dung', 'dwg', 'lark', 'oda', 'ppb', 'tyco', 'pwr', 'oma', 'plac', 'rfq', 'esri', 'yao', 'npt', 'oid', 'lda', 'mma', 'ruff', 'tux', 'cfd', 'niv', 'cdg', 'peta', 'paco', 'gid', 'awg', 'pki', 'bev', 'eai', 'frs', 'osc', 'gss', 'gump', 'avp', 'yabb', 'zoos', 'ning', 'rohs', 'tpc', 'cmf', 'rsc', 'lgbt', 'xfn', 'msw', 'eel', 'wic', 'faro', 'ffa', 'ell', 'giro', 'dor', 'ccna', 'pnp', 'glo', 'psf', 'cots', 'cala', 'mkt', 'nae', 'fret', 'wep', 'uab', 'olp', 'mgp', 'bao', 'stis', 'tep', 'tut', 'haut', 'mdr', 'hplc', 'aqui', 'gums', 'kann', 'xg', 'adt', 'alf', 'tung', 'svga', 'yoda', 'uso', 'jst', 'xn', 'glib', 'zi', 'gees', 'ith', 'yw', 'lgpl', 'jsf', 'jms', 'mbs', 'idf', 'fifo', 'atty', 'noe', 'kun', 'dbl', 'bsp', 'lse', 'cci', 'hppa', 'cna', 'aoc', 'eich', 'cora', 'vile', 'aci', 'brio', 'acr', 'emea', 'gro', 'caf', 'sro', 'foxx', 'ppi', 'noc', 'pima', 'wht', 'emf', 'pont', 'miro', 'cer', 'serb', 'pred', 'etf', 'sph', 'noi', 'nurs', 'mirc', 'acf', 'bae', 'vdr', 'tms', 'kew', 'ytd', 'xin', 'peri', 'loci', 'hula', 'qms', 'abr', 'sda', 'jcb', 'wpa', 'ctf', 'foxy', 'conc', 'peng', 'putt', 'nia', 'stds', 'hav', 'yeas', 'cram', 'accu', 'saf', 'htc', 'hens', 'gsi', 'kofi', 'ree', 'pma', 'chm', 'hpc', 'arrl', 'dfi', 'simi', 'riu', 'iom', 'tess', 'vari', 'snd', 'dlt', 'fray', 'dtv', 'rtn', 'cep', 'rfa', 'itmj', 'msd', 'etfs', 'cde', 'zona', 'aceh', 'gags', 'rips', 'hari', 'sash', 'ecd', 'ctxt', 'rtd', 'akc', 'cgc', 'ipr', 'oar', 'lire', 'dic', 'pio', 'afa', 'aida', 'sram', 'flor', 'dina', 'rfe', 'oleg', 'smo', 'nik', 'bai', 'raja', 'ltl', 'ute', 'pnt', 'sou', 'boar', 'wip', 'itp', 'mite', 'usmc', 'gma', 'shih', 'lago', 'jed', 'sikh', 'mina', 'ele', 'lsp', 'rol', 'bri', 'cjk', 'coun', 'ctv', 'spar', 'esb', 'wedi', 'tca', 'avn', 'inno', 'arco', 'chas', 'kar', 'rojo', 'aic', 'redo', 'sein', 'rps', 'cmu', 'vps', 'nome', 'fdc', 'bom', 'srt', 'gabe', 'asd', 'aeon', 'wits', 'hrc', 'sfx', 'nth', 'srm', 'epc', 'xxi', 'anew', 'yah', 'spss', 'tftp', 'hana', 'zijn', 'pra', 'psyc', 'eax', 'nbr', 'ptc', 'qe', 'pell', 'mtl', 'apj', 'kal', 'fai', 'ccp', 'ifa', 'gbc', 'yb', 'nico', 'mro', 'fcs', 'niki', 'mec', 'bts', 'xps', 'dda', 'apts', 'slo', 'dap', 'ssr', 'fsbo', 'mtc', 'cav', 'rrr', 'upi', 'sna', 'eeg', 'dlls', 'loon', 'pes', 'sips', 'ctl', 'herr', 'huf', 'wort', 'mgi', 'mce', 'hsv', 'argc', 'ori', 'citi', 'cny', 'nara', 'nab', 'fhwa', 'bari', 'nuns', 'yg', 'edm', 'osa', 'bmd', 'rpt', 'ppo', 'pag', 'lui', 'wipo', 'tuba', 'nsta', 'sinn', 'ivf', 'jest', 'xmms', 'luce', 'ade', 'mfrs', 'vcc', 'pau', 'alb', 'bpa', 'fms', 'mort', 'edn', 'ota', 'cray', 'iol', 'maxx', 'lun', 'snl', 'vai', 'repo', 'rcd', 'sino', 'uhr', 'yh', 'atol', 'cae', 'gnus', 'lrc', 'tvr', 'ped', 'peo', 'eea', 'bcp', 'nasd', 'tid', 'dfa', 'edc', 'ayr', 'skb', 'qcd', 'rwxr', 'rtc', 'jolt', 'upn', 'wea', 'iona', 'ral', 'copd', 'jem', 'afm', 'xref', 'skew', 'budd', 'acn', 'muni', 'eee', 'didn', 'wye', 'wsj', 'atms', 'cyst', 'mott', 'fowl', 'cics', 'wrc', 'unlv', 'erc', 'pate', 'bjp', 'qf', 'nne', 'myx', 'sdr', 'snug', 'myc', 'kira', 'kgs', 'nai', 'orca', 'nema', 'esf', 'bls', 'koss', 'paq', 'ucsd', 'gon', 'maud', 'noni', 'wtb', 'dido', 'crue', 'loo', 'ghc', 'eam', 'smu', 'ahl', 'egcs', 'gcn', 'lz', 'andi', 'ccl', 'smeg', 'juli', 'crp', 'rosy', 'ptsd', 'diam', 'hkd', 'jx', 'wel', 'eft', 'hir', 'peut', 'nar', 'idm', 'petr', 'mrp', 'agfa', 'ogre', 'mep', 'goss', 'jvm', 'nus', 'edd', 'baud', 'zo', 'sped', 'roo', 'mpgs', 'etsi', 'fisk', 'tq', 'yogi', 'cru', 'ary', 'mcr', 'uga', 'chg', 'eso', 'remy', 'pats', 'mora', 'cri', 'pcl', 'bba', 'wis', 'ook', 'opie', 'cro', 'plt', 'enc', 'gow', 'ivr', 'judi', 'icom', 'cbo', 'foaf', 'cllr', 'xh', 'dio', 'icm', 'dojo', 'nin', 'hrt', 'oso', 'nsc', 'irr', 'fca', 'drg', 'alc', 'meek', 'lind', 'arb', 'wms', 'stow', 'eide', 'mmol', 'nclb', 'cmi', 'pepe', 'msf', 'awk', 'cabs', 'jac', 'lcr', 'cohn', 'aon', 'ocs', 'bak', 'ddc', 'vca', 'glam', 'mtr', 'cty', 'eyre', 'apm', 'iggy', 'seu', 'beet', 'gcs', 'sab', 'mtd', 'vito', 'geld', 'soi', 'bcl', 'dru', 'apar', 'pegs', 'wsis', 'anil', 'lpn', 'mena', 'shay', 'bebe', 'vas', 'ovid', 'rnc', 'meow', 'zig', 'lash', 'ills', 'tcg', 'alu', 'tyan', 'teva', 'lsa', 'omen', 'amin', 'lii', 'cfg', 'tvc', 'elt', 'ite', 'nutr', 'pacs', 'azur', 'brig', 'beos', 'tuff', 'coy', 'mmv', 'sbd', 'lila', 'nnw', 'fila', 'boz', 'nit', 'rab', 'coda', 'sra', 'sog', 'mlk', 'bec', 'sala', 'fof', 'evra', 'tss', 'thc', 'defy', 'stor', 'bef', 'jaya', 'mame', 'agua', 'ppe', 'tso', 'epp', 'kays', 'rcp', 'crit', 'sdm', 'dtp', 'kwon', 'gnl', 'foss', 'gfp', 'mdi', 'gac', 'heli', 'kilt', 'lian', 'priv', 'lodi', 'mise', 'rata', 'plm', 'esac', 'gts', 'icf', 'xfx', 'tsr', 'lod', 'baer', 'yf', 'cmr', 'chil', 'coos', 'fia', 'cmms', 'vino', 'pdu', 'cie', 'icts', 'saa', 'pwc', 'caro', 'shp', 'chl', 'apn', 'klm', 'dtr', 'clog', 'rox', 'yeti', 'arf', 'sill', 'linz', 'azul', 'loeb', 'isr', 'vir', 'wfp', 'gpc', 'fq', 'ufos', 'fitz', 'dura', 'qh', 'zeu', 'mata', 'frat', 'joni', 'sens', 'moab', 'reqs', 'hrm', 'abp', 'tpa', 'buns', 'sdf', 'aldo', 'azim', 'vcs', 'dada', 'mcf', 'lcc', 'nils', 'asr', 'lain', 'lfs', 'slp', 'tol', 'bnp', 'lem', 'ucb', 'mnh', 'nop', 'mse', 'sio', 'gef', 'tots', 'pmp', 'ghg', 'ocz', 'zak', 'lia', 'tors', 'jena', 'gtx', 'mua', 'cebu', 'arne', 'gla', 'sav', 'unis', 'myst', 'rpi', 'hcc', 'tio', 'ppd', 'dann', 'gfx', 'muon', 'svr', 'lmb', 'tps', 'stk', 'prp', 'cnbc', 'tris', 'dum', 'bol', 'agr', 'oat', 'rmb', 'mdf', 'afar', 'terr', 'ebb', 'xw', 'avc', 'cess', 'brw', 'lak', 'cari', 'vila', 'fsf', 'engr', 'ings', 'boop', 'mee', 'tla', 'guid', 'isk', 'moda', 'leas', 'jeb', 'algo', 'fora', 'fdr', 'gaba', 'vfs', 'dlc', 'falk', 'sfr', 'cyp', 'mab', 'tron', 'ine', 'xlt', 'gab', 'prin', 'baa', 'neq', 'rhys', 'remo', 'msec', 'ote', 'ond', 'ncs', 'dpf', 'dxf', 'reis', 'sess', 'aws', 'dtc', 'chc', 'iucn', 'gls', 'vst', 'nls', 'nepa', 'xiao', 'vee', 'emb', 'ato', 'foro', 'flac', 'umc', 'nei', 'nha', 'jah', 'dsr', 'lta', 'aer', 'scop', 'etch', 'amit', 'odin', 'ulm', 'ure', 'iras', 'cwt', 'jae', 'pstn', 'tama', 'olin', 'galt', 'iy', 'flue', 'emir', 'tatu', 'jing', 'ddt', 'loa', 'tga', 'kiel', 'agi', 'atvs', 'mobs', 'cris', 'dce', 'kfc', 'anno', 'nq', 'gout', 'mmmm', 'mul', 'rubs', 'xine', 'nrw', 'dias', 'agus', 'ucd', 'nda', 'oes', 'disp', 'oai', 'fbo', 'gat', 'haw', 'mvn', 'wz', 'mita', 'ise', 'vfr', 'gra', 'bobs', 'ppa', 'mip', 'sor', 'vgn', 'bane', 'csn', 'rudd', 'ane', 'cial', 'tsc', 'gfs', 'okc', 'thaw', 'reo', 'muvo', 'boi', 'toi', 'apl', 'rok', 'gatt', 'oxo', 'bene', 'hah', 'brno', 'rcra', 'mlo', 'fff', 'uq', 'rta', 'embo', 'ssrn', 'oup', 'eels', 'shun', 'tipo', 'fim', 'bor', 'pld', 'ctp', 'ako', 'ltte', 'hss', 'fft', 'gry', 'ihs', 'ines', 'tun', 'zaf', 'rpgs', 'nsp', 'novi', 'jab', 'yoko', 'cdd', 'noam', 'arun', 'cga', 'ashe', 'pss', 'boch', 'liga', 'megs', 'idp', 'tsb', 'bca', 'soe', 'nbs', 'daze', 'amb', 'guo', 'ltsn', 'itil', 'esr', 'sce', 'icrc', 'boer', 'trot', 'zed', 'yung', 'krw', 'dtm', 'wald', 'atcc', 'zf', 'mani', 'wok', 'sof', 'pron', 'cag', 'fein', 'fick', 'tcu', 'pena', 'duc', 'iia', 'iata', 'zim', 'woof', 'jsr', 'siu', 'addi', 'jkt', 'wcs', 'farr', 'pse', 'ous', 'davy', 'revo', 'nlrb', 'enr', 'diag', 'ens', 'fpc', 'brl', 'vpns', 'wor', 'dha', 'wot', 'geog', 'wxga', 'nmfs', 'vick', 'aml', 'clc', 'dowd', 'wham', 'mln', 'wres', 'barm', 'nmap', 'nvq', 'ocd', 'ryu', 'hamm', 'gyno', 'vlad', 'cif', 'epo', 'mcm', 'ucf', 'nacl', 'sfa', 'dfes', 'pon', 'begs', 'lvm', 'uit', 'bok', 'msx', 'mull', 'ort', 'utm', 'urs', 'kds', 'tefl', 'sudo', 'atg', 'objc', 'robo', 'roto', 'mnem', 'nnn', 'vob', 'hbp', 'urns', 'atr', 'gpu', 'poco', 'rcmp', 'fea', 'kors', 'nuys', 'rdr', 'jer', 'qj', 'quid', 'tix', 'oas', 'lnb', 'seb', 'sigs', 'momo', 'ttt', 'cim', 'shs', 'deng', 'oems', 'exch', 'efi', 'kilo', 'tou', 'slay', 'thea', 'siti', 'ifp', 'circ', 'sml', 'pti', 'ema', 'tch', 'eno', 'cus', 'gio', 'nods', 'eral', 'chia', 'basf', 'irma', 'ahhh', 'boro', 'dmd', 'gaz', 'glbt', 'rsi', 'parr', 'pob', 'ods', 'leno', 'vrml', 'sida', 'adl', 'crl', 'hkcu', 'niro', 'olap', 'bree', 'riva', 'tage', 'elo', 'tus', 'zas', 'maar', 'dork', 'nog', 'fei', 'gigi', 'ett', 'ags', 'kiki', 'vz', 'zzz', 'oui', 'tsg', 'ano', 'epl', 'loki', 'kava', 'dra', 'sari', 'lga', 'mitt', 'rawk', 'ucsc', 'fod', 'tng', 'mun', 'wahl', 'skk', 'cmm', 'chn', 'jse', 'bsnl', 'wega', 'ibc', 'meng', 'efa', 'xz', 'lada', 'tdc', 'feud', 'timo', 'hea', 'ffs', 'bmj', 'mika', 'msft', 'mbna', 'ofc', 'gian', 'hdv', 'gmo', 'sdc', 'coc', 'tant', 'thd', 'bobo', 'brut', 'ucsf', 'gist', 'rmit', 'dirs', 'wid', 'agg', 'unsw', 'btn', 'ohs', 'rns', 'nrg', 'sev', 'zt', 'bela', 'swt', 'alm', 'vy', 'cnrs', 'shar', 'lobo', 'nunn', 'zb', 'wst', 'fong', 'hbs', 'zips', 'ntot', 'mudd', 'dvs', 'keri', 'hed', 'sids', 'oooh', 'ayn', 'yuba', 'yaoi', 'tact', 'rana', 'iop', 'dawg', 'rife', 'stb', 'baan', 'slt', 'jz', 'fss', 'silo', 'huts', 'amon', 'bcd', 'fkq', 'iit', 'nrcs', 'eras', 'ktm', 'hsp', 'bock', 'fsm', 'ker', 'dte', 'pugh', 'sga', 'bfi', 'meu', 'ctd', 'voeg', 'wha', 'mend', 'riel', 'wdm', 'brea', 'trib', 'capo', 'mim', 'idn', 'opto', 'nrl', 'mums', 'facs', 'mmp', 'dect', 'mew', 'symp', 'igf', 'baku', 'ced', 'smr', 'gita', 'itm', 'ath', 'acls', 'pwm', 'asca', 'ipcc', 'tern', 'rls', 'grd', 'odeo', 'osd', 'atb', 'ctg', 'ecko', 'rota', 'ifrs', 'jute', 'prim', 'gri', 'rsp', 'eir', 'pang', 'swag', 'yap', 'dpt', 'ssm', 'poli', 'fos', 'ents', 'ldem', 'joop', 'hutt', 'dugg', 'rela', 'quik', 'xk', 'icao', 'devi', 'opts', 'ryde', 'kee', 'nand', 'ladd', 'mgs', 'padi', 'msl', 'juni', 'eon', 'elif', 'wcc', 'mano', 'uta', 'myra', 'dqg', 'vfd', 'tet', 'nber', 'ingo', 'nao', 'pde', 'msb', 'iptv', 'dpp', 'umax', 'dmg', 'sdh', 'mawr', 'daw', 'whim', 'enzo', 'cml', 'pied', 'ales', 'zna', 'psr', 'sump', 'amro', 'sgs', 'mbas', 'rbs', 'frei', 'zest', 'leif', 'jrr', 'iwc', 'setq', 'vcl', 'lto', 'busi', 'rotc', 'gaas', 'emr', 'wich', 'huey', 'alam', 'ner', 'banc', 'mult', 'bbl', 'dona', 'ots', 'wer', 'rav', 'wisp', 'cena', 'gemm', 'lala', 'sift', 'osp', 'ooze', 'jhi', 'amf', 'klip', 'cvd', 'lhs', 'leur', 'asha', 'hur', 'gnc', 'efl', 'igs', 'kota', 'iden', 'dil', 'wia', 'subd', 'dsu', 'idr', 'mam', 'snag', 'plex', 'mrsa', 'awt', 'dci', 'geri', 'fcp', 'yank', 'ncp', 'bcm', 'pbox', 'aea', 'gnp', 'zuma', 'kuna', 'xor', 'pict', 'wim', 'puc', 'twa', 'aat', 'abcd', 'deh', 'scf', 'mohr', 'dpa', 'btc', 'hues', 'nir', 'bss', 'soyo', 'meh', 'wag', 'vlsi', 'uy', 'bute', 'cami', 'lakh', 'vogt', 'lags', 'wray', 'hajj', 'mme', 'spat', 'mco', 'ucsb', 'argo', 'fdd', 'tmpl', 'lita', 'vec', 'ices', 'buch', 'dhhs', 'nio', 'wsi', 'haan', 'prn', 'zm', 'keg', 'dfs', 'eac', 'ahem', 'aron', 'pis', 'pari', 'iee', 'spm', 'dji', 'ipp', 'chee', 'ena', 'cios', 'nms', 'gsc', 'sqm', 'xoxo', 'nri', 'prd', 'uris', 'shad', 'sfas', 'gnn', 'krs', 'uti', 'kino', 'tur', 'rit', 'wavy', 'daz', 'nsi', 'crux', 'nhra', 'iga', 'lek', 'geol', 'aar', 'ssg', 'unt', 'shia', 'reba', 'wrx', 'rsgi', 'sls', 'slg', 'slag', 'skit', 'boe', 'malo', 'anz', 'edta', 'pll', 'kcal', 'sado', 'uic', 'jsc', 'kelp', 'yall', 'batt', 'dbms', 'asb', 'tro', 'vamp', 'osti', 'marg', 'beim', 'bms', 'iota', 'helo', 'moog', 'anth', 'pris', 'dop', 'kpa', 'doan', 'pem', 'mgc', 'ftpd', 'suc', 'wpt', 'bled', 'srb', 'zeit', 'aep', 'upd', 'duma', 'osh', 'ddbj', 'stah', 'ated', 'lpc', 'cmyk', 'aos', 'trc', 'pita', 'nast', 'kwik', 'lor', 'slum', 'aem', 'haue', 'meas', 'dfid', 'deu', 'oca', 'phen', 'idt', 'crim', 'yuen', 'eqs', 'eca', 'ols', 'tuc', 'hth', 'rcc', 'amis', 'gsp', 'bcr', 'krt', 'doit', 'pllc', 'upg', 'voss', 'stx', 'gros', 'duro', 'wml', 'aww', 'gtc', 'pbl', 'cael', 'pox', 'ona', 'pec', 'oig', 'ppv', 'bre', 'bala', 'cwd', 'sib', 'styx', 'toil', 'cct', 'nics', 'xfs', 'npa', 'cada', 'alte', 'dhea', 'mau', 'dbh', 'klik', 'xsd', 'fsp', 'yk', 'hps', 'goff', 'pius', 'garb', 'spx', 'rik', 'ffff', 'ummm', 'hgtv', 'mbc', 'bap', 'pars', 'loca', 'deq', 'rosh', 'twig', 'acu', 'mala', 'mlc', 'wept', 'rtr', 'ganz', 'bes', 'cust', 'anim', 'tull', 'mbe', 'dpm', 'mur', 'rmt', 'mux', 'modo', 'dbx', 'ipl', 'atf', 'fld', 'ggg', 'icn', 'ebp', 'aei', 'qg', 'seng', 'mvs', 'pce', 'obp', 'deo', 'orgs', 'gds', 'nme', 'dey', 'icra', 'ltp', 'flet', 'bds', 'svp', 'hca', 'hdc', 'koa', 'rund', 'edgy', 'tema', 'tcr', 'mpv', 'noa', 'fop', 'ayer', 'vern', 'mobo', 'bunn', 'uint', 'tgb', 'yj', 'sasl', 'nwa', 'jigs', 'mbox', 'yon', 'aur', 'rhp', 'gris', 'cch', 'dich', 'musc', 'nypd', 'tian', 'sot', 'jisc', 'merc', 'ufc', 'fams', 'prx', 'burg', 'sadr', 'gad', 'bsi', 'piii', 'rook', 'tua', 'ney', 'rda', 'jmp', 'dah', 'pall', 'amar', 'apg', 'kno', 'alg', 'bme', 'cdx', 'eld', 'mju', 'toa', 'ciw', 'sez', 'trig', 'moat', 'tth', 'gila', 'swam', 'hazy', 'meps', 'hei', 'elko', 'spt', 'ries', 'igm', 'snf', 'cour', 'ewa', 'dpic', 'yx', 'dbd', 'moa', 'frag', 'ico', 'sola', 'uts', 'yoo', 'dgs', 'dari', 'hina', 'bess', 'pao', 'hemi', 'awa', 'plo', 'psn', 'orem', 'dvdr', 'csl', 'alva', 'xian', 'wif', 'yom', 'tna', 'gdm', 'uucp', 'trop', 'vise', 'bfd', 'pere', 'dae', 'qing', 'docu', 'kei', 'lute', 'ndc', 'dpr', 'jil', 'lpi', 'pram', 'dsi', 'pfi', 'perc', 'hyn', 'sno', 'luau', 'ucs', 'brim', 'chum', 'lsr', 'rrc', 'dyna', 'appt', 'glut', 'arno', 'ptfe', 'lsat', 'egp', 'neve', 'gte', 'wbc', 'regt', 'pape', 'sacs', 'mmr', 'zp', 'chd', 'opac', 'cmv', 'hmos', 'dprk', 'moen', 'irin', 'bfa', 'pah', 'soot', 'mog', 'lll', 'ogs', 'ptt', 'sfs', 'bdrm', 'mbr', 'coty', 'dls', 'ova', 'nats', 'dft', 'xsp', 'miu', 'aoa', 'edtv', 'uiq', 'haag', 'alj', 'woot', 'obo', 'sepa', 'ern', 'legg', 'yew', 'roux', 'pdx', 'wget', 'eeoc', 'tnc', 'cnw', 'clas', 'pham', 'tain', 'vane', 'brd', 'tum', 'jini', 'dyno', 'tami', 'mane', 'cale', 'dvc', 'jang', 'agb', 'prt', 'abm', 'kgb', 'nang', 'gare', 'tial', 'apap', 'nagy', 'kbs', 'xxii', 'hsm', 'rsl', 'giao', 'tsai', 'lca', 'rhea', 'ique', 'wcag', 'wgbh', 'puri', 'rmx', 'jdm', 'gij', 'pnc', 'mdm', 'beak', 'ees', 'mrt', 'prag', 'rung', 'vgc', 'nue', 'hpi', 'clif', 'bydd', 'culo', 'mya', 'btec', 'twas', 'acg', 'loam', 'ntc', 'tok', 'twd', 'hdf', 'cui', 'mths', 'cws', 'kao', 'argh', 'tts', 'kes', 'sdd', 'famc', 'tva', 'unh', 'daq', 'emg', 'rut', 'zd', 'padd', 'sehr', 'rfcs', 'acyl', 'hera', 'lmc', 'dht', 'lmi', 'tham', 'dlr', 'nifl', 'axa', 'ige', 'dde', 'foy', 'romp', 'sux', 'gsl', 'ihep', 'rah', 'ket', 'rasa', 'ngn', 'maa', 'tvw', 'czar', 'pez', 'naa', 'jit', 'catv', 'mush', 'scl', 'dmn', 'bmo', 'epr', 'foal', 'oxy', 'gogo', 'nca', 'bwv', 'sdsu', 'decl', 'musi', 'ksc', 'noes', 'vtr', 'swg', 'tir', 'sff', 'dost', 'roos', 'nair', 'emd', 'slk', 'cred', 'fet', 'chiu', 'jugg', 'grb', 'cosa', 'kean', 'coq', 'cpo', 'tgf', 'anya', 'allo', 'ecol', 'uj', 'ucr', 'mxn', 'vesa', 'otr', 'xem', 'hec', 'sfp', 'noob', 'crb', 'goog', 'mdgs', 'zag', 'equ', 'zc', 'iba', 'pcie', 'esol', 'fark', 'dof', 'tice', 'envi', 'rmc', 'whew', 'mcsa', 'taz', 'ocp', 'zara', 'luo', 'syed', 'dafa', 'dmz', 'baz', 'ove', 'uah', 'pail', 'ome', 'micr', 'rrna', 'lum', 'fico', 'kor', 'erb', 'ved', 'lbo', 'vpl', 'rsm', 'pxi', 'leer', 'nave', 'cbbc', 'rez', 'posi', 'leek', 'fid', 'rua', 'eoc', 'bab', 'qca', 'ctn', 'cbl', 'lina', 'fisa', 'pdm', 'belo', 'zac', 'clos', 'tko', 'kq', 'maf', 'rsv', 'ftm', 'hbv', 'hein', 'eoe', 'cavs', 'ngs', 'taka', 'beal', 'recv', 'sadc', 'fmc', 'maas', 'dbe', 'asda', 'vhdl', 'mtx', 'clug', 'fsh', 'soic', 'bers', 'juin', 'pgm', 'tpm', 'getz', 'mgd', 'nya', 'vez', 'miva', 'sns', 'gca', 'oars', 'spg', 'quy', 'smit', 'ital', 'crtc', 'odi', 'ncl', 'cng', 'moya', 'qn', 'tait', 'jian', 'cxx', 'abl', 'sde', 'vigo', 'clot', 'musa', 'elie', 'fgm', 'pard', 'tci', 'pyro', 'tye', 'bna', 'uwa', 'trx', 'kuo', 'dnb', 'nwi', 'reza', 'tce', 'auc', 'ert', 'hdpe', 'mcu', 'webx', 'acco', 'soya', 'moz', 'rsh', 'atn', 'icr', 'agu', 'ges', 'ime', 'zell', 'zy', 'yoon', 'ccf', 'inu', 'joes', 'morn', 'nob', 'tpb', 'glug', 'zodb', 'wpi', 'eula', 'ohh', 'bsb', 'mfi', 'tems', 'ftaa', 'dnd', 'paar', 'vss', 'ugo', 'yugo', 'rout', 'gmd', 'pus', 'osf', 'aprs', 'opa', 'qin', 'svt', 'tuo', 'ploy', 'magi', 'dme', 'leia', 'tns', 'eri', 'gdi', 'glee', 'ywca', 'tomy', 'qx', 'csh', 'sld', 'edf', 'ente', 'pcx', 'numa', 'udo', 'eph', 'ifr', 'cbn', 'rrs', 'arti', 'weis', 'hel', 'ilm', 'cbe', 'qz', 'csg', 'ceu', 'anda', 'hams', 'nmi', 'psm', 'mpt', 'erg', 'nerf', 'nst', 'kok', 'asco', 'nui', 'jis', 'pkt', 'sade', 'ssx', 'gsx', 'ded', 'vit', 'sbe', 'pina', 'iri', 'flr', 'weg', 'mow', 'kbd', 'gce', 'fpm', 'adel', 'msps', 'bott', 'nsn', 'vfw', 'bld', 'leed', 'hcg', 'vive', 'mcat', 'blt', 'clem', 'npd', 'hhh', 'sfmt', 'poss', 'ecp', 'gbps', 'kale', 'pcd', 'addy', 'ehs', 'mmo', 'exo', 'vme', 'udb', 'jinx', 'tics', 'hmi', 'tsk', 'inj', 'wvu', 'maia', 'mijn', 'ugs', 'pii', 'dua', 'phan', 'rce', 'vil', 'clo', 'jura', 'kano', 'mcsd', 'wmp', 'trk', 'jia', 'kon', 'prf', 'sher', 'mhs', 'tlv', 'rena', 'kaya', 'sity', 'fkk', 'nmh', 'tora', 'hsi', 'oac', 'suez', 'evi', 'jre', 'srgb', 'fido', 'mest', 'inp', 'pmb', 'tsi', 'ipos', 'auld', 'iab', 'hao', 'ntu', 'ivey', 'pmt', 'pias', 'daf', 'mpe', 'gaul', 'goku', 'aver', 'mimo', 'bsu', 'tsu', 'afx', 'ertl', 'ead', 'ihc', 'euc', 'mdx', 'onl', 'abf', 'pugs', 'roh', 'ctu', 'sima', 'yim', 'adn', 'tala', 'bfg', 'kami', 'snm', 'arl', 'kts', 'iar', 'ldc', 'iti', 'gwar', 'hdi', 'cols', 'urth', 'rmk', 'mgf', 'voli', 'nem', 'mons', 'tfl', 'otp', 'atta', 'cei', 'sut', 'pdq', 'hba', 'innd', 'eads', 'tbl', 'fso', 'rto', 'jib', 'tsm', 'egf', 'roa', 'milt', 'pba', 'hab', 'crw', 'sedu', 'igmp', 'ques', 'mpo', 'ocx', 'ork', 'wart', 'naps', 'tien', 'gdk', 'tyra', 'mtbe', 'xie', 'bucs', 'grn', 'jct', 'koop', 'lpr', 'xray', 'toyo', 'fal', 'ila', 'vivi', 'pul', 'kea', 'ahs', 'rudi', 'dso', 'wyse', 'imm', 'lcp', 'oic', 'mpp', 'cte', 'dymo', 'yolo', 'sive', 'gush', 'jawa', 'aki', 'lomb', 'uddi', 'yng', 'tew', 'unl', 'npl', 'mfs', 'reif', 'ogle', 'cpas', 'gpe', 'uams', 'pula', 'buss', 'qsl', 'hlth', 'hiss', 'trd', 'trai', 'ajc', 'yip', 'dmi', 'dmt', 'nce', 'bnd', 'neko', 'zsh', 'fpl', 'mie', 'nbp', 'eire', 'utes', 'rofl', 'dios', 'urb', 'minn', 'frc', 'hic', 'fon', 'vpi', 'rtx', 'geen', 'ogc', 'kein', 'ald', 'fws', 'amet', 'rusk', 'clec', 'shel', 'emac', 'gory', 'phl', 'vsa', 'lyra', 'mgx', 'msk', 'iib', 'annu', 'dbg', 'ikke', 'bony', 'xing', 'sana', 'moll', 'motu', 'yoox', 'ptf', 'bch', 'nces', 'scd', 'mch', 'dvx', 'aya', 'gcl', 'yann', 'zia', 'mti', 'ghd', 'mews', 'cask', 'wps', 'itf', 'dyn', 'zahn', 'hela', 'brie', 'cua', 'prec', 'nco', 'herz', 'rui', 'haz', 'maw', 'eol', 'ibb', 'rti', 'oxen', 'ivo', 'toda', 'deat', 'bums', 'lts', 'staf', 'bcg', 'voa', 'kohn', 'bgl', 'jiu', 'ipi', 'ksa', 'esu', 'vbs', 'fes', 'evga', 'mops', 'bcbg', 'affx', 'kegg', 'pkr', 'enso', 'tma', 'capa', 'cco', 'vq', 'mmx', 'nro', 'ippp', 'aro', 'nota', 'uaw', 'kita', 'paf', 'nxt', 'uscg', 'yitp', 'gibb', 'nak', 'unm', 'tdp', 'wcw', 'ters', 'depo', 'kzsu', 'aor', 'aiff', 'fend', 'joi', 'wci', 'bbd', 'hbh', 'ofa', 'dcu', 'epub', 'ogy', 'veer', 'nola', 'lxr', 'appr', 'recs', 'cce', 'oni', 'mtp', 'rop', 'ttd', 'dbf', 'abcs', 'lge', 'bnl', 'aku', 'oban', 'dbc', 'clt', 'drw', 'maki', 'slv', 'blas', 'sfi', 'ciel', 'kas', 'lili', 'pino', 'lora', 'nfo', 'crf', 'fied', 'ilcs', 'wq', 'oxon', 'rse', 'cdv', 'qut', 'sama', 'htl', 'reit', 'caso', 'devo', 'koo', 'bola', 'mdb', 'aag', 'debs', 'glob', 'rpa', 'vig', 'ream', 'mila', 'mpl', 'ores', 'boll', 'lcg', 'aris', 'isv', 'cuny', 'dpc', 'qk', 'shim', 'manx', 'geda', 'idd', 'gol', 'lyne', 'epox', 'ibd', 'benn', 'lvd', 'trav', 'bpl', 'etb', 'rgd', 'amdt', 'ides', 'hus', 'imi', 'eit', 'tonk', 'ecos', 'cair', 'rci', 'upa', 'xcel', 'soci', 'guia', 'deca', 'kody', 'jdj', 'rokr', 'usg', 'rsx', 'jcsg', 'fds', 'etat', 'sso', 'ccnp', 'etl', 'cbot', 'lani', 'gnat', 'zwei', 'zorn', 'mcb', 'iirc', 'etta', 'smg', 'mpx', 'fhm', 'lik', 'hyd', 'cvc', 'pav', 'amok', 'glas', 'elon', 'arty', 'chau', 'fsi', 'osm', 'smug', 'lenz', 'dons', 'trb', 'awol', 'espa', 'hcfa', 'ino', 'ctm', 'whi', 'avl', 'opi', 'elph', 'naf', 'htp', 'ubb', 'aso', 'bric', 'tui', 'ncsa', 'awww', 'dara', 'ebc', 'sgl', 'snps', 'iip', 'lats', 'ovc', 'sbp', 'nez', 'tst', 'hrd', 'sydd', 'nida', 'suis', 'yule', 'orcs', 'siem', 'npg', 'kaz', 'zhi', 'simm', 'egr', 'taf', 'lrd', 'lugs', 'cpsc', 'asta', 'gato', 'gfi', 'phu', 'stes', 'bate', 'sask', 'pert', 'okt', 'dhe', 'ipt', 'bdt', 'cyg', 'hcs', 'tsar', 'isbl', 'ciba', 'cgt', 'bnsf', 'opps', 'cbm', 'cade', 'bwi', 'lgf', 'swi', 'ghi', 'lah', 'cies', 'cbp', 'crx', 'rso', 'ofm', 'xsi', 'neem', 'sina', 'cosh', 'lop', 'bhs', 'kain', 'abta', 'oit', 'ange', 'tfs', 'stil', 'simp', 'burp', 'efx', 'naia', 'idb', 'oms', 'moro', 'cze', 'udev', 'fsn', 'rng', 'mvr', 'bde', 'dlx', 'wert', 'dtg', 'flix', 'cusp', 'tct', 'meso', 'tpl', 'bade', 'fasb', 'nuit', 'htpc', 'revs', 'maha', 'eton', 'arpa', 'agt', 'khai', 'yolk', 'vtp', 'boos', 'cull', 'fina', 'wmo', 'ewe', 'efc', 'cibc', 'stg', 'cdbg', 'sug', 'frac', 'sva', 'ssd', 'loy', 'kml', 'maul', 'etd', 'jada', 'idps', 'eto', 'dfg', 'kimi', 'npcs', 'jef', 'dcm', 'issa', 'fcst', 'bgs', 'nuff', 'anza', 'flt', 'hain', 'haar', 'ucp', 'opr', 'gmos', 'zw', 'gere', 'lrg', 'mhp', 'ende', 'bmps', 'lpga', 'esse', 'kel', 'acca', 'tigi', 'thay', 'aung', 'hara', 'aly', 'gul', 'ahn', 'trw', 'lbl', 'nsr', 'jaz', 'mge', 'miko', 'mfp', 'henk', 'hrk', 'vere', 'hnl', 'yelp', 'jrnl', 'nity', 'gree', 'niu', 'arma', 'mmvi', 'obe', 'gyro', 'enix', 'lncs', 'luge', 'nef', 'icl', 'hiya', 'xul', 'nti', 'ecw', 'odom', 'vrs', 'htg', 'ghia', 'dcf', 'ooc', 'sdio', 'dscp', 'csw', 'wbt', 'deva', 'fom', 'lif', 'hyun', 'fddi', 'kdc', 'mwh', 'gip', 'isls', 'jes', 'fpa', 'rete', 'tof', 'lpd', 'seri', 'ldv', 'aiu', 'brs', 'yv', 'sita', 'gtg', 'heme', 'omr', 'hyip', 'tfc', 'imt', 'pali', 'worx', 'sdg', 'aja', 'eaa', 'veb', 'rnas', 'xpc', 'wta', 'ulf', 'cvm', 'fma', 'elba', 'rcm', 'iap', 'xxiv', 'sear', 'prg', 'trn', 'zg', 'dvrs', 'vocs', 'rapp', 'nse', 'caen', 'hfc', 'ltda', 'snk', 'nrm', 'smbs', 'sxga', 'nfa', 'cals', 'utep', 'swp', 'aup', 'gor', 'ilya', 'gaby', 'ajay', 'elev', 'egos', 'aop', 'pry', 'jmd', 'pare', 'melo', 'igi', 'bday', 'rmp', 'arpt', 'axon', 'pdo', 'bord', 'ddi', 'pols', 'plas', 'nace', 'gdr', 'pqi', 'orm', 'ccie', 'orl', 'gert', 'zl', 'glp', 'viol', 'tarp', 'aten', 'rau', 'miki', 'cmb', 'nqa', 'elp', 'puny', 'inge', 'miso', 'itx', 'bpd', 'oren', 'oed', 'vnd', 'csx', 'crea', 'fizz', 'foci', 'pth', 'drab', 'keck', 'eic', 'baca', 'pvs', 'jal', 'vtk', 'dct', 'ope', 'eci', 'cstv', 'raza', 'bohr', 'sufi', 'afdc', 'prez', 'lsl', 'usfs', 'kuta', 'srg', 'uvm', 'hcp', 'flak', 'ual', 'divo', 'kolb', 'pil', 'tht', 'mde', 'etna', 'ews', 'jrs', 'quod', 'fett', 'pco', 'ably', 'liao', 'brun', 'vma', 'uwb', 'movi', 'fib', 'ofdm', 'ail', 'ncep', 'redd', 'rtty', 'fmla', 'aran', 'cfi', 'lard', 'omia', 'nerc', 'teo', 'hypo', 'mwc', 'vcu', 'mils', 'soit', 'jrc', 'gir', 'jq', 'rdc', 'jod', 'cept', 'chaz', 'sshd', 'glc', 'sfn', 'basu', 'bks', 'jota', 'usu', 'piaa', 'ues', 'sife', 'baez', 'tana', 'uvc', 'seca', 'rind', 'bbr', 'rara', 'velo', 'accc', 'iie', 'burl', 'scg', 'shr', 'aaj', 'uomo', 'asq', 'zool', 'rfps', 'ilc', 'enw', 'meir', 'tpr', 'aden', 'fhs', 'jeg', 'appz', 'ecl', 'tsvn', 'rote', 'iles', 'ogo', 'ilk', 'ose', 'mks', 'gpx', 'nake', 'wtp', 'scn', 'cig', 'yada', 'bma', 'ruse', 'pkc', 'dov', 'ndt', 'muss', 'lrs', 'fpu', 'fts', 'mang', 'luiz', 'inde', 'xq', 'tev', 'dwr', 'itis', 'saks', 'croc', 'ftes', 'aoe', 'cgs', 'mra', 'ery', 'tpi', 'ecr', 'elms', 'loox', 'idrc', 'vdd', 'mktg', 'feta', 'jett', 'ltv', 'aaas', 'sgr', 'dbus', 'evp', 'bajo', 'oooo', 'dian', 'hwa', 'mrtg', 'ikon', 'lanl', 'xxv', 'gfdl', 'adic', 'nns', 'pmd', 'rfd', 'ized', 'rsd', 'ror', 'thao', 'onus', 'oks', 'phim', 'mlp', 'myer', 'bnm', 'bga', 'imd', 'dfo', 'kala', 'cham', 'swr', 'inkl', 'satb', 'coen', 'pypy', 'tta', 'rdp', 'ldr', 'bly', 'pbr', 'ctt', 'pelo', 'bem', 'dth', 'hyp', 'lull', 'lise', 'sll', 'acb', 'bey', 'rif', 'neb', 'sef', 'lino', 'lcm', 'gats', 'veda', 'bof', 'asv', 'xue', 'jcc', 'pge', 'dtmf', 'shew', 'ojai', 'frp', 'jot', 'rwd', 'gott', 'taro', 'mpd', 'fez', 'elks', 'feld', 'mdg', 'tutu', 'wbs', 'psb', 'mmhg', 'lacs', 'sks', 'fone', 'rtt', 'pvm', 'ksu', 'kph', 'pdl', 'gle', 'joie', 'anni', 'apd', 'lbj', 'jeri', 'stf', 'htf', 'stmt', 'iid', 'raps', 'ccb', 'mgb', 'ucas', 'tdr', 'waas', 'insn', 'ered', 'eest', 'mpr', 'uhh', 'tmj', 'arn', 'wls', 'hag', 'dorn', 'pion', 'sxsw', 'gcj', 'bbe', 'unb', 'sws', 'wry', 'mdma', 'dcl', 'alms', 'koko', 'igo', 'rlc', 'zhen', 'ebel', 'mva', 'zinn', 'gsfc', 'jaxx', 'slb', 'mct', 'geos', 'hls', 'otra', 'umar', 'wsp', 'bul', 'raya', 'rba', 'naam', 'cida', 'uart', 'fst', 'taa', 'fmii', 'tino', 'hbr', 'ngfl', 'oq', 'arie', 'apu', 'jtag', 'vio', 'mico', 'suu', 'mtf', 'chua', 'nena', 'hil', 'swot', 'eze', 'zeno', 'gmx', 'omer', 'vill', 'sak', 'slu', 'gnue', 'uas', 'kath', 'joao', 'ffxi', 'ecac', 'actu', 'nde', 'dslr', 'brc', 'rtos', 'eip', 'uhm', 'pjm', 'ddl', 'gama', 'lipo', 'aau', 'nmc', 'beit', 'mako', 'anl', 'rath', 'psg', 'asps', 'qar', 'dato', 'linc', 'shaq', 'epmi', 'vad', 'urac', 'cwm', 'evol', 'nmda', 'mote', 'ccw', 'wold', 'habe', 'cyn', 'boas', 'yeo', 'terk', 'wmi', 'supt', 'tov', 'toca', 'nicd', 'mdp', 'umi', 'oulu', 'cdb', 'ruc', 'cya', 'ubud', 'fmri', 'dhc', 'mno', 'irn', 'idem', 'efs', 'bsr', 'hark', 'brom', 'tlp', 'lle', 'nla', 'nzdt', 'ilog', 'keds', 'nsx', 'jud', 'aves', 'baal', 'deen', 'byob', 'thud', 'jcr', 'tsui', 'ebs', 'jlo', 'weds', 'qso', 'epos', 'skf', 'piet', 'vct', 'kamp', 'ihn', 'joh', 'bax', 'uiuc', 'gcg', 'ural', 'haig', 'perk', 'kom', 'avia', 'pptp', 'beac', 'dfl', 'lpa', 'jiri', 'dtt', 'cofe', 'firs', 'naga', 'mmu', 'esso', 'emap', 'cpb', 'lsm', 'zk', 'mosh', 'vegf', 'lba', 'oben', 'swa', 'coi', 'rfs', 'udf', 'inop', 'bvi', 'nau', 'wss', 'modi', 'dyk', 'dlg', 'edx', 'navi', 'cort', 'khu', 'nfb', 'dohc', 'clu', 'izzy', 'gsr', 'rct', 'usi', 'kcl', 'kva', 'vela', 'elc', 'psl', 'pent', 'edg', 'sago', 'grs', 'iaf', 'khao', 'rive', 'tabu', 'gawk', 'hds', 'iad', 'wtd', 'loh', 'vpc', 'ppr', 'fjd', 'trol', 'xfce', 'dmso', 'neva', 'inez', 'nhhs', 'raia', 'aad', 'vci', 'zeke', 'seta', 'nath', 'toth', 'nlc', 'wmds', 'oli', 'cnf', 'egm', 'rtm', 'heft', 'mmi', 'seiu', 'mof', 'pons', 'itl', 'lewd', 'icg', 'sema', 'dupe', 'bogs', 'shg', 'cyr', 'vce', 'rcn', 'tnd', 'tbn', 'pbc', 'ptp', 'aoki', 'grc', 'gurl', 'klee', 'tosh', 'loup', 'pago', 'npp', 'pele', 'ogm', 'bpi', 'kst', 'nami', 'krug', 'drv', 'ilan', 'aiaa', 'casi', 'fois', 'tifa', 'nant', 'ufs', 'ubl', 'ivor', 'fren', 'kwd', 'danh', 'sctp', 'rani', 'trg', 'cpap', 'zmk', 'saic', 'cld', 'moet', 'esti', 'rado', 'ekg', 'eizo', 'hda', 'dus', 'kitt', 'twl', 'etx', 'wsc', 'ards', 'irp', 'msh', 'trt', 'ldcs', 'lect', 'nhfb', 'ahps', 'babu', 'ncd', 'cori', 'awb', 'nta', 'bfs', 'ttp', 'sixt', 'hwg', 'dfe', 'swig', 'qnx', 'srx', 'uli', 'grrl', 'pais', 'oto', 'uav', 'cnhi', 'klum', 'goh', 'pou', 'rept', 'marv', 'tsh', 'snc', 'nim', 'ichi', 'ilia', 'agl', 'noor', 'noll', 'blau', 'hcm', 'dvt', 'srf', 'voce', 'dore', 'koha', 'ahrq', 'cef', 'mha', 'nex', 'wdc', 'wds', 'mmap', 'mcad', 'prm', 'ruud', 'bunt', 'jdo', 'tda', 'fete', 'lyd', 'crlf', 'jndi', 'dcd', 'jie', 'llb', 'nusa', 'pdoc', 'cfml', 'vatu', 'glyn', 'volk', 'namm', 'dena', 'dcom', 'pfd', 'pasa', 'kla', 'teg', 'volo', 'guan', 'tcf', 'shao', 'omc', 'pows', 'kth', 'seco', 'gibt', 'ugc', 'trak', 'resi', 'leda', 'nhc', 'yaw', 'gse', 'pala', 'pml', 'jsa', 'fsr', 'irv', 'pcgs', 'asis', 'unf', 'vla', 'hks', 'fain', 'duns', 'ornl', 'hae', 'rhsa', 'cpf', 'sint', 'mois', 'frf', 'nent', 'kap', 'prek', 'csk', 'pgc', 'pips', 'emm', 'kell', 'gpr', 'bru', 'ilt', 'mav', 'fica', 'nld', 'odpm', 'pgk', 'kem', 'sirs', 'seul', 'aco', 'vxi', 'cowl', 'kwok', 'fils', 'lgs', 'cjd', 'grr', 'slat', 'ebm', 'iru', 'lwp', 'maes', 'cfnm', 'wisc', 'lata', 'goon', 'sais', 'tfm', 'mii', 'hmso', 'huw', 'acis', 'pica', 'tog', 'cyc', 'taut', 'mydd', 'laa', 'ject', 'nnnn', 'svm', 'iau', 'wfc', 'gof', 'defs', 'sidi', 'yuna', 'kola', 'wri', 'ory', 'hie', 'bcf', 'dods', 'tsl', 'iic', 'thm', 'orly', 'avo', 'alli', 'cil', 'kol', 'reso', 'saml', 'nids', 'ccu', 'syp', 'buda', 'psal', 'epps', 'pch', 'cgmp', 'mcas', 'htr', 'enh', 'kewl', 'heil', 'lvs', 'ize', 'iod', 'ior', 'snob', 'qpf', 'lyx', 'bbci', 'xpdf', 'irt', 'crud', 'nev', 'febs', 'adu', 'ird', 'coms', 'vdo', 'apic', 'sora', 'tgs', 'zzzz', 'quai', 'duce', 'pvd', 'jeni', 'apac', 'dren', 'opin', 'irm', 'cava', 'rupp', 'cres', 'yue', 'piu', 'spca', 'viv', 'slvr', 'spb', 'saya', 'gos', 'fwy', 'nocd', 'nou', 'fiu', 'kalb', 'tine', 'nolo', 'gpf', 'iaa', 'iesg', 'leis', 'ggc', 'intr', 'tpg', 'lfn', 'imao', 'bron', 'msha', 'bein', 'stef', 'sian', 'rbl', 'gans', 'vcds', 'blix', 'kot', 'lolo', 'awry', 'celt', 'lode', 'spay', 'ceqa', 'elia', 'zora', 'zuni', 'epm', 'seit', 'dwf', 'mfps', 'flsa', 'blo', 'sats', 'beko', 'colm', 'dzd', 'toma', 'rspb', 'ipf', 'pmr', 'kare', 'jwin', 'egon', 'vuv', 'rsmo', 'yag', 'kwai', 'lexi', 'djf', 'pcv', 'xia', 'kis', 'saco', 'ife', 'uct', 'sify', 'naw', 'prb', 'blr', 'ler', 'djia', 'dwt', 'voy', 'gcd', 'koji', 'bwp', 'cssa', 'mpm', 'eck', 'masa', 'cvss', 'pana', 'gnf', 'uvic', 'clef', 'dak', 'gbs', 'gnvq', 'pura', 'kek', 'slrs', 'lss', 'woah', 'nte', 'thad', 'ksh', 'wuc', 'qy', 'moy', 'pelt', 'ung', 'mmk', 'llm', 'grt', 'hra', 'rnai', 'fyr', 'jni', 'gah', 'goof', 'wts', 'saad', 'leh', 'xof', 'glx', 'ankh', 'ldb', 'eef', 'isas', 'otro', 'chea', 'mobb', 'teil', 'phc', 'tdma', 'avm', 'ager', 'tinh', 'kana', 'bln', 'teng', 'dank', 'cph', 'zany', 'taks', 'rebs', 'cerf', 'mkv', 'adio', 'lkr', 'beng', 'ncar', 'gord', 'gena', 'dnv', 'loti', 'kaos', 'myv', 'igt', 'ddb', 'dmb', 'chk', 'rer', 'xxvi', 'toga', 'fram', 'xsel', 'gsd', 'keto', 'tias', 'epoc', 'ddp', 'diab', 'puns', 'bbn', 'cady', 'hilt', 'maca', 'siva', 'lond', 'pcga', 'hew', 'roan', 'nags', 'zapf', 'jdc', 'mbt', 'ied', 'wily', 'devs', 'sdb', 'puja', 'karp', 'qian', 'dws', 'psig', 'epg', 'bsg', 'alon', 'jtc', 'xcd', 'gute', 'dodo', 'torr', 'bpel', 'ysl', 'dez', 'fci', 'jahr', 'rrsp', 'pcn', 'asce', 'bork', 'jds', 'lmp', 'nsfw', 'phx', 'rdg', 'chal', 'mkii', 'npi', 'lune', 'umbc', 'dinh', 'vso', 'sena', 'catz', 'bpp', 'kmc', 'insp', 'rog', 'mahi', 'ghs', 'xid', 'cwc', 'kaw', 'ston', 'ves', 'cne', 'brin', 'bct', 'pva', 'cmx', 'klub', 'tgt', 'nnp', 'alo', 'zj', 'cii', 'fdl', 'npn', 'slm', 'akt', 'dmm', 'esto', 'gpt', 'ntop', 'mots', 'wam', 'fmp', 'glsa', 'rya', 'umr', 'hsin', 'stas', 'pret', 'gga', 'oqo', 'iarc', 'nym', 'dard', 'npv', 'xmb', 'cogs', 'ebrd', 'talc', 'coh', 'emer', 'dsb', 'cdo', 'eer', 'aibo', 'pdd', 'ecdl', 'deci', 'wulf', 'cnd', 'hrp', 'tnr', 'aman', 'pfa', 'azt', 'gpi', 'aah', 'mhd', 'givn', 'cll', 'vmi', 'pye', 'chek', 'edr', 'cvp', 'uwm', 'infn', 'stix', 'cima', 'asg', 'dmp', 'rong', 'wol', 'voi', 'tipp', 'xss', 'knut', 'burk', 'doch', 'lov', 'hnd', 'bara', 'arv', 'nmac', 'giza', 'rohm', 'twc', 'iyer', 'iiia', 'noms', 'solu', 'brk', 'spew', 'riba', 'orth', 'naep', 'bcn', 'gyd', 'trix', 'bhi', 'hup', 'sjc', 'ircd', 'ebx', 'foc', 'nwo', 'cano', 'tlb', 'etp', 'gulp', 'hac', 'lurk', 'pend', 'cck', 'haga', 'whl', 'pdi', 'grav', 'llcs', 'fmr', 'sgm', 'bosh', 'gsn', 'gec', 'plcc', 'osb', 'wef', 'mek', 'ohhh', 'arca', 'jmc', 'toot', 'rino', 'nprm', 'anos', 'zea', 'geom', 'hmac', 'oam', 'pkcs', 'cvr', 'afd', 'lofi', 'tryp', 'ake', 'roch', 'imag', 'mzm', 'jnr', 'odm', 'dnn', 'nul', 'wack', 'ecx', 'axl', 'hurl', 'yoy', 'suze', 'dory', 'nary', 'ninn', 'csis', 'smil', 'doz', 'bsl', 'ood', 'rme', 'nsg', 'cfe', 'gant', 'prl', 'nlg', 'paa', 'pfs', 'imei', 'aab', 'vsx', 'bda', 'elit', 'ibex', 'brt', 'tfp', 'orbs', 'fov', 'aime', 'fsus', 'mela', 'tigr', 'wcpo', 'pppd', 'jove', 'enos', 'rur', 'nakd', 'ccn', 'msci', 'anat', 'weta', 'pcf', 'sani', 'apha', 'bph', 'maus', 'ssid', 'ebsq', 'pcre', 'oci', 'surn', 'wmc', 'rdfs', 'lter', 'hdb', 'muay', 'yor', 'tbr', 'crv', 'amx', 'fru', 'ruf', 'linx', 'nhu', 'vpu', 'plu', 'sgp', 'zing', 'lhr', 'ligo', 'shn', 'rien', 'caml', 'toed', 'cepr', 'lma', 'tob', 'ipfw', 'llnl', 'yau', 'dtds', 'mibs', 'fino', 'scab', 'gpib', 'gres', 'maru', 'joon', 'chev', 'raz', 'esrc', 'asdf', 'ceus', 'srd', 'cft', 'ipac', 'vara', 'tein', 'atd', 'hbc', 'eba', 'liss', 'phew', 'heng', 'dro', 'jfs', 'sqr', 'vul', 'wsf', 'pata', 'cntr', 'dut', 'tuv', 'susy', 'riv', 'laci', 'axp', 'wcb', 'pme', 'kmf', 'wth', 'wail', 'vtd', 'arcy', 'wasn', 'elma', 'crag', 'hace', 'disa', 'prsp', 'kaur', 'nyy', 'boaz', 'fip', 'myob', 'gud', 'mong', 'ckt', 'huy', 'gwb', 'wrth', 'esm', 'asw', 'warr', 'esg', 'agen', 'roby', 'caos', 'denn', 'zoek', 'katt', 'siri', 'aph', 'gsk', 'tlds', 'gozo', 'pso', 'zola', 'saas', 'jaco', 'sgc', 'dddd', 'qo', 'pcu', 'enet', 'aio', 'ewr', 'eves', 'hpux', 'minx', 'lbw', 'mohd', 'aod', 'cau', 'ftrs', 'yq', 'ebv', 'elam', 'shee', 'lapd', 'tmo', 'vint', 'iwm', 'cfb', 'pola', 'daoc', 'pbem', 'isin', 'ohv', 'nots', 'mtm', 'dens', 'quin', 'agn', 'tmi', 'peu', 'owa', 'uvb', 'rafe', 'gtd', 'ncsu', 'tink', 'purr', 'nits', 'xaf', 'vena', 'cryo', 'bund', 'oust', 'suo', 'bti', 'cmde', 'ddos', 'etal', 'fco', 'tgi', 'exh', 'bask', 'berk', 'loto', 'kore', 'jps', 'xact', 'joo', 'divi', 'tert', 'fie', 'baie', 'rego', 'dsd', 'ura', 'engg', 'sanz', 'nlug', 'stax', 'nyg', 'ssf', 'hrms', 'aaf', 'wom', 'lllp', 'aqsa', 'hmg', 'neh', 'nita', 'hrh', 'ido', 'pohl', 'mmwr', 'cadd', 'tqm', 'zao', 'sido', 'elca', 'sapp', 'gyda', 'oden', 'cpsr', 'hsd', 'roni', 'hava', 'cesg', 'moni', 'tti', 'mui', 'gsf', 'pnet', 'ili', 'ghb', 'gash', 'troj', 'sunt', 'itn', 'dita', 'psv', 'abq', 'pht', 'lbc', 'mous', 'esau', 'kzt', 'pfp', 'bau', 'sysv', 'bupa', 'yeoh', 'etap', 'gci', 'naic', 'yost', 'myt', 'mtas', 'dubs', 'anr', 'erf', 'pcts', 'nebo', 'vlog', 'cht', 'jce', 'roca', 'weee', 'busa', 'lmt', 'fmd', 'jhb', 'eben', 'viel', 'cof', 'ndb', 'pyg', 'tte', 'zoot', 'bolo', 'gib', 'lrt', 'mrf', 'bha', 'obv', 'scu', 'kopp', 'offi', 'csci', 'ipg', 'qrp', 'bdl', 'roku', 'uaf', 'pecl', 'umkc', 'swb', 'jaar', 'bana', 'aby', 'tmr', 'gcm', 'anas', 'rsf', 'bui', 'bdr', 'ntsb', 'feu', 'tox', 'hite', 'bahn', 'aal', 'bou', 'usec', 'yana', 'apf', 'pbm', 'odes', 'rcu', 'eti', 'gata', 'zoc', 'gpp', 'qemu', 'accs', 'rina', 'bacs', 'kcc', 'ehr', 'lub', 'hig', 'ocde', 'isvs', 'tgif', 'dpd', 'equi', 'cccc', 'mabs', 'dcps', 'tyme', 'aspx', 'kio', 'irak', 'bmt', 'lait', 'gct', 'wane', 'puig', 'aedt', 'tiga', 'quis', 'jmu', 'moma', 'soll', 'hct', 'atco', 'lfp', 'bta', 'zsa', 'yat', 'hws', 'oyez', 'bzd', 'ninh', 'fixe', 'fotw', 'ncb', 'mcn', 'boba', 'aram', 'nicu', 'hib', 'tcsh', 'pgn', 'fads', 'pnni', 'omp', 'tmg', 'evt', 'gens', 'oped', 'otk', 'samp', 'prv', 'doon', 'ttg', 'bsf', 'tete', 'gdc', 'soca', 'cbb', 'acdc', 'werk', 'dhb', 'iman', 'anja', 'vips', 'egy', 'iqd', 'wsh', 'mrd', 'dtn', 'xttp', 'lith', 'smal', 'qsc', 'gld', 'cref', 'atsc', 'ept', 'nies', 'dene', 'swd', 'tgc', 'wale', 'skt', 'jdom', 'jla', 'ois', 'fitc', 'upp', 'anp', 'twi', 'pbk', 'mwk', 'dori', 'uis', 'abbe', 'lene', 'luci', 'wsa', 'gtm', 'hmb', 'pled', 'cung', 'huis', 'incr', 'pany', 'lra', 'bahr', 'eib', 'heim', 'hine', 'iwa', 'fogg', 'epd', 'omi', 'lom', 'kosh', 'fenn', 'foie', 'lomo', 'esx', 'qqqq', 'fap', 'usar', 'apml', 'xdr', 'slaw', 'dou', 'repl', 'yoyo', 'hte', 'gtq', 'ogio', 'balb', 'lti', 'mand', 'nabs', 'deps', 'szl', 'oce', 'cbf', 'mair', 'pae', 'whig', 'sng', 'pebl', 'evs', 'tugs', 'aum', 'kef', 'zwd', 'cosi', 'muc', 'oost', 'eme', 'naca', 'fdf', 'pna', 'meld', 'loyd', 'kmt', 'karr', 'lyre', 'ipn', 'rch', 'mrl', 'tlf', 'lsf', 'koda', 'bub', 'urol', 'deft', 'fics', 'xdsl', 'husk', 'swc', 'lodz', 'donn', 'plp', 'sah', 'exei', 'pera', 'uim', 'eal', 'vde', 'shai', 'hick', 'rmon', 'cgr', 'nwr', 'jcp', 'lems', 'ando', 'arai', 'rsn', 'gmrs', 'khr', 'rup', 'lav', 'payg', 'fau', 'hing', 'erat', 'hcr', 'pmo', 'favs', 'sty', 'haji', 'kdf', 'tuaw', 'cuss', 'spk', 'sbr', 'cxo', 'vina', 'inna', 'maja', 'rdm', 'sfb', 'zin', 'fgs', 'bede', 'cud', 'gove', 'acti', 'ums', 'apx', 'vpr', 'pout', 'midp', 'mire', 'alk', 'roz', 'whs', 'limi', 'fpd', 'lvw', 'rane', 'oled', 'ick', 'ione', 'nett', 'mre', 'dwp', 'ocha', 'tzs', 'okie', 'tamu', 'rpr', 'etre', 'itb', 'vapi', 'xdm', 'bli', 'ccj', 'isms', 'bdc', 'nama', 'mle', 'hij', 'elim', 'wyre', 'gwyn', 'jost', 'heep', 'ily', 'oom', 'erk', 'saps', 'ssu', 'kats', 'venn', 'dois', 'ster', 'qtl', 'cwb', 'aib', 'prk', 'xpm', 'rvws', 'sarl', 'balk', 'caw', 'eun', 'ilp', 'meo', 'brn', 'amie', 'tobe', 'nici', 'tle', 'naco', 'iaq', 'anf', 'gsb', 'uaa', 'vrf', 'inga', 'ete', 'wein', 'hye', 'sark', 'cth', 'lch', 'yyy', 'sdo', 'spn', 'mto', 'suma', 'gua', 'kees', 'robs', 'dube', 'kuan', 'jou', 'haro', 'manf', 'idly', 'aln', 'zuid', 'gtt', 'isb', 'cfcs', 'wgs', 'ebu', 'ctan', 'arla', 'ede', 'nutt', 'fmf', 'dfx', 'cedi', 'shb', 'fsl', 'meri', 'pib', 'ppxp', 'iei', 'inyo', 'succ', 'fgdc', 'dml', 'muyo', 'nris', 'neca', 'cama', 'jmx', 'fere', 'jima', 'komm', 'rexx', 'maxg', 'lgb', 'aif', 'ewes', 'papi', 'isic', 'czy', 'ddo', 'bhc', 'netz', 'ibo', 'aqa', 'erd', 'gast', 'rfk', 'paix', 'remi', 'tumi', 'tach', 'sif', 'vtec', 'babs', 'deve', 'nif', 'tsf', 'bdb', 'gost', 'fcat', 'cgg', 'pdus', 'cidr', 'usga', 'dpw', 'lvn', 'cvt', 'asee', 'repr', 'nud', 'oedd', 'avez', 'ofs', 'waxy', 'vex', 'loos', 'mien', 'isg', 'wdw', 'dela', 'nbd', 'mdk', 'lugo', 'ixos', 'fwiw', 'klv', 'keil', 'rede', 'svd', 'piel', 'abet', 'tpo', 'ropa', 'gso', 'ntis', 'fep', 'tbe', 'tary', 'bni', 'bcb', 'isaf', 'kerb', 'elly', 'kdm', 'enn', 'zaar', 'torx', 'expn', 'neuf', 'culp', 'exel', 'engi', 'curd', 'scim', 'capi', 'jjj', 'pka', 'pif', 'bez', 'rwy', 'adap', 'eqn', 'ehud', 'ctb', 'esv', 'dbt', 'ater', 'dse', 'cpio', 'vpx', 'dsps', 'kwa', 'mjd', 'lwb', 'cvb', 'saha', 'asti', 'tcd', 'cura', 'lfc', 'siv', 'piso', 'iir', 'drb', 'doty', 'suva', 'zou', 'mox', 'lecs', 'mnc', 'udc', 'blip', 'hri', 'cjn', 'utr', 'grau', 'ariz', 'cras', 'usca', 'acq', 'chim', 'gme', 'fkp', 'xpf', 'nii', 'toit', 'mbp', 'cdk', 'lye', 'kula', 'dfc', 'bude', 'vch', 'jdev', 'doss', 'mmd', 'nels', 'tml', 'ndi', 'sows', 'eko', 'ssdi', 'faut', 'rha', 'cmh', 'poul', 'asio', 'chw', 'chix', 'yumi', 'anse', 'uca', 'diz', 'clm', 'magn', 'koen', 'aai', 'dtml', 'yagi', 'hich', 'mcps', 'kpw', 'echl', 'apb', 'wda', 'pjs', 'nwp', 'silc', 'oph', 'prue', 'iwo', 'mwy', 'hsr', 'ajp', 'vorb', 'frg', 'dva', 'estd', 'nch', 'vsp', 'sihh', 'cels', 'lide', 'bbws', 'alda', 'npo', 'tish', 'ewen', 'lns', 'atto', 'cuda', 'chih', 'usta', 'raye', 'jha', 'haq', 'wimp', 'lig', 'rhan', 'mlt', 'mapk', 'mrm', 'vfp', 'wats', 'sht', 'mfn', 'dein', 'tah', 'mera', 'jako', 'nnrp', 'marl', 'moos', 'syr', 'rxr', 'anka', 'arlo', 'kbc', 'uuid', 'trec', 'maac', 'tuan', 'doro', 'guar', 'oryx', 'vse', 'scb', 'edel', 'yams', 'mut', 'imsi', 'rona', 'fae', 'nhau', 'ates', 'vann', 'ween', 'kaj', 'bama', 'keio', 'vinh', 'eres', 'aren', 'paye', 'grrr', 'atw', 'ahp', 'apy', 'tnx', 'cmts', 'stac', 'rend', 'onda', 'lpt', 'lxf', 'yad', 'bto', 'drei', 'stig', 'jee', 'ltu', 'kine', 'cayo', 'lus', 'tgz', 'nera', 'thnx', 'cela', 'tpe', 'dlo', 'hpr', 'hrw', 'dwdm', 'nbl', 'quam', 'bnf', 'iat', 'fot', 'clb', 'nwc', 'scsu', 'hau', 'ases', 'thar', 'mvl', 'rots', 'rood', 'cni', 'pex', 'iatp', 'tpp', 'gaf', 'loro', 'bdi', 'inh', 'tsca', 'tmf', 'pik', 'niko', 'dud', 'jcs', 'evdo', 'sgn', 'ipe', 'eni', 'rov', 'tapi', 'gann', 'pks', 'ints', 'dga', 'aoi', 'zv', 'naka', 'dyck', 'opry', 'ndsu', 'lage', 'oka', 'bost', 'dros', 'dtu', 'basi', 'hsf', 'vts', 'merz', 'hfa', 'lexx', 'scca', 'itd', 'rada', 'hipc', 'chub', 'bens', 'psad', 'eod', 'vang', 'pnn', 'rak', 'fsk', 'saif', 'thro', 'vibs', 'mmog', 'zand', 'puta', 'alco', 'ifo', 'rtg', 'vik', 'nuc', 'nlt', 'lamy', 'orp', 'nsm', 'mcpu', 'eop', 'ierr', 'kish', 'cifs', 'cva', 'msde', 'dsg', 'ahi', 'jad', 'luft', 'voix', 'dado', 'isso', 'nums', 'guis', 'gvc', 'pru', 'loge', 'wpc', 'nzs', 'bohm', 'wuz', 'aker', 'loe', 'trm', 'sura', 'zeng', 'wtr', 'tul', 'cpn', 'phr', 'amn', 'surv', 'fmu', 'goi', 'jhu', 'zito', 'vist', 'linq', 'soph', 'itoh', 'rge', 'myo', 'klug', 'ool', 'ecf', 'gsh', 'elke', 'wll', 'lusk', 'dfm', 'adh', 'igc', 'rtw', 'cann', 'oran', 'dess', 'wais', 'bgn', 'aldi', 'slik', 'whet', 'sics', 'pgi', 'rdt', 'pahs', 'anwr', 'phar', 'lirc', 'gril', 'thes', 'iht', 'doer', 'usv', 'cjc', 'mraz', 'mvm', 'avt', 'lege', 'iweb', 'seep', 'rtsp', 'peds', 'eder', 'dpl', 'oreo', 'alix', 'ifip', 'wmu', 'thf', 'xlib', 'itec', 'zq', 'eoin', 'wsr', 'cgm', 'btng', 'frre', 'bep', 'uhs', 'dph', 'nhx', 'rra', 'rrds', 'hino', 'behr', 'oses', 'gawd', 'drx', 'rmr', 'ddf', 'mgcp', 'xmpp', 'hime', 'rall', 'rhyl', 'cdu', 'jami', 'mxpx', 'gsxr', 'jani', 'melb', 'raaf', 'veh', 'iai', 'yacc', 'shc', 'lhp', 'mids', 'sods', 'ngi', 'filo', 'vtc', 'edb', 'gna', 'onze', 'leal', 'mota', 'vui', 'cece', 'wcm', 'tmd', 'bair', 'efta', 'yma', 'isf', 'habs', 'rpl', 'afn', 'kurz', 'ryo', 'jesu', 'rdn', 'chir', 'sbdc', 'gph', 'mims', 'whe', 'xpp', 'misa', 'raga', 'ecru', 'neri', 'ault', 'mik', 'lgt', 'secu', 'shem', 'aryl', 'prio', 'mbh', 'ifad', 'neel', 'xmax', 'flc', 'hiro', 'iza', 'fehb', 'cdrh', 'usac', 'hhb', 'sapa', 'vha', 'jno', 'uac', 'dik', 'komo', 'haj', 'amw', 'aet', 'bdo', 'pvcs', 'fwz', 'vco', 'jobe', 'lcl', 'purl', 'rpf', 'rwc', 'rtv', 'crna', 'nzl', 'lox', 'svk', 'gtz', 'brm', 'salo', 'vier', 'tpu', 'mml', 'aam', 'dati', 'nmol', 'tomo', 'shh', 'tlm', 'btl', 'mpio', 'bfme', 'muds', 'kunz', 'frn', 'gies', 'dacs', 'lae', 'apra', 'leto', 'lehi', 'ftr', 'regu', 'amm', 'nwot', 'upvc', 'msv', 'coro', 'eliz', 'abv', 'iiii', 'amu', 'dch', 'stv', 'lcsw', 'bbx', 'gish', 'vmd', 'fdo', 'fmv', 'fini', 'dmo', 'mtt', 'nrp', 'fgf', 'ifi', 'xap', 'fsck', 'jahn', 'arby', 'tole', 'fifi', 'spel', 'lrp', 'dijk', 'jta', 'dped', 'fsd', 'utsa', 'egfr', 'hgt', 'azad', 'lue', 'pims', 'aaai', 'strt', 'nghe', 'cln', 'psk', 'acth', 'cvn', 'wean', 'idi', 'jcu', 'supa', 'suh', 'juju', 'gora', 'iban', 'ggt', 'seda', 'sary', 'bons', 'tmda', 'twu', 'kenn', 'caz', 'nene', 'vals', 'litt', 'sbl', 'gmr', 'mbl', 'blib', 'itw', 'sdsl', 'ddn', 'shak', 'expe', 'bdm', 'stim', 'cwi', 'umds', 'kpc', 'wrox', 'baru', 'sge', 'kasi', 'coef', 'wisi', 'ebt', 'ihm', 'nuno', 'ntg', 'imps', 'pupa', 'jep', 'rcl', 'mdn', 'suds', 'fela', 'gams', 'swm', 'spon', 'skal', 'rie', 'okra', 'bett', 'vmc', 'pozo', 'rth', 'gmb', 'cah', 'bren', 'rws', 'tock', 'sfm', 'bapt', 'linh', 'lcms', 'ggsn', 'noh', 'lors', 'cepa', 'geht', 'ahab', 'jfc', 'pgd', 'rcv', 'shep', 'prr', 'saud', 'ahc', 'drp', 'pipa', 'epx', 'idvd', 'gest', 'inl', 'nua', 'fll', 'suid', 'pene', 'atu', 'thue', 'stw', 'snub', 'siig', 'izzo', 'suz', 'raff', 'voz', 'adra', 'lte', 'azo', 'prat', 'haps', 'dims', 'bayh', 'fsis', 'ntlk', 'agee', 'bsm', 'derm', 'devx', 'lij', 'hdfc', 'usoc', 'sten', 'ier', 'fls', 'hyb', 'vtx', 'bhe', 'jde', 'arh', 'xxix', 'cand', 'feee', 'sohn', 'lims', 'jaap', 'nct', 'nabp', 'htt', 'sano', 'iow', 'pfm', 'lut', 'yepp', 'oif', 'mwr', 'aql', 'cib', 'rcvd', 'zan', 'ecj', 'jasc', 'eug', 'damm', 'mpf', 'donc', 'nsd', 'fvwm', 'mns', 'reli', 'rdb', 'wsm', 'guin', 'hdlc', 'sov', 'itg', 'veen', 'scud', 'icb', 'iah', 'jrun', 'mvd', 'yai', 'dmf', 'gola', 'orn', 'sne', 'inco', 'fogo', 'btr', 'stt', 'quel', 'etv', 'cais', 'giv', 'efax', 'sops', 'dees', 'fdp', 'eby', 'saxo', 'reu', 'wapo', 'pbuh', 'ijk', 'ngk', 'loew', 'sula', 'skil', 'timm', 'ftb', 'onc', 'slur', 'rew', 'ufa', 'kort', 'pkgs', 'lsh', 'xcr', 'wij', 'rigg', 'wgn', 'iud', 'lxer', 'bnb', 'lish', 'mbbs', 'fxs', 'mgh', 'fcu', 'vind', 'nomi', 'rdi', 'amoi', 'txu', 'psat', 'nytr', 'upnp', 'bgsu', 'oris', 'effi', 'bbk', 'uric', 'psw', 'hcn', 'onan', 'raa', 'soas', 'qiu', 'obd', 'lunn', 'zeo', 'xuxa', 'nyko', 'xiu', 'suf', 'nen', 'wut', 'aom', 'bth', 'kuva', 'itms', 'olay', 'erma', 'gic', 'emis', 'nzst', 'husa', 'rgs', 'tusk', 'uyp', 'urc', 'dree', 'ohp', 'ncac', 'sqn', 'bdu', 'odot', 'njac', 'sain', 'fcm', 'cran', 'cnty', 'nmd', 'iim', 'zug', 'eml', 'rimm', 'vey', 'hcf', 'dorr', 'wala', 'fwhm', 'vlt', 'fcl', 'spu', 'tbt', 'vcx', 'twee', 'ech', 'eeee', 'ians', 'tks', 'uhl', 'ftv', 'egs', 'lyr', 'mapi', 'gzz', 'fbs', 'arad', 'xms', 'mili', 'wwp', 'nfp', 'mbm', 'raju', 'crts', 'sik', 'hia', 'dall', 'epfl', 'wrd', 'mij', 'fou', 'hcd', 'ibp', 'alpe', 'pkk', 'bpt', 'clep', 'radu', 'ssri', 'mok', 'nhi', 'nmm', 'heer', 'wba', 'ceil', 'ntr', 'daa', 'awp', 'rach', 'unch', 'cbgb', 'kelo', 'ifas', 'orfs', 'macd', 'icam', 'hrsa', 'peay', 'lado', 'dib', 'ruhr', 'tsd', 'sate', 'lhd', 'icj', 'ipd', 'naoh', 'scx', 'goed', 'capp', 'clea', 'hpb', 'yar', 'toh', 'juha', 'psas', 'mmt', 'fsw', 'maga', 'ivar', 'yore', 'pbd', 'alka', 'ump', 'poh', 'iwi', 'vrbo', 'unr', 'ult', 'earp', 'lft', 'kati', 'oad', 'isoc', 'pmg', 'kfor', 'eot', 'lfa', 'dsh', 'garr', 'cboe', 'oba', 'gils', 'blok', 'eitc', 'jsi', 'koni', 'parm', 'wra', 'kron', 'fabs', 'nfld', 'jaye', 'afin', 'papo', 'rcr', 'eazy', 'rfee', 'obl', 'nzx', 'flys', 'xed', 'roor', 'ziyi', 'lviv', 'oke', 'cygd', 'slop', 'mase', 'mapp', 'xuan', 'nve', 'qaa', 'qam', 'cupe', 'dtw', 'aacc', 'abnf', 'xara', 'opn', 'tims', 'gda', 'oggi', 'nol', 'edom', 'rly', 'ncdc', 'wwtp', 'weer', 'nims', 'ples', 'echr', 'bozo', 'adw', 'sdlt', 'amat', 'msvc', 'mfm', 'afv', 'caco', 'amal', 'lupo', 'iaaf', 'khs', 'ccjs', 'ofr', 'kut', 'vuln', 'hsg', 'nhk', 'zrt', 'rjr', 'dscc', 'baka', 'stip', 'twt', 'eil', 'frse', 'rhic', 'harv', 'hure', 'atis', 'pns', 'cmpt', 'twos', 'hlp', 'dshs', 'berm', 'dok', 'hake', 'oot', 'agni', 'mxp', 'plcs', 'ited', 'gaol', 'oly', 'gfe', 'tarn', 'enl', 'jmb', 'zanu', 'hhp', 'lsps', 'ivc', 'dta', 'hak', 'wahm', 'okla', 'kpn', 'caan', 'unde', 'yuh', 'susi', 'seus', 'icw', 'bvs', 'gml', 'ogni', 'wels', 'bopp', 'itr', 'egl', 'vree', 'wse', 'tdf', 'noo', 'kaus', 'klux', 'yaz', 'xtr', 'exs', 'esop', 'saar', 'bne', 'ppf', 'hani', 'pxe', 'trf', 'haim', 'gpd', 'tiaa', 'pgh', 'fhus', 'osco', 'edad', 'eecs', 'gfa', 'nasm', 'ulla', 'bhat', 'ibf', 'kash', 'eten', 'enim', 'alun', 'lso', 'rami', 'bohn', 'cesa', 'hme', 'cihr', 'qts', 'vds', 'fcr', 'scid', 'lvds', 'leng', 'ege', 'jfw', 'bofh', 'adat', 'dbp', 'yugi', 'afe', 'mura', 'risa', 'nata', 'awl', 'lpm', 'sbm', 'csrs', 'shek', 'ncte', 'nkjv', 'teck', 'imr', 'vpp', 'tare', 'dsw', 'ecma', 'soir', 'mrq', 'gaga', 'peau', 'ftw', 'lpp', 'reve', 'rtfm', 'patt', 'ohr', 'xmin', 'liq', 'saft', 'kone', 'ecto', 'wohl', 'othe', 'astr', 'rpp', 'loli', 'srw', 'abbr', 'rdna', 'cmte', 'feis', 'flay', 'eom', 'riad', 'isha', 'ftee', 'sirf', 'pli', 'dlm', 'slas', 'iwin', 'hpf', 'cddb', 'sols', 'revd', 'fess', 'fnc', 'seto', 'ohsu', 'tno', 'kul', 'ince', 'gasb', 'odf', 'ifb', 'eisa', 'mish', 'sbt', 'tpd', 'dutt', 'luba', 'sdks', 'sett', 'lre', 'uua', 'ooff', 'akim', 'laf', 'lpl', 'ttb', 'oie', 'tgv', 'empl', 'ilex', 'rics', 'mpw', 'whee', 'usha', 'tren', 'rtu', 'vle', 'sju', 'saj', 'unum', 'kaza', 'ceci', 'kak', 'evms', 'gii', 'byo', 'chur', 'qrs', 'odc', 'edda', 'hrdc', 'yzf', 'jor', 'lowa', 'ttu', 'spil', 'duda', 'efg', 'lha', 'meno', 'mng', 'aqha', 'hpd', 'lbnl', 'buhl', 'wpm', 'uro', 'miao', 'rix', 'iif', 'yac', 'fiba', 'rcpt', 'itar', 'caja', 'harz', 'awed', 'chuo', 'doq', 'sipp', 'husb', 'inti', 'nso', 'xeu', 'wana', 'ffee', 'iola', 'herm', 'idee', 'lunt', 'omfg', 'twit', 'olav', 'ift', 'vmt', 'shhh', 'ojb', 'gite', 'rou', 'jhs', 'macc', 'sjsu', 'xmm', 'igbo', 'iag', 'ttyl', 'creo', 'wavs', 'mef', 'elbe', 'ntlm', 'narc', 'nani', 'abce', 'ajit', 'lalo', 'mond', 'fye', 'hcb', 'gmm', 'buon', 'zon', 'maff', 'gnr', 'npe', 'msql', 'svhs', 'kina', 'acro', 'dobb', 'mgo', 'mbb', 'itty', 'pdif', 'slog', 'gav', 'movl', 'buri', 'zink', 'rhel', 'jra', 'pecs', 'wsb', 'syl', 'btm', 'nmsu', 'nona', 'resa', 'rree', 'mna', 'fse', 'msas', 'ldd', 'powe', 'flog', 'topi', 'beni', 'whm', 'merv', 'oud', 'hnc', 'usaa', 'tmt', 'scie', 'sft', 'deut', 'deni', 'rnib', 'rflp', 'wile', 'naim', 'msgr', 'djvu', 'jell', 'nasb', 'rhn', 'lupe', 'pdv', 'vws', 'dury', 'bgm', 'kac', 'yous', 'ffp', 'quoi', 'geir', 'edl', 'babb', 'gnis', 'frwe', 'iov', 'tsys', 'apel', 'aapl', 'waa', 'ahr', 'tgg', 'csir', 'hpt', 'mrcp', 'bsw', 'tuy', 'cjr', 'adg', 'tarr', 'flg', 'cipa', 'emin', 'vsat', 'frde', 'dku', 'iub', 'pno', 'sve', 'hjc', 'ggi', 'duds', 'hyg', 'ouse', 'glos', 'cfdj', 'jinn', 'znet', 'nunc', 'mif', 'gur', 'aspn', 'jure', 'susp', 'cfda', 'plab', 'tlr', 'ptl', 'hta', 'cdot', 'aao', 'lci', 'heya', 'espe', 'rrd', 'azar', 'bega', 'bjs', 'koe', 'gelb', 'obc', 'eloy', 'wcg', 'apv', 'lapp', 'gom', 'wca', 'weyl', 'inta', 'blac', 'fns', 'oos', 'debe', 'tmb', 'deet', 'mony', 'upr', 'nees', 'buh', 'mele', 'kipp', 'kzn', 'goji', 'reiv', 'fbc', 'fock', 'acte', 'pmn', 'soh', 'piv', 'dany', 'gcp', 'tbp', 'cmn', 'tib', 'dxg', 'lgw', 'osaf', 'zio', 'ibt', 'dyo', 'saou', 'ial', 'vaux', 'nmb', 'aera', 'nahb', 'rime', 'tdh', 'plb', 'jcl', 'atel', 'dge', 'shm', 'goad', 'nika', 'nvs', 'gau', 'geer', 'uday', 'cluj', 'sry', 'jari', 'ftir', 'fnb', 'ihe', 'tpf', 'ffy', 'ight', 'paks', 'uin', 'rul', 'cpx', 'spry', 'toki', 'jsps', 'sqa', 'dain', 'phb', 'rpo', 'fmi', 'raab', 'baha', 'brb', 'ener', 'nto', 'btx', 'cata', 'rcf', 'frou', 'ochs', 'koei', 'aub', 'ueda', 'dail', 'equa', 'eed', 'jref', 'vrc', 'tdb', 'hhr', 'atal', 'topp', 'koln', 'newb', 'fars', 'pada', 'lnp', 'lir', 'svu', 'fce', 'expl', 'orin', 'grok', 'fydd', 'pnw', 'zvi', 'deis', 'rnk', 'yast', 'farc', 'fale', 'kiko', 'dnt', 'dazu', 'nmu', 'gmf', 'dys', 'coot', 'lnk', 'dfp', 'cnp', 'trv', 'hdw', 'popu', 'wsws', 'nma', 'domo', 'maun', 'rtcw', 'ewg', 'sdlc', 'ches', 'aks', 'sdss', 'jabs', 'ifex', 'apta', 'pnas', 'clia', 'sok', 'lfo', 'bgg', 'taal', 'sabc', 'dmem', 'booz', 'stra', 'neto', 'oink', 'mfd', 'rolo', 'nava', 'dyne', 'akzo', 'pews', 'ksl', 'hsb', 'muh', 'phds', 'wfs', 'ume', 'lnsl', 'ulu', 'bpx', 'munn', 'esco', 'wud', 'cfos', 'lkml', 'epia', 'wft', 'blaq', 'barc', 'mht', 'fli', 'eep', 'mbd', 'ull', 'pph', 'masc', 'kil', 'gns', 'cyd', 'rcb', 'mmg', 'wfmu', 'ksi', 'qpr', 'tvb', 'fect', 'sbb', 'bata', 'esrd', 'doaj', 'mami', 'emba', 'kwbc', 'ohl', 'bte', 'intc', 'orff', 'msy', 'sii', 'kau', 'sohc', 'atos', 'peps', 'rlg', 'pok', 'nfi', 'fdny', 'hlt', 'jots', 'evie', 'cota', 'luni', 'stel', 'taux', 'usvi', 'umb', 'sali', 'hvr', 'byd', 'hsl', 'krk', 'fcb', 'gws', 'lml', 'bris', 'sisu', 'iin', 'uce', 'gots', 'hele', 'pdga', 'ratt', 'weve', 'naot', 'odu', 'ober', 'sck', 'taba', 'mies', 'izod', 'wbe', 'koto', 'harr', 'kiri', 'ursa', 'pern', 'iws', 'brix', 'badu', 'sfg', 'loni', 'unu', 'iof', 'opws', 'ffc', 'plop', 'kult', 'kft', 'glw', 'tph', 'balt', 'ucar', 'fron', 'mwst', 'dhr', 'lein', 'nchs', 'mito', 'dgps', 'mtns', 'mylo', 'vpts', 'mld', 'bpc', 'ripa', 'rohr', 'ould', 'eure', 'hma', 'defi', 'arx', 'sipc', 'tans', 'vmas', 'ojo', 'hgnc', 'fbr', 'seis', 'lacz', 'fmcg', 'rhd', 'geno', 'pdg', 'orme', 'rwe', 'arth', 'ayto', 'ynez', 'baw', 'btp', 'kof', 'rian', 'tomi', 'ptb', 'samy', 'sige', 'vaz', 'grog', 'zakk', 'spey', 'nsb', 'gtl', 'mck', 'nof', 'mell', 'oude', 'dcms', 'ivs', 'nmea', 'qol', 'ank', 'epdm', 'aex', 'lel', 'pgr', 'preg', 'bex', 'pshe', 'hann', 'crk', 'walz', 'idu', 'erl', 'easi', 'nyo', 'htlv', 'ceb', 'pbt', 'jono', 'lrb', 'acce', 'astd', 'icap', 'runt', 'sdtv', 'ceri', 'nsps', 'edw', 'hdt', 'vtt', 'kjos', 'lote', 'tula', 'mnr', 'fpr', 'juv', 'omd', 'vaca', 'didi', 'rhai', 'nfr', 'saxe', 'mdd', 'vcp', 'uda', 'akan', 'wldj', 'yel', 'cede', 'tash', 'ssgt', 'jca', 'eqpt', 'odo', 'tsop', 'rafi', 'erty', 'ello', 'rdl', 'olli', 'dve', 'kbr', 'teem', 'haba', 'taca', 'aips', 'matz', 'bhm', 'rft', 'robt', 'vram', 'kcrw', 'gva', 'frio', 'opd', 'driv', 'sdj', 'nyp', 'bonk', 'oor', 'bcom', 'dox', 'uco', 'sref', 'iaw', 'ustr', 'ngf', 'duos', 'sdt', 'meda', 'hitz', 'ruta', 'pui', 'suet', 'popp', 'anx', 'blc', 'ncm', 'cyt', 'vls', 'pkts', 'acog', 'ilsa', 'wssd', 'cles', 'taha', 'hpl', 'olly', 'larp', 'lich', 'dux', 'sfsu', 'diu', 'zant', 'lxi', 'acas', 'upmc', 'ndf', 'sre', 'gnrh', 'dccc', 'cuc', 'imb', 'svo', 'goel', 'awwa', 'thet', 'wso', 'rvr', 'ock', 'cmap', 'leos', 'haa', 'zog', 'chh', 'esn', 'kir', 'yha', 'tvt', 'buen', 'zyx', 'satu', 'pspp', 'hmp', 'flp', 'alga', 'danc', 'uwo', 'yow', 'eif', 'mund', 'imgt', 'sbu', 'moca', 'ntd', 'jpm', 'beh', 'sawa', 'hku', 'tudo', 'libg', 'csus', 'dwm', 'fbt', 'andr', 'vole', 'sila', 'jsut', 'refi', 'nars', 'mpb', 'garg', 'mmn', 'aral', 'ecce', 'mrk', 'segv', 'lgi', 'ppps', 'eez', 'cset', 'hch', 'lcos', 'ojos', 'meen', 'gue', 'anao', 'ands', 'shrm', 'mbar', 'epri', 'syne', 'lbf', 'radi', 'esh', 'twr', 'wsg', 'ngu', 'gsu', 'pkd', 'cvg', 'voom', 'avy', 'lmr', 'avro', 'jck', 'aiea', 'waar', 'bso', 'buu', 'armi', 'indc', 'oag', 'mwyn', 'sln', 'vsi', 'aasb', 'frt', 'coor', 'boh', 'cpuc', 'dbu', 'pgl', 'wtop', 'coto', 'pbgc', 'suey', 'inav', 'elta', 'cpy', 'kha', 'ude', 'nyj', 'goe', 'mtbf', 'nyr', 'cira', 'betz', 'fehr', 'dede', 'eke', 'rull', 'gwp', 'pfe', 'arya', 'bfp', 'salk', 'cftc', 'moin', 'nbt', 'libr', 'oap', 'sase', 'ifla', 'emas', 'benj', 'dsk', 'asif', 'puna', 'hund', 'flan', 'atoi', 'cvi', 'fers', 'iago', 'axed', 'rett', 'jez', 'fsfe', 'ezy', 'socs', 'neth', 'jags', 'mayr', 'cgw', 'wrs', 'vsu', 'nrk', 'ifj', 'iup', 'nowe', 'vpa', 'hlc', 'mbo', 'avx', 'mssm', 'ocl', 'exmh', 'bleh', 'mize', 'wex', 'mact', 'tcdd', 'scor', 'maat', 'acto', 'vay', 'raed', 'mumm', 'jbs', 'wuxi', 'flin', 'quip', 'duy', 'pthc', 'slox', 'tair', 'fct', 'gru', 'sssr', 'cex', 'hii', 'bry', 'nrf', 'ltsp', 'doy', 'nasr', 'daml', 'oaf', 'fpp', 'dfn', 'ecom', 'rff', 'ldi', 'harb', 'tapu', 'baf', 'efe', 'heis', 'sbcl', 'swx', 'adk', 'gbh', 'domi', 'addl', 'rmvb', 'cnm', 'whp', 'usl', 'dels', 'frd', 'itz', 'jts', 'lmu', 'glb', 'vvv', 'sast', 'dopo', 'kjs', 'aisi', 'brst', 'irf', 'qtvr', 'xeno', 'drk', 'uggs', 'iffy', 'amma', 'serc', 'iver', 'jkl', 'adrs', 'hadi', 'dorf', 'yama', 'iiib', 'mbta', 'gea', 'cmps', 'redi', 'kiva', 'dogz', 'valu', 'ega', 'kcbs', 'ghr', 'etsu', 'roda', 'uls', 'paua', 'gmu', 'raum', 'vsl', 'dii', 'tuoi', 'agf', 'kod', 'etro', 'sfd', 'eor', 'eiu', 'waka', 'crg', 'geb', 'olof', 'ckd', 'elwa', 'auer', 'arif', 'trin', 'sasa', 'saki', 'fios', 'drea', 'nrdc', 'elin', 'naas', 'vam', 'vap', 'wove', 'faz', 'ccds', 'ldo', 'kpi', 'sxn', 'ncba', 'wapp', 'bwc', 'lytt', 'wfo', 'weng', 'narr', 'oof', 'gcr', 'tria', 'fhl', 'epn', 'essa', 'pnm', 'alen', 'oon', 'icsi', 'nein', 'zal', 'aza', 'hco', 'phra', 'cmmi', 'abad', 'rehm', 'ndr', 'bevy', 'reti', 'itrc', 'gbe', 'nori', 'tere', 'ndn', 'nima', 'ahd', 'cabg', 'ckc', 'ptd', 'vgp', 'dsf', 'glm', 'wbai', 'dfas', 'flit', 'sork', 'lru', 'xli', 'btk', 'dili', 'buil', 'osl', 'cova', 'vta', 'nibh', 'onr', 'iasb', 'ower', 'dfb', 'toko', 'euch', 'wmt', 'wast', 'buz', 'hybl', 'onu', 'stik', 'issj', 'pbdj', 'leb', 'fama', 'liek', 'rfg', 'evc', 'doms', 'poz', 'nctm', 'ferl', 'bpr', 'cpj', 'taht', 'shue', 'gni', 'dour', 'maio', 'kegs', 'ncsl', 'dano', 'nosy', 'dnso', 'fna', 'dmu', 'rade', 'quia', 'hssp', 'blv', 'soli', 'bobl', 'roja', 'rre', 'skc', 'asad', 'ptv', 'nni', 'keir', 'ule', 'camm', 'oau', 'eog', 'klh', 'cinq', 'ocn', 'ocf', 'appn', 'igh', 'wyn', 'usno', 'ajr', 'awc', 'flug', 'porr', 'jmf', 'oise', 'tpn', 'dood', 'yuv', 'pgce', 'mfl', 'alls', 'selv', 'hbk', 'ivtv', 'peco', 'niel', 'ndvi', 'dek', 'gog', 'tni', 'seki', 'cita', 'hnn', 'oea', 'mlf', 'mego', 'mtvn', 'ceux', 'heu', 'xpi', 'naz', 'iraf', 'ahrc', 'moka', 'puro', 'mxdj', 'hpp', 'evm', 'itaa', 'dabs', 'chex', 'thei', 'posy', 'ejac', 'lld', 'uup', 'kuba', 'vsb', 'lrn', 'jpe', 'lfe', 'caye', 'toru', 'soes', 'ucts', 'mtrs', 'ltm', 'dkim', 'lef', 'ius', 'tico', 'wgt', 'hanh', 'vih', 'kurd', 'sdx', 'lws', 'vite', 'cun', 'bakr', 'sze', 'eris', 'inap', 'targ', 'bbm', 'afsc', 'rube', 'secc', 'pkix', 'carn', 'iro', 'uoc', 'guba', 'blox', 'uavs', 'nmp', 'erst', 'dima', 'wct', 'lehr', 'kwal', 'eag', 'arq', 'xpt', 'cuna', 'ghee', 'appx', 'oeil', 'ovp', 'nort', 'miz', 'raws', 'huc', 'ldh', 'aaps', 'ldf', 'cisa', 'daj', 'vns', 'udma', 'bmr', 'sona', 'vend', 'siz', 'faw', 'btv', 'dbj', 'worf', 'ecri', 'bani', 'lela', 'gdal', 'hya', 'ites', 'nhat', 'cisc', 'kabc', 'nph', 'zena', 'fpt', 'msfc', 'drt', 'mwa', 'irie', 'stam', 'hval', 'shae', 'rdu', 'reva', 'vini', 'rabe', 'bape', 'sdu', 'ael', 'osdl', 'anta', 'suri', 'ibms', 'ddh', 'muth', 'xrf', 'pkm', 'scra', 'mato', 'ohta', 'etr', 'gok', 'abut', 'vti', 'wib', 'thk', 'tne', 'kage', 'klin', 'ovr', 'worl', 'thp', 'nvd', 'eons', 'smx', 'buc', 'dvla', 'nacs', 'hhc', 'phed', 'luff', 'mys', 'cev', 'ncua', 'xmlj', 'cge', 'dais', 'dco', 'iams', 'begg', 'zep', 'cmhc', 'jpop', 'nati', 'mocs', 'nvc', 'ubd', 'ddu', 'pith', 'eaux', 'gaff', 'nptl', 'alx', 'sahm', 'kuff', 'vre', 'veel', 'cks', 'conj', 'bdf', 'chrx', 'sugg', 'kush', 'mola', 'pobl', 'rxvt', 'cmdr', 'xft', 'ohno', 'mpu', 'chug', 'rbk', 'echt', 'hbm', 'laud', 'buts', 'kurs', 'desa', 'jere', 'mezz', 'wos', 'nub', 'ixi', 'goer', 'nido', 'stae', 'nsdl', 'uru', 'amv', 'jann', 'rtb', 'sait', 'wpl', 'deon', 'cpk', 'iwon', 'cmj', 'catt', 'psh', 'eio', 'ntk', 'popj', 'fme', 'afg', 'udi', 'rdd', 'fiz', 'gmg', 'yeux', 'meru', 'sota', 'sulu', 'bht', 'dle', 'otoh', 'ibew', 'oha', 'dbas', 'psst', 'fbbt', 'dpv', 'jamo', 'msac', 'thun', 'dred', 'fah', 'mgl', 'cno', 'sbus', 'ifm', 'uws', 'orac', 'mose', 'moti', 'detr', 'vfx', 'otep', 'troi', 'dere', 'abus', 'suas', 'cera', 'gwr', 'peal', 'iidb', 'inds', 'bwa', 'tfa', 'neos', 'zirh', 'vmax', 'jhf', 'lagi', 'baas', 'irst', 'dama', 'btvs', 'aveo', 'unos', 'dasa', 'bdp', 'llu', 'sgf', 'udon', 'duis', 'lamm', 'blom', 'sdsc', 'psql', 'gwh', 'cbos', 'cmsa', 'vpdn', 'jcm', 'lieb', 'gmax', 'ipcs', 'uea', 'cpci', 'nyi', 'alw', 'sarg', 'psus', 'kamm', 'ddg', 'nott', 'miri', 'kpfk', 'chri', 'mfis', 'alis', 'xfig', 'lme', 'pano', 'krew', 'yas', 'miac', 'ueno', 'kah', 'sccs', 'jpc', 'kif', 'hmas', 'molt', 'rmf', 'coir', 'jaa', 'rrt', 'vsc', 'npb', 'ptz', 'dats', 'shgc', 'rfb', 'euan', 'matx', 'clv', 'cors', 'gion', 'apso', 'seh', 'errr', 'cgd', 'ihl', 'lct', 'ipso', 'dto', 'haf', 'cual', 'dema', 'lna', 'atma', 'lwr', 'ntv', 'cwr', 'usk', 'plos', 'mpas', 'wga', 'vika', 'kook', 'ftl', 'jnk', 'ubr', 'aef', 'silv', 'iui', 'tyc', 'spip', 'lolz', 'dvl', 'dbw', 'vldb', 'bagh', 'ivp', 'agli', 'nobs', 'ptsa', 'youd', 'teco', 'fdm', 'kix', 'nrr', 'dlci', 'kcs', 'teu', 'beek', 'rir', 'doku', 'ifac', 'ohe', 'lohr', 'esea', 'viiv', 'udrp', 'bkr', 'enda', 'smm', 'plf', 'gfc', 'ilse', 'aafp', 'lla', 'fons', 'ihp', 'ozs', 'vats', 'batu', 'kpis', 'nuh', 'isac', 'qpsk', 'ctor', 'dake', 'dota', 'katu', 'nsk', 'xcen', 'sigg', 'alea', 'dpg', 'trod', 'coff', 'pwa', 'kqed', 'wans', 'ordo', 'ugsu', 'cxc', 'fti', 'rima', 'mke', 'mals', 'ycen', 'nape', 'oia', 'jxta', 'ican', 'imn', 'tica', 'fpi', 'ahm', 'hema', 'tws', 'ulp', 'fml', 'seva', 'ibrd', 'mdw', 'vdot', 'rhe', 'fsg', 'zoll', 'ceh', 'wcha', 'crak', 'nrel', 'belk', 'zoey', 'ccsp', 'ifd', 'hno', 'onde', 'mlr', 'aish', 'tme', 'fwa', 'trem', 'veni', 'nong', 'sgsn', 'itsg', 'twe', 'kbp', 'fahd', 'leki', 'pawp', 'rost', 'fdg', 'myb', 'vcf', 'reh', 'rcts', 'rilo', 'ula', 'sava', 'thre', 'phn', 'tfr', 'amaa', 'ving', 'oye', 'cahn', 'iwf', 'oer', 'nwfp', 'sxt', 'pils', 'krb', 'ular', 'vins', 'davi', 'rhi', 'aru', 'lof', 'swik', 'spex', 'xrd', 'rsr', 'leva', 'apco', 'tova', 'qqq', 'kffl', 'jic', 'tup', 'soni', 'khin', 'cgp', 'hisp', 'pctv', 'hns', 'fto', 'upm', 'etag', 'tesl', 'uow', 'ioan', 'uhhh', 'enon', 'unam', 'epe', 'weft', 'tute', 'amba', 'dort', 'dern', 'aopa', 'bcci', 'noti', 'dvhs', 'ibe', 'tde', 'teds', 'myne', 'ncea', 'albe', 'indx', 'icbm', 'otb', 'gcu', 'urbz', 'aek', 'daou', 'afk', 'hif', 'sela', 'sjr', 'kapp', 'rtk', 'nhp', 'uxo', 'wkdw', 'bowe', 'rtcp', 'trev', 'fors', 'bada', 'flim', 'lase', 'doig', 'ffx', 'evel', 'aall', 'wfd', 'ckey', 'ptm', 'adil', 'tubo', 'pbmc', 'goos', 'kupu', 'vix', 'teks', 'rael', 'ptg', 'pmol', 'exa', 'clf', 'gers', 'ohn', 'bff', 'rfqs', 'bhai', 'arj', 'grib', 'naik', 'cjs', 'pmel', 'loic', 'clid', 'ttlb', 'tnb', 'nmt', 'pela', 'ress', 'moir', 'piaf', 'rpe', 'tena', 'tada', 'frb', 'cele', 'bsh', 'deir', 'juz', 'lxx', 'gpio', 'ttr', 'ovo', 'reek', 'wets', 'kier', 'dhi', 'bbt', 'kame', 'mcle', 'pnnl', 'tabl', 'hre', 'visi', 'drwy', 'ild', 'frew', 'ppk', 'vmu', 'lega', 'nonn', 'cmkx', 'ady', 'yaml', 'edj', 'sunw', 'miaa', 'kens', 'esk', 'ncf', 'spgs', 'natu', 'enz', 'hrv', 'prcs', 'sada', 'seve', 'jjb', 'ddm', 'sni', 'wwc', 'pum', 'taq', 'evn', 'osr', 'pof', 'iiop', 'iisc', 'perp', 'dcb', 'lipa', 'veri', 'weet', 'dmh', 'boma', 'ippc', 'vna', 'pef', 'huss', 'wla', 'kad', 'seps', 'bzw', 'btb', 'wlp', 'ety', 'iptc', 'hev', 'ursi', 'lup', 'cdrs', 'acrl', 'nnsa', 'goc', 'dbch', 'olb', 'tacs', 'lpfp', 'aae', 'supe', 'hums', 'vbd', 'joly', 'wsrp', 'aua', 'vacs', 'ludo', 'imai', 'seok', 'tude', 'utan', 'imvu', 'phun', 'hdcp', 'jaci', 'ruy', 'zwo', 'rvv', 'mnd', 'pika', 'rapt', 'wirt', 'aops', 'nore', 'atul', 'ayia', 'cint', 'mrg', 'pbp', 'drow', 'mung', 'iprs', 'tud', 'rej', 'hecs', 'hitt', 'upu', 'tvg', 'xbl', 'summ', 'qsr', 'wcf', 'ctk', 'aee', 'bsac', 'tmn', 'boek', 'dvg', 'ldpe', 'uds', 'kdb', 'pnl', 'xfer', 'eppy', 'timp', 'ambu', 'wann', 'kuhl', 'lcb', 'erbe', 'anak', 'rtas', 'azam', 'imma', 'jid', 'nais', 'xmi', 'nhan', 'vte', 'iiic', 'gfr', 'gier', 'hutu', 'otic', 'zpt', 'bcaa', 'nono', 'mits', 'rdx', 'huez', 'cyce', 'zeb', 'hipp', 'maz', 'lgc', 'gbm', 'wroc', 'dvsx', 'asne', 'keh', 'mers', 'muro', 'seds', 'sfw', 'tdg', 'leet', 'tesi', 'agd', 'tiel', 'keo', 'etan', 'fccj', 'ldt', 'rsw', 'ideo', 'anns', 'reac', 'simd', 'rpn', 'nutz', 'inb', 'dhd', 'txd', 'dli', 'cscw', 'htb', 'eran', 'newz', 'saac', 'tbm', 'quem', 'kono', 'cerr', 'rijn', 'vcjd', 'bwe', 'dptr', 'nij', 'usw', 'frr', 'cnb', 'shd', 'inm', 'smsc', 'vib', 'fami', 'bpf', 'gcf', 'wem', 'mez', 'icos', 'pyr', 'wdr', 'dtk', 'inra', 'elis', 'rasp', 'mxl', 'rri', 'pjc', 'upei', 'ders', 'setf', 'doze', 'iste', 'daum', 'mrcs', 'jat', 'ivd', 'phas', 'vdsl', 'rnr', 'jica', 'lier', 'taw', 'zno', 'jcn', 'wonk', 'tats', 'baur', 'qdi', 'atti', 'lexa', 'klas', 'opl', 'ajs', 'feo', 'grl', 'welk', 'yayo', 'tanh', 'gdl', 'raku', 'doen', 'shul', 'dint', 'uil', 'spdc', 'meq', 'clik', 'waal', 'arri', 'mtsu', 'flm', 'rity', 'oua', 'scba', 'joya', 'acom', 'nsh', 'ril', 'puls', 'mone', 'yob', 'smn', 'kies', 'abg', 'kaul', 'urt', 'ngan', 'wawa', 'gnet', 'suga', 'gfk', 'adar', 'nago', 'cpac', 'nrn', 'nyk', 'pdgf', 'hala', 'bouw', 'gana', 'ilec', 'bkk', 'tck', 'csma', 'slx', 'ehp', 'blak', 'flw', 'otl', 'regi', 'utmb', 'oal', 'sotw', 'aste', 'eipe', 'iigs', 'fwp', 'apw', 'tani', 'ftf', 'seay', 'cica', 'ylt', 'papp', 'ctia', 'absa', 'yvon', 'guha', 'fice', 'gsw', 'aicp', 'ells', 'sgb', 'xaml', 'gbx', 'cisg', 'kab', 'daar', 'bbbb', 'ampa', 'cwp', 'gape', 'deas', 'pbo', 'lls', 'srr', 'scet', 'shir', 'roel', 'vea', 'pcw', 'rott', 'wdfw', 'fems', 'inq', 'nqf', 'ccda', 'asae', 'ows', 'oids', 'opes', 'hlr', 'hkt', 'hwan', 'eget', 'nias', 'nain', 'chq', 'herc', 'ziel', 'cott', 'nove', 'trao', 'blam', 'dopa', 'jame', 'ipmi', 'tik', 'nrao', 'vand', 'traf', 'hedy', 'fimo', 'bns', 'oln', 'cioc', 'reus', 'drd', 'gane', 'alok', 'cccs', 'sone', 'wows', 'simo', 'otf', 'ldm', 'dure', 'avd', 'shf', 'tali', 'rph', 'avf', 'loga', 'vht', 'vasa', 'zev', 'puis', 'rmd', 'gdbm', 'rqm', 'dydd', 'zapp', 'coit', 'ltg', 'joc', 'sers', 'uob', 'lida', 'qcp', 'kalo', 'nlr', 'mgcl', 'ppn', 'ncv', 'duca', 'lyin', 'oker', 'bete', 'mwd', 'dpe', 'mdh', 'tual', 'egov', 'ereg', 'eyal', 'tmax', 'vasc', 'yate', 'rbf', 'owi', 'rele', 'awm', 'soka', 'qube', 'ogr', 'pixs', 'xmp', 'ien', 'sdlp', 'ocio', 'avst', 'sbn', 'posc', 'moly', 'octo', 'umcp', 'prsa', 'scv', 'iem', 'tdt', 'codi', 'schl', 'simu', 'tsw', 'rapa', 'sumi', 'gera', 'ssss', 'adea', 'huit', 'mcw', 'quae', 'zook', 'psia', 'tym', 'bole', 'heo', 'erba', 'otal', 'amz', 'iasi', 'zelf', 'uniq', 'ngr', 'fii', 'yul', 'idk', 'cbsa', 'badd', 'hgv', 'ipsa', 'cpls', 'craw', 'asim', 'csic', 'nle', 'axs', 'pff', 'farp', 'arnt', 'qema', 'jkr', 'asie', 'refn', 'tuft', 'orla', 'cvo', 'nfib', 'joli', 'cscf', 'pvrs', 'brg', 'kvh', 'kodo', 'xmlc', 'motd', 'uch', 'fnp', 'acks', 'stoc', 'ious', 'masi', 'toft', 'hris', 'kudo', 'tams', 'hpg', 'dele', 'kori', 'rdo', 'nuas', 'caza', 'nsec', 'ony', 'etm', 'gdt', 'njit', 'ocm', 'karo', 'qic', 'stre', 'cgn', 'fhc', 'nsis', 'icty', 'njsa', 'jorg', 'kou', 'iou', 'rast', 'fgee', 'rpd', 'vdt', 'aaup', 'flam', 'pmma', 'trex', 'pmf', 'arda', 'hbf', 'cros', 'mesg', 'sdny', 'rko', 'dfsg', 'fdtl', 'fev', 'tvnz', 'nibs', 'naki', 'ilr', 'tsbs', 'raq', 'yami', 'sdcl', 'hjt', 'ntn', 'wey', 'awi', 'gep', 'ntpd', 'adx', 'yyz', 'utk', 'xom', 'irg', 'acrs', 'vali', 'wou', 'fira', 'cdep', 'werd', 'xmen', 'wku', 'hjr', 'gfz', 'ails', 'aii', 'jci', 'rtti', 'sey', 'aude', 'gorp', 'buna', 'jij', 'idec', 'olas', 'spdt', 'grou', 'sohw', 'mkd', 'nnt', 'wty', 'smac', 'rupa', 'gtf', 'fxo', 'cued', 'ieg', 'slob', 'nfsd', 'cgap', 'tlt', 'rno', 'fqdn', 'asch', 'lly', 'ulti', 'ldn', 'popt', 'bfl', 'lsn', 'roly', 'puy', 'gmi', 'eab', 'expt', 'jefe', 'tbh', 'lmd', 'mvps', 'ansa', 'jss', 'doma', 'eter', 'eex', 'asem', 'fwee', 'glum', 'cwu', 'hha', 'eere', 'sabe', 'ulc', 'tceq', 'avda', 'romy', 'iww', 'xtm', 'wff', 'nsap', 'olf', 'srn', 'recd', 'eree', 'nyce', 'ists', 'oard', 'inal', 'caci', 'fle', 'fara', 'wus', 'kote', 'irqs', 'rion', 'koz', 'lsas', 'hpm', 'apia', 'rys', 'bhf', 'zit', 'gaan', 'nbn', 'uvex', 'kop', 'adas', 'hijo', 'esds', 'affy', 'nlo', 'mli', 'bnfl', 'hmr', 'rlm', 'mvt', 'frcs', 'youn', 'tcn', 'soab', 'eln', 'lumi', 'lccn', 'ooak', 'veo', 'nghi', 'jpa', 'amec', 'vus', 'pati', 'guyz', 'lbr', 'wxp', 'bune', 'hsas', 'cose', 'capm', 'nru', 'cise', 'xbrl', 'acw', 'fba', 'jace', 'pmu', 'ungz', 'tthe', 'styl', 'ddim', 'rohn', 'ngl', 'foa', 'mssg', 'leq', 'frfe', 'zang', 'phm', 'zyl', 'pabx', 'uel', 'pyne', 'scio', 'mff', 'qvga', 'diga', 'nack', 'kayo', 'alai', 'ptk', 'tfn', 'udeb', 'ejbs', 'doge', 'akst', 'rza', 'lill', 'rxe', 'rbm', 'isom', 'neha', 'ckm', 'twm', 'dito', 'losi', 'fbb', 'wiht', 'ieps', 'behe', 'kopf', 'ngoc', 'pppp', 'zerg', 'unp', 'gren', 'sepp', 'rle', 'oel', 'imq', 'hems', 'kaon', 'egal', 'mcus', 'divs', 'bkn', 'luu', 'agca', 'amh', 'safa', 'aspi', 'eerf', 'serf', 'ynys', 'sxe', 'vsd', 'inox', 'cyto', 'vnv', 'elva', 'tuam', 'eii', 'belg', 'qfp', 'bact', 'cips', 'owc', 'boxy', 'dwd', 'chui', 'meac', 'tpt', 'odio', 'bua', 'eim', 'qst', 'amsa', 'flra', 'kera', 'luma', 'iroc', 'mian', 'mncs', 'cism', 'lhe', 'woks', 'htd', 'pgt', 'usic', 'vav', 'nhrc', 'ajo', 'igx', 'huon', 'eiki', 'vate', 'tvi', 'npf', 'upss', 'ymax', 'wih', 'rodd', 'mahe', 'jamz', 'jdf', 'rzpd', 'txp', 'ktla', 'ogl', 'ika', 'hage', 'djm', 'huan', 'rfr', 'fyfe', 'dlsw', 'rax', 'sles', 'empt', 'pve', 'gdn', 'pois', 'zong', 'pvl', 'bwl', 'fmo', 'rila', 'hued', 'tela', 'flon', 'foma', 'orv', 'ccfl', 'yos', 'bmf', 'licq', 'ght', 'moun', 'xcp', 'edin', 'elio', 'jeet', 'rhee', 'wpp', 'vcm', 'orgn', 'twv', 'vif', 'cftr', 'jif', 'vfm', 'xkb', 'ceg', 'giri', 'cbg', 'wcp', 'refl', 'sica', 'rbh', 'fout', 'mup', 'ipoh', 'oir', 'aot', 'nila', 'cems', 'tav', 'vlas', 'jiao', 'garp', 'pegg', 'hsps', 'gnss', 'yuji', 'xjs', 'epf', 'wec', 'fcra', 'blat', 'iet', 'tto', 'adcs', 'dby', 'kaze', 'agv', 'winx', 'dcn', 'feh', 'kaen', 'sasi', 'rahn', 'lmg', 'lapa', 'tuin', 'sttr', 'rtai', 'duan', 'leve', 'olc', 'huma', 'wook', 'asrg', 'trng', 'aiga', 'ocw', 'pdn', 'uop', 'nsl', 'fiqh', 'swac', 'onli', 'rhc', 'mnp', 'bure', 'ligh', 'nuon', 'jede', 'dtl', 'ahec', 'hix', 'irby', 'pues', 'omri', 'noma', 'pww', 'syme', 'larc', 'tral', 'strm', 'ifx', 'upf', 'tunc', 'kqv', 'kse', 'wsn', 'giff', 'tari', 'jstl', 'aaah', 'jamb', 'hird', 'toyz', 'eaf', 'dera', 'hll', 'ilmi', 'ued', 'mne', 'cfia', 'oppo', 'waw', 'vml', 'gim', 'hcfc', 'jara', 'cccp', 'clim', 'foun', 'rads', 'rwa', 'vidi', 'whys', 'voda', 'wix', 'ccac', 'jans', 'spes', 'oase', 'ergy', 'puno', 'hdds', 'copp', 'lwo', 'ldas', 'fens', 'abec', 'tanz', 'ncn', 'bscw', 'pym', 'adem', 'atla', 'virt', 'csfb', 'dlf', 'mpca', 'ffg', 'cads', 'nudy', 'opb', 'acy', 'lave', 'adcp', 'euv', 'trie', 'aven', 'taub', 'sbk', 'cfx', 'fhp', 'xpd', 'mbf', 'wbr', 'abed', 'aun', 'geko', 'wpf', 'olie', 'usq', 'venu', 'plor', 'szko', 'tyce', 'truc', 'klo', 'iway', 'dosh', 'veja', 'fiel', 'cush', 'smbd', 'stuf', 'mjg', 'bcdb', 'cfn', 'maro', 'kgm', 'munk', 'asma', 'scif', 'zam', 'jma', 'wilf', 'frmd', 'gie', 'orde', 'deel', 'brid', 'fase', 'crh', 'btob', 'olt', 'eus', 'arup', 'ubu', 'vvs', 'oru', 'aav', 'chay', 'acci', 'arce', 'gha', 'mws', 'cees', 'wyk', 'cbk', 'jox', 'cabe', 'jur', 'lugz', 'mlas', 'iha', 'misl', 'dows', 'gwy', 'aina', 'kci', 'lesb', 'xau', 'grf', 'mrad', 'hdg', 'dtx', 'ltb', 'cnes', 'hase', 'jdt', 'kep', 'lcf', 'sinc', 'nja', 'npm', 'amur', 'indu', 'ewu', 'sny', 'girt', 'noda', 'kuch', 'illa', 'smps', 'vbox', 'laz', 'vdp', 'phin', 'jpgs', 'psap', 'woz', 'atex', 'abap', 'mavs', 'gara', 'nbx', 'smet', 'juge', 'mlv', 'wfaa', 'odb', 'voto', 'afmc', 'parl', 'fach', 'twg', 'sout', 'uia', 'istc', 'ptas', 'sfor', 'pvdf', 'mfj', 'gtv', 'clns', 'pih', 'hmis', 'tijd', 'nuda', 'forb', 'jue', 'nysa', 'vbn', 'ikm', 'rafa', 'bge', 'uba', 'ried', 'prif', 'ofp', 'ista', 'baia', 'ozma', 'aihw', 'kade', 'mmb', 'omap', 'cgf', 'yui', 'nre', 'icem', 'rld', 'maso', 'wsd', 'mcx', 'bgi', 'viro', 'groh', 'idw', 'mhr', 'urna', 'sjs', 'mey', 'oan', 'juri', 'glr', 'chb', 'eht', 'objs', 'acx', 'ebon', 'awr', 'thw', 'secy', 'nek', 'glh', 'fdot', 'lcpl', 'utne', 'elli', 'anke', 'voll', 'spor', 'pode', 'ipv', 'oin', 'khe', 'cwao', 'cqww', 'adsp', 'utv', 'dlh', 'rnli', 'eum', 'nht', 'tgps', 'omf', 'tras', 'juve', 'qbs', 'nzb', 'odl', 'nall', 'sscp', 'ures', 'tiu', 'keng', 'plg', 'axia', 'spst', 'qif', 'cach', 'fash', 'ruts', 'kui', 'hkg', 'spch', 'fcd', 'gdf', 'ulan', 'rzb', 'hjem', 'arvo', 'efm', 'abrs', 'atec', 'imcs', 'tdy', 'lesh', 'prow', 'ghe', 'asci', 'suss', 'wlt', 'dars', 'scad', 'reas', 'yori', 'sisk', 'dace', 'dtor', 'tric', 'kps', 'cooh', 'ictp', 'gpra', 'gpus', 'drgs', 'kawa', 'yiu', 'miel', 'wamu', 'edh', 'kubo', 'snn', 'xtx', 'ivi', 'ntia', 'azn', 'relo', 'ffh', 'cina', 'ncvo', 'fak', 'ymin', 'wags', 'xan', 'kie', 'aube', 'ezc', 'cosc', 'fais', 'dgc', 'maim', 'riz', 'skn', 'ofer', 'ipix', 'psps', 'pnb', 'dipl', 'sati', 'ewc', 'siro', 'pepa', 'gff', 'loz', 'cait', 'vios', 'ncis', 'rgc', 'veit', 'agoa', 'kars', 'gona', 'leat', 'svi', 'npsa', 'irna', 'ptx', 'wmap', 'ftz', 'clow', 'eins', 'fth', 'iccs', 'crj', 'vswr', 'sbf', 'pbar', 'jjm', 'uhp', 'egu', 'atac', 'wtih', 'swl', 'mcv', 'tvp', 'rmq', 'vico', 'spaz', 'quoc', 'mrv', 'dble', 'gali', 'lume', 'vsm', 'pfn', 'cmdb', 'ltn', 'amsn', 'qiao', 'ascp', 'fava', 'imu', 'uio', 'teel', 'pdz', 'wdt', 'aui', 'acv', 'inci', 'anau', 'mru', 'kase', 'suff', 'twh', 'muti', 'noth', 'coba', 'ison', 'arto', 'oram', 'rhl', 'icsc', 'knie', 'imex', 'reqd', 'itip', 'aout', 'ajm', 'grob', 'ejay', 'uoft', 'orta', 'haug', 'hnf', 'wod', 'onn', 'lyte', 'adpt', 'nsv', 'jux', 'rond', 'fwc', 'ntum', 'wui', 'kudu', 'aper', 'bfc', 'cujo', 'otay', 'creb', 'ppos', 'slf', 'lbn', 'sfy', 'dubh', 'pani', 'outa', 'chae', 'guu', 'okey', 'spac', 'keer', 'trou', 'cati', 'slee', 'ebd', 'laat', 'alou', 'evry', 'hti', 'csun', 'toch', 'bgc', 'lcdr', 'whse', 'incd', 'espy', 'fres', 'subp', 'shl', 'vaya', 'pedy', 'anca', 'maye', 'jeon', 'spri', 'bnn', 'baci', 'tuf', 'nout', 'pmm', 'deke', 'minc', 'siue', 'frl', 'iepm', 'kaba', 'kcr', 'rohe', 'aros', 'kimo', 'jso', 'uhc', 'tipi', 'isat', 'tcw', 'mork', 'curs', 'neer', 'tapp', 'sfl', 'gggg', 'zits', 'unsc', 'dly', 'kav', 'thz', 'gbt', 'tmh', 'wali', 'ftx', 'dgd', 'dxb', 'geh', 'clg', 'olan', 'miti', 'dcg', 'flv', 'ispa', 'imus', 'tpy', 'ades', 'lome', 'zich', 'mago', 'iml', 'jdr', 'cfsp', 'ifor', 'beq', 'oei', 'iges', 'mfe', 'luup', 'dcx', 'ners', 'senn', 'oamc', 'gak', 'opg', 'pqt', 'wcn', 'erez', 'dfd', 'paci', 'eka', 'ille', 'karn', 'mll', 'hary', 'ppar', 'mook', 'hld', 'entf', 'trwy', 'vpd', 'woc', 'hro', 'stri', 'pasi', 'zeev', 'wwww', 'imre', 'otm', 'darf', 'vek', 'agh', 'aslo', 'zain', 'jbc', 'inx', 'lnc', 'diii', 'leff', 'ogi', 'dgn', 'vies', 'gige', 'roti', 'lanz', 'otel', 'tmm', 'yair', 'sele', 'kme', 'sede', 'fajr', 'apwa', 'serp', 'zwar', 'nisi', 'tapa', 'bpg', 'lope', 'sete', 'flcl', 'isam', 'woon', 'noy', 'novy', 'bevo', 'irri', 'errs', 'tcpa', 'dnas', 'fdu', 'jml', 'eww', 'cff', 'tmbg', 'roup', 'wipp', 'sapi', 'nxpg', 'waca', 'dini', 'cddl', 'taas', 'alll', 'ccra', 'caer', 'vbac', 'ihra', 'apoe', 'eens', 'hhv', 'yenc', 'jist', 'vhss', 'ipse', 'aist', 'clar', 'ziv', 'wcbs', 'beso', 'wilk', 'tkd', 'gcb', 'hbos', 'opis', 'cadr', 'wrl', 'tttt', 'rgp', 'ndis', 'orld', 'squ', 'gaat', 'dawe', 'zma', 'swix', 'exte', 'aob', 'atic', 'neta', 'nva', 'azan', 'faze', 'aiko', 'pfw', 'erdf', 'uur', 'isee', 'ande', 'vamc', 'ajar', 'wld', 'bkt', 'efp', 'jba', 'pku', 'ahve', 'kow', 'akl', 'netw', 'roff', 'toph', 'oleh', 'pdes', 'cech', 'bedi', 'agy', 'ania', 'yeon', 'kian', 'wher', 'fipa', 'sebo', 'mynd', 'gure', 'exer', 'trta', 'wcl', 'ongc', 'sems', 'fook', 'vlf', 'amel', 'mcmc', 'ksp', 'rof', 'zaki', 'waht', 'sccp', 'ashi', 'fdcs', 'fobs', 'irks', 'odel', 'evdb', 'koga', 'dni', 'drl', 'sru', 'fhi', 'arta', 'tys', 'abst', 'anan', 'crr', 'raph', 'cgl', 'taus', 'swee', 'rpts', 'noto', 'txn', 'memb', 'dvda', 'hsh', 'hgf', 'aul', 'nosh', 'ntm', 'diol', 'flos', 'cak', 'prox', 'tsmc', 'ntb', 'haya', 'pnd', 'cide', 'boor', 'crys', 'snia', 'smk', 'oded', 'cgy', 'hdm', 'wcd', 'acft', 'icsa', 'ewtn', 'looe', 'iki', 'hrg', 'rud', 'ohci', 'pnr', 'aiw', 'psac', 'usms', 'nobr', 'nmsa', 'prj', 'bov', 'adss', 'aue', 'xag', 'yury', 'mhi', 'bgr', 'kdp', 'scip', 'nrsv', 'byes', 'naj', 'zepp', 'lity', 'alts', 'allt', 'nica', 'cdh', 'uap', 'chul', 'rias', 'kora', 'uom', 'nfip', 'prnn', 'strs', 'ibg', 'uxga', 'leni', 'xrt', 'paia', 'eeb', 'cian', 'raby', 'cefn', 'pkp', 'ayth', 'hpn', 'oxi', 'kake', 'wasa', 'kast', 'komi', 'taki', 'ooi', 'kdl', 'ctbt', 'unv', 'fgd', 'gids', 'qps', 'pnac', 'agha', 'dff', 'mscs', 'uer', 'decs', 'vpon', 'bbg', 'raad', 'ires', 'dld', 'extn', 'lout', 'tref', 'tiv', 'dwa', 'ghar', 'vsya', 'dpy', 'dvf', 'wark', 'bkg', 'fpg', 'cmaq', 'dgr', 'elg', 'nega', 'iida', 'ief', 'reca', 'hhe', 'cers', 'lwf', 'ecrm', 'wpd', 'appa', 'nzxt', 'sime', 'foer', 'gude', 'jems', 'misr', 'mdu', 'jwr', 'yhwh', 'vout', 'trh', 'carf', 'brp', 'ffr', 'epan', 'cih', 'dsss', 'samo', 'arpu', 'bula', 'blg', 'iwai', 'imes', 'hsrp', 'slax', 'vmx', 'agia', 'eub', 'inis', 'vasu', 'osgi', 'goma', 'lth', 'dico', 'oko', 'aiha', 'gein', 'daur', 'muto', 'siuc', 'igbt', 'hkr', 'ihi', 'ceph', 'tacx', 'plr', 'beo', 'zvon', 'guay', 'fcf', 'turb', 'lfg', 'aqr', 'ilbo', 'hym', 'fosa', 'pijn', 'emv', 'zina', 'rga', 'ohg', 'sall', 'alug', 'eui', 'pmh', 'picc', 'nisa', 'meb', 'vido', 'wxyz', 'dgl', 'dbr', 'uhci', 'cmds', 'opic', 'olam', 'aula', 'chep', 'sika', 'wdf', 'dhh', 'darr', 'exps', 'mete', 'aref', 'rega', 'noop', 'mugu', 'desu', 'ceq', 'lief', 'afta', 'ojt', 'eem', 'ury', 'otg', 'snh', 'kdd', 'mihi', 'gfso', 'wksu', 'geac', 'hibs', 'tlh', 'mlh', 'cuir', 'lih', 'dmsp', 'esch', 'hals', 'yael', 'tbf', 'bont', 'togs', 'morr', 'albo', 'shud', 'cscs', 'flic', 'kuti', 'olle', 'ked', 'pams', 'xph', 'acsm', 'pwb', 'uwch', 'sdcc', 'kazi', 'daad', 'qbe', 'weib', 'samt', 'wlug', 'kose', 'uto', 'tels', 'ggf', 'facp', 'orie', 'eman', 'octa', 'xach', 'bsdi', 'oav', 'matc', 'anis', 'romo', 'jibe', 'chis', 'hvs', 'bux', 'eger', 'kua', 'vsed', 'rman', 'waz', 'jsm', 'obx', 'myfi', 'hmcs', 'whc', 'addo', 'udy', 'syms', 'uuu', 'truy', 'hamp', 'gell', 'clix', 'coni', 'haws', 'ogf', 'bufo', 'sfe', 'fant', 'paes', 'grup', 'netg', 'dpo', 'vics', 'ator', 'weel', 'figo', 'cpsu', 'raze', 'qpl', 'rptr', 'fbm', 'aie', 'luby', 'icbc', 'pdk', 'eoi', 'cqu', 'cpw', 'eua', 'susa', 'bere', 'kahl', 'pbb', 'badr', 'fawr', 'anny', 'vhp', 'niwa', 'ilu', 'foz', 'csce', 'napp', 'tlg', 'xon', 'agco', 'adda', 'kure', 'jmis', 'uiaa', 'ehf', 'qrt', 'ctrs', 'kca', 'deum', 'toan', 'prnt', 'zfx', 'hasp', 'wain', 'valo', 'ciro', 'shal', 'icdl', 'dtsc', 'rsna', 'pfr', 'wti', 'mtw', 'dfr', 'tdsa', 'ayah', 'chud', 'kole', 'oyj', 'ruh', 'gmk', 'outh', 'supv', 'gadd', 'acos', 'kae', 'mybb', 'chie', 'lio', 'safi', 'xox', 'lins', 'vmps', 'nasi', 'aeb', 'wpx', 'wtl', 'coxx', 'exl', 'imba', 'kaa', 'fmea', 'keim', 'ette', 'qid', 'klar', 'rous', 'ggu', 'tze', 'kory', 'lyla', 'tubb', 'stic', 'kob', 'giai', 'bafo', 'xwem', 'pgf', 'wtw', 'lrm', 'rlp', 'wbz', 'uai', 'vfa', 'jims', 'paik', 'alcs', 'rml', 'pdh', 'iwan', 'nour', 'ltt', 'durr', 'spkr', 'kazu', 'laur', 'argy', 'inne', 'seka', 'snb', 'kile', 'mido', 'hsrc', 'khun', 'cbu', 'rxd', 'larg', 'stap', 'tego', 'wlm', 'zhan', 'jaan', 'aonb', 'sscs', 'hmd', 'rnp', 'othr', 'rsg', 'kura', 'wooo', 'lari', 'marz', 'pkb', 'atan', 'jws', 'bji', 'adha', 'vien', 'hef', 'mcq', 'galv', 'bova', 'locs', 'uplo', 'pila', 'blir', 'usui', 'movx', 'jnc', 'ccsa', 'nasw', 'cmas', 'hawt', 'lifo', 'itza', 'htan', 'dmw', 'ffe', 'vedi', 'tnk', 'lpf', 'lgl', 'pyre', 'shv', 'mapc', 'orks', 'noro', 'whql', 'meza', 'encl', 'dfee', 'rame', 'zdv', 'symb', 'igrp', 'bvba', 'neas', 'laff', 'arps', 'sult', 'mixx', 'zlwk', 'woy', 'vash', 'doak', 'jagr', 'rwth', 'fdb', 'quds', 'ufi', 'nvu', 'erno', 'mstp', 'xip', 'ssop', 'omsk', 'tila', 'aht', 'iped', 'jxj', 'wasc', 'bby', 'pft', 'cpv', 'rais', 'nmax', 'nals', 'wacc', 'athe', 'cnx', 'cuo', 'bcit', 'illy', 'kup', 'fado', 'zzr', 'raak', 'bles', 'bbqs', 'vcci', 'apse', 'oec', 'ftth', 'alef', 'maur', 'geg', 'wtae', 'boni', 'lagu', 'poze', 'jej', 'ncpa', 'apxs', 'weu', 'cwl', 'lary', 'ssis', 'ento', 'rohc', 'iqs', 'mtvu', 'idus', 'cods', 'vias', 'nyla', 'crsp', 'zipp', 'pmk', 'wrf', 'mnf', 'rcon', 'zie', 'khc', 'enf', 'rans', 'faf', 'fnf', 'kur', 'voq', 'emms', 'wate', 'dmae', 'srk', 'zwan', 'hih', 'knn', 'uncg', 'fomc', 'bft', 'siga', 'fif', 'dtf', 'hax', 'snt', 'kra', 'gath', 'omm', 'nkf', 'dors', 'merk', 'tiss', 'skel', 'uwc', 'tope', 'sach', 'wpg', 'atid', 'wpdb', 'ewok', 'quar', 'srh', 'ucm', 'iuma', 'hpq', 'sncf', 'hmrc', 'pean', 'namo', 'awrr', 'thal', 'phf', 'ybor', 'grm', 'glan', 'hmda', 'derr', 'evac', 'xrs', 'edy', 'lorn', 'nala', 'lkm', 'pedi', 'ioof', 'blch', 'nft', 'righ', 'xaa', 'inom', 'wsl', 'tef', 'spen', 'kri', 'lnx', 'cpq', 'pids', 'mwp', 'rla', 'ferr', 'vant', 'cug', 'kgaa', 'awf', 'eart', 'xes', 'mexx', 'aapg', 'akku', 'jaf', 'skus', 'nock', 'fiv', 'bhr', 'yano', 'beeb', 'gch', 'smv', 'ible', 'wgtd', 'bek', 'emco', 'emx', 'uche', 'nly', 'ccha', 'abes', 'aiki', 'snel', 'wtg', 'ahu', 'tows', 'uth', 'gup', 'basa', 'dewy', 'woh', 'cnmi', 'rrrr', 'lsid', 'aiim', 'avca', 'humm', 'llll', 'fltk', 'ccaa', 'hbcu', 'daan', 'hete', 'ghci', 'qas', 'tono', 'iisd', 'hcmc', 'rmg', 'sylw', 'unat', 'kaf', 'argu', 'vidz', 'sogn', 'bhx', 'fcn', 'dpb', 'btex', 'beka', 'popa', 'yeni', 'valk', 'oddi', 'jec', 'ysis', 'jiva', 'msdp', 'vaud', 'rist', 'qfe', 'zork', 'krc', 'btf', 'osta', 'zfs', 'orgi', 'gftp', 'weal', 'wddx', 'tnn', 'ebro', 'apri', 'zien', 'ciat', 'dgm', 'iob', 'koan', 'shpe', 'nypl', 'movs', 'veiw', 'hhmi', 'ytv', 'ciac', 'pril', 'vxa', 'eyez', 'bena', 'ydl', 'blag', 'nna', 'flir', 'reda', 'cipe', 'gfci', 'erna', 'uman', 'emsa', 'carc', 'trat', 'rnid', 'csps', 'nich', 'ndad', 'rulz', 'crac', 'elna', 'cgh', 'offa', 'cder', 'crip', 'uhv', 'girs', 'shw', 'ube', 'tkl', 'wizz', 'jeju', 'cinc', 'tvl', 'puce', 'haye', 'tpke', 'keb', 'jhm', 'peon', 'bbdb', 'cgu', 'geof', 'daya', 'elen', 'actg', 'paan', 'atio', 'lhcb', 'laut', 'tke', 'lbe', 'vrt', 'iger', 'apcs', 'pmos', 'hach', 'lotz', 'iel', 'aok', 'coso', 'lnt', 'ayu', 'skr', 'scea', 'stet', 'dwc', 'tods', 'atra', 'tars', 'lbb', 'cdj', 'csap', 'svat', 'cuoi', 'ngb', 'amyl', 'abx', 'fgc', 'nhpr', 'pua', 'bort', 'sree', 'spw', 'tmv', 'emag', 'tift', 'irk', 'hpo', 'guus', 'sull', 'esat', 'wle', 'vdi', 'mtnl', 'kppp', 'elx', 'pili', 'fhe', 'rnw', 'muah', 'svar', 'rlba', 'nish', 'hrl', 'mwm', 'amun', 'chry', 'rro', 'tgl', 'teed', 'oort', 'rmac', 'plv', 'aric', 'kdv', 'hmt', 'apus', 'zod', 'leys', 'taye', 'emph', 'irmo', 'umf', 'xtel', 'trys', 'kans', 'mabe', 'puh', 'ngt', 'eku', 'lnd', 'yobs', 'paro', 'mula', 'ccdp', 'oxf', 'uip', 'aacs', 'yld', 'ffd', 'dibs', 'caus', 'pfl', 'pne', 'onal', 'drbd', 'delt', 'sert', 'mbti', 'genl', 'asid', 'masq', 'bws', 'hhhh', 'pmax', 'nspr', 'lww', 'zat', 'aika', 'lwip', 'emus', 'ccsd', 'imx', 'gern', 'tiro', 'yth', 'wwjd', 'iot', 'jnl', 'gvg', 'rema', 'wva', 'njn', 'opex', 'vrm', 'mbuf', 'jtm', 'dsx', 'kaka', 'cbj', 'hata', 'vmtn', 'rell', 'wcr', 'attu', 'whr', 'parp', 'yurt', 'caws', 'hrrz', 'pdsn', 'opf', 'gome', 'grap', 'btus', 'thuy', 'kolo', 'ntf', 'vrrp', 'rcx', 'fnt', 'inka', 'foh', 'zana', 'rwx', 'rjs', 'berl', 'eae', 'ays', 'asbo', 'dasd', 'jmi', 'nlb', 'nje', 'jip', 'kets', 'antz', 'lade', 'bubu', 'avic', 'tcom', 'lmn', 'arme', 'eixe', 'hprd', 'wend', 'yash', 'coas', 'iew', 'tcas', 'voit', 'jmr', 'sedi', 'wco', 'ejnl', 'ddk', 'ttx', 'utz', 'adan', 'cstr', 'mooi', 'vsam', 'ishi', 'mors', 'jth', 'maak', 'zeon', 'opcw', 'rrm', 'dodi', 'atek', 'ecsc', 'elv', 'elum', 'beny', 'mefi', 'kru', 'henn', 'rgt', 'klic', 'almo', 'torg', 'gaw', 'yks', 'nguy', 'tusa', 'adeq', 'lcn', 'sarc', 'gidp', 'nrma', 'cesr', 'sked', 'rhus', 'immi', 'wrn', 'krav', 'oge', 'anm', 'lul', 'smds', 'awos', 'lwd', 'rits', 'fmm', 'byr', 'uncw', 'clx', 'kddi', 'efsa', 'daps', 'hhi', 'neut', 'scsa', 'meca', 'pato', 'uol', 'vra', 'ncqa', 'burd', 'wiry', 'shwe', 'occu', 'rauf', 'tbox', 'ncix', 'gili', 'ardf', 'sira', 'lory', 'domu', 'bove', 'wusa', 'bml', 'yaa', 'deka', 'njc', 'pdns', 'koma', 'vda', 'gavi', 'bdg', 'acai', 'tura', 'noao', 'ksb', 'afrl', 'pira', 'nwe', 'hirt', 'hvy', 'budo', 'blb', 'evid', 'huth', 'ncq', 'sntp', 'pyar', 'atca', 'byer', 'wcco', 'xpos', 'kss', 'neda', 'snog', 'xoff', 'dkos', 'miga', 'tpin', 'ypg', 'kaun', 'aamc', 'rks', 'fio', 'puyo', 'nhrp', 'hva', 'nsca', 'facc', 'bpw', 'svx', 'dewi', 'ohc', 'acap', 'eaw', 'meur', 'atoz', 'liew', 'brod', 'frcp', 'rieu', 'erh', 'gvwr', 'flas', 'yur', 'hsk', 'osw', 'gade', 'helt', 'tuts', 'odt', 'kba', 'stal', 'exes', 'boj', 'asy', 'ype', 'mtrr', 'wlr', 'dcpi', 'tge', 'isup', 'knaw', 'pdev', 'ixy', 'olio', 'tule', 'usef', 'glia', 'riki', 'ascd', 'cok', 'uscf', 'ibr', 'brf', 'hmms', 'mwah', 'pcap', 'guc', 'akha', 'sewa', 'uff', 'filt', 'vici', 'egt', 'pwp', 'zino', 'sbh', 'gwu', 'putz', 'eob', 'feil', 'ioa', 'peb', 'pcna', 'bpdu', 'kune', 'ldx', 'spol', 'unsu', 'lvc', 'ined', 'niit', 'mweb', 'bfr', 'rmsd', 'lert', 'jcf', 'igda', 'gbl', 'gwa', 'sunn', 'hfcs', 'wotc', 'wedd', 'dray', 'drac', 'gex', 'boks', 'fnd', 'klf', 'puoi', 'loya', 'vtv', 'exb', 'mjb', 'scis', 'nudo', 'rotk', 'jona', 'icas', 'ogsa', 'wiss', 'enu', 'mati', 'tbb', 'esha', 'nejm', 'ebbw', 'denk', 'jls', 'haft', 'bhk', 'posn', 'nbaa', 'ekd', 'isao', 'fxr', 'acns', 'rika', 'spad', 'ncsc', 'hfe', 'gits', 'iut', 'cmrs', 'dsmz', 'icar', 'eyck', 'dpml', 'sitc', 'maoi', 'oraz', 'stty', 'tmnt', 'geis', 'odum', 'wun', 'giac', 'uvw', 'pmap', 'pval', 'caas', 'uhn', 'yoav', 'sres', 'kus', 'amcc', 'pone', 'teq', 'ulb', 'rcia', 'hade', 'thie', 'laas', 'pog', 'schr', 'sya', 'jory', 'jone', 'fann', 'dsv', 'enea', 'hpe', 'nscc', 'zid', 'kavu', 'geox', 'mkp', 'aapt', 'vot', 'udt', 'fow', 'tff', 'iglu', 'tasc', 'bago', 'pema', 'sotu', 'tudy', 'fels', 'uwsp', 'imsa', 'rgds', 'hlmp', 'wccp', 'fogs', 'srq', 'luth', 'rfl', 'scw', 'royo', 'dvbe', 'adec', 'ehh', 'resv', 'iqpc', 'iko', 'cwru', 'xgl', 'sook', 'rhce', 'icv', 'suan', 'ayla', 'erde', 'savy', 'rsb', 'aine', 'asko', 'idas', 'oef', 'jda', 'nahi', 'jol', 'edv', 'ctag', 'plmn', 'fano', 'naha', 'aeds', 'oleo', 'snu', 'rvsm', 'raha', 'kowa', 'hinz', 'qtc', 'oaa', 'ocsp', 'olen', 'ftas']\n",
      "Epoch 1/20\n"
     ]
    },
    {
     "name": "stdout",
     "output_type": "stream",
     "text": [
      " 21/400 [>.............................] - ETA: 1:06 - loss: 25.8315"
     ]
    },
    {
     "ename": "KeyboardInterrupt",
     "evalue": "",
     "output_type": "error",
     "traceback": [
      "\u001b[0;31m---------------------------------------------------------------------------\u001b[0m",
      "\u001b[0;31mKeyboardInterrupt\u001b[0m                         Traceback (most recent call last)",
      "\u001b[0;32m<ipython-input-10-cba6fca9a813>\u001b[0m in \u001b[0;36m<module>\u001b[0;34m\u001b[0m\n\u001b[1;32m      1\u001b[0m \u001b[0mrun_name\u001b[0m \u001b[0;34m=\u001b[0m \u001b[0mdatetime\u001b[0m\u001b[0;34m.\u001b[0m\u001b[0mdatetime\u001b[0m\u001b[0;34m.\u001b[0m\u001b[0mnow\u001b[0m\u001b[0;34m(\u001b[0m\u001b[0;34m)\u001b[0m\u001b[0;34m.\u001b[0m\u001b[0mstrftime\u001b[0m\u001b[0;34m(\u001b[0m\u001b[0;34m'%Y:%m:%d:%H:%M:%S'\u001b[0m\u001b[0;34m)\u001b[0m\u001b[0;34m\u001b[0m\u001b[0m\n\u001b[0;32m----> 2\u001b[0;31m \u001b[0mtrain\u001b[0m\u001b[0;34m(\u001b[0m\u001b[0mrun_name\u001b[0m\u001b[0;34m,\u001b[0m \u001b[0;36m0\u001b[0m\u001b[0;34m,\u001b[0m \u001b[0;36m20\u001b[0m\u001b[0;34m,\u001b[0m \u001b[0;36m128\u001b[0m\u001b[0;34m)\u001b[0m\u001b[0;34m\u001b[0m\u001b[0m\n\u001b[0m\u001b[1;32m      3\u001b[0m \u001b[0;31m# increase to wider images and start at epoch 20. The learned weights are reloaded\u001b[0m\u001b[0;34m\u001b[0m\u001b[0;34m\u001b[0m\u001b[0m\n\u001b[1;32m      4\u001b[0m \u001b[0mtrain\u001b[0m\u001b[0;34m(\u001b[0m\u001b[0mrun_name\u001b[0m\u001b[0;34m,\u001b[0m \u001b[0;36m20\u001b[0m\u001b[0;34m,\u001b[0m \u001b[0;36m25\u001b[0m\u001b[0;34m,\u001b[0m \u001b[0;36m512\u001b[0m\u001b[0;34m)\u001b[0m\u001b[0;34m\u001b[0m\u001b[0m\n",
      "\u001b[0;32m<ipython-input-7-768d9ba60328>\u001b[0m in \u001b[0;36mtrain\u001b[0;34m(run_name, start_epoch, stop_epoch, img_w)\u001b[0m\n\u001b[1;32m     90\u001b[0m                         \u001b[0mvalidation_steps\u001b[0m\u001b[0;34m=\u001b[0m\u001b[0mval_words\u001b[0m \u001b[0;34m//\u001b[0m \u001b[0mminibatch_size\u001b[0m\u001b[0;34m,\u001b[0m\u001b[0;34m\u001b[0m\u001b[0m\n\u001b[1;32m     91\u001b[0m                         \u001b[0mcallbacks\u001b[0m\u001b[0;34m=\u001b[0m\u001b[0;34m[\u001b[0m\u001b[0mviz_cb\u001b[0m\u001b[0;34m,\u001b[0m \u001b[0mimg_gen\u001b[0m\u001b[0;34m]\u001b[0m\u001b[0;34m,\u001b[0m\u001b[0;34m\u001b[0m\u001b[0m\n\u001b[0;32m---> 92\u001b[0;31m                         initial_epoch=start_epoch)\n\u001b[0m",
      "\u001b[0;32m/usr/local/lib/python3.5/dist-packages/keras/legacy/interfaces.py\u001b[0m in \u001b[0;36mwrapper\u001b[0;34m(*args, **kwargs)\u001b[0m\n\u001b[1;32m     89\u001b[0m                 warnings.warn('Update your `' + object_name + '` call to the ' +\n\u001b[1;32m     90\u001b[0m                               'Keras 2 API: ' + signature, stacklevel=2)\n\u001b[0;32m---> 91\u001b[0;31m             \u001b[0;32mreturn\u001b[0m \u001b[0mfunc\u001b[0m\u001b[0;34m(\u001b[0m\u001b[0;34m*\u001b[0m\u001b[0margs\u001b[0m\u001b[0;34m,\u001b[0m \u001b[0;34m**\u001b[0m\u001b[0mkwargs\u001b[0m\u001b[0;34m)\u001b[0m\u001b[0;34m\u001b[0m\u001b[0m\n\u001b[0m\u001b[1;32m     92\u001b[0m         \u001b[0mwrapper\u001b[0m\u001b[0;34m.\u001b[0m\u001b[0m_original_function\u001b[0m \u001b[0;34m=\u001b[0m \u001b[0mfunc\u001b[0m\u001b[0;34m\u001b[0m\u001b[0m\n\u001b[1;32m     93\u001b[0m         \u001b[0;32mreturn\u001b[0m \u001b[0mwrapper\u001b[0m\u001b[0;34m\u001b[0m\u001b[0m\n",
      "\u001b[0;32m/usr/local/lib/python3.5/dist-packages/keras/engine/training.py\u001b[0m in \u001b[0;36mfit_generator\u001b[0;34m(self, generator, steps_per_epoch, epochs, verbose, callbacks, validation_data, validation_steps, class_weight, max_queue_size, workers, use_multiprocessing, shuffle, initial_epoch)\u001b[0m\n\u001b[1;32m   1416\u001b[0m             \u001b[0muse_multiprocessing\u001b[0m\u001b[0;34m=\u001b[0m\u001b[0muse_multiprocessing\u001b[0m\u001b[0;34m,\u001b[0m\u001b[0;34m\u001b[0m\u001b[0m\n\u001b[1;32m   1417\u001b[0m             \u001b[0mshuffle\u001b[0m\u001b[0;34m=\u001b[0m\u001b[0mshuffle\u001b[0m\u001b[0;34m,\u001b[0m\u001b[0;34m\u001b[0m\u001b[0m\n\u001b[0;32m-> 1418\u001b[0;31m             initial_epoch=initial_epoch)\n\u001b[0m\u001b[1;32m   1419\u001b[0m \u001b[0;34m\u001b[0m\u001b[0m\n\u001b[1;32m   1420\u001b[0m     \u001b[0;34m@\u001b[0m\u001b[0minterfaces\u001b[0m\u001b[0;34m.\u001b[0m\u001b[0mlegacy_generator_methods_support\u001b[0m\u001b[0;34m\u001b[0m\u001b[0m\n",
      "\u001b[0;32m/usr/local/lib/python3.5/dist-packages/keras/engine/training_generator.py\u001b[0m in \u001b[0;36mfit_generator\u001b[0;34m(model, generator, steps_per_epoch, epochs, verbose, callbacks, validation_data, validation_steps, class_weight, max_queue_size, workers, use_multiprocessing, shuffle, initial_epoch)\u001b[0m\n\u001b[1;32m    215\u001b[0m                 outs = model.train_on_batch(x, y,\n\u001b[1;32m    216\u001b[0m                                             \u001b[0msample_weight\u001b[0m\u001b[0;34m=\u001b[0m\u001b[0msample_weight\u001b[0m\u001b[0;34m,\u001b[0m\u001b[0;34m\u001b[0m\u001b[0m\n\u001b[0;32m--> 217\u001b[0;31m                                             class_weight=class_weight)\n\u001b[0m\u001b[1;32m    218\u001b[0m \u001b[0;34m\u001b[0m\u001b[0m\n\u001b[1;32m    219\u001b[0m                 \u001b[0mouts\u001b[0m \u001b[0;34m=\u001b[0m \u001b[0mto_list\u001b[0m\u001b[0;34m(\u001b[0m\u001b[0mouts\u001b[0m\u001b[0;34m)\u001b[0m\u001b[0;34m\u001b[0m\u001b[0m\n",
      "\u001b[0;32m/usr/local/lib/python3.5/dist-packages/keras/engine/training.py\u001b[0m in \u001b[0;36mtrain_on_batch\u001b[0;34m(self, x, y, sample_weight, class_weight)\u001b[0m\n\u001b[1;32m   1215\u001b[0m             \u001b[0mins\u001b[0m \u001b[0;34m=\u001b[0m \u001b[0mx\u001b[0m \u001b[0;34m+\u001b[0m \u001b[0my\u001b[0m \u001b[0;34m+\u001b[0m \u001b[0msample_weights\u001b[0m\u001b[0;34m\u001b[0m\u001b[0m\n\u001b[1;32m   1216\u001b[0m         \u001b[0mself\u001b[0m\u001b[0;34m.\u001b[0m\u001b[0m_make_train_function\u001b[0m\u001b[0;34m(\u001b[0m\u001b[0;34m)\u001b[0m\u001b[0;34m\u001b[0m\u001b[0m\n\u001b[0;32m-> 1217\u001b[0;31m         \u001b[0moutputs\u001b[0m \u001b[0;34m=\u001b[0m \u001b[0mself\u001b[0m\u001b[0;34m.\u001b[0m\u001b[0mtrain_function\u001b[0m\u001b[0;34m(\u001b[0m\u001b[0mins\u001b[0m\u001b[0;34m)\u001b[0m\u001b[0;34m\u001b[0m\u001b[0m\n\u001b[0m\u001b[1;32m   1218\u001b[0m         \u001b[0;32mreturn\u001b[0m \u001b[0munpack_singleton\u001b[0m\u001b[0;34m(\u001b[0m\u001b[0moutputs\u001b[0m\u001b[0;34m)\u001b[0m\u001b[0;34m\u001b[0m\u001b[0m\n\u001b[1;32m   1219\u001b[0m \u001b[0;34m\u001b[0m\u001b[0m\n",
      "\u001b[0;32m/usr/local/lib/python3.5/dist-packages/keras/backend/tensorflow_backend.py\u001b[0m in \u001b[0;36m__call__\u001b[0;34m(self, inputs)\u001b[0m\n\u001b[1;32m   2713\u001b[0m                 \u001b[0;32mreturn\u001b[0m \u001b[0mself\u001b[0m\u001b[0;34m.\u001b[0m\u001b[0m_legacy_call\u001b[0m\u001b[0;34m(\u001b[0m\u001b[0minputs\u001b[0m\u001b[0;34m)\u001b[0m\u001b[0;34m\u001b[0m\u001b[0m\n\u001b[1;32m   2714\u001b[0m \u001b[0;34m\u001b[0m\u001b[0m\n\u001b[0;32m-> 2715\u001b[0;31m             \u001b[0;32mreturn\u001b[0m \u001b[0mself\u001b[0m\u001b[0;34m.\u001b[0m\u001b[0m_call\u001b[0m\u001b[0;34m(\u001b[0m\u001b[0minputs\u001b[0m\u001b[0;34m)\u001b[0m\u001b[0;34m\u001b[0m\u001b[0m\n\u001b[0m\u001b[1;32m   2716\u001b[0m         \u001b[0;32melse\u001b[0m\u001b[0;34m:\u001b[0m\u001b[0;34m\u001b[0m\u001b[0m\n\u001b[1;32m   2717\u001b[0m             \u001b[0;32mif\u001b[0m \u001b[0mpy_any\u001b[0m\u001b[0;34m(\u001b[0m\u001b[0mis_tensor\u001b[0m\u001b[0;34m(\u001b[0m\u001b[0mx\u001b[0m\u001b[0;34m)\u001b[0m \u001b[0;32mfor\u001b[0m \u001b[0mx\u001b[0m \u001b[0;32min\u001b[0m \u001b[0minputs\u001b[0m\u001b[0;34m)\u001b[0m\u001b[0;34m:\u001b[0m\u001b[0;34m\u001b[0m\u001b[0m\n",
      "\u001b[0;32m/usr/local/lib/python3.5/dist-packages/keras/backend/tensorflow_backend.py\u001b[0m in \u001b[0;36m_call\u001b[0;34m(self, inputs)\u001b[0m\n\u001b[1;32m   2673\u001b[0m             \u001b[0mfetched\u001b[0m \u001b[0;34m=\u001b[0m \u001b[0mself\u001b[0m\u001b[0;34m.\u001b[0m\u001b[0m_callable_fn\u001b[0m\u001b[0;34m(\u001b[0m\u001b[0;34m*\u001b[0m\u001b[0marray_vals\u001b[0m\u001b[0;34m,\u001b[0m \u001b[0mrun_metadata\u001b[0m\u001b[0;34m=\u001b[0m\u001b[0mself\u001b[0m\u001b[0;34m.\u001b[0m\u001b[0mrun_metadata\u001b[0m\u001b[0;34m)\u001b[0m\u001b[0;34m\u001b[0m\u001b[0m\n\u001b[1;32m   2674\u001b[0m         \u001b[0;32melse\u001b[0m\u001b[0;34m:\u001b[0m\u001b[0;34m\u001b[0m\u001b[0m\n\u001b[0;32m-> 2675\u001b[0;31m             \u001b[0mfetched\u001b[0m \u001b[0;34m=\u001b[0m \u001b[0mself\u001b[0m\u001b[0;34m.\u001b[0m\u001b[0m_callable_fn\u001b[0m\u001b[0;34m(\u001b[0m\u001b[0;34m*\u001b[0m\u001b[0marray_vals\u001b[0m\u001b[0;34m)\u001b[0m\u001b[0;34m\u001b[0m\u001b[0m\n\u001b[0m\u001b[1;32m   2676\u001b[0m         \u001b[0;32mreturn\u001b[0m \u001b[0mfetched\u001b[0m\u001b[0;34m[\u001b[0m\u001b[0;34m:\u001b[0m\u001b[0mlen\u001b[0m\u001b[0;34m(\u001b[0m\u001b[0mself\u001b[0m\u001b[0;34m.\u001b[0m\u001b[0moutputs\u001b[0m\u001b[0;34m)\u001b[0m\u001b[0;34m]\u001b[0m\u001b[0;34m\u001b[0m\u001b[0m\n\u001b[1;32m   2677\u001b[0m \u001b[0;34m\u001b[0m\u001b[0m\n",
      "\u001b[0;32m/usr/local/lib/python3.5/dist-packages/tensorflow/python/client/session.py\u001b[0m in \u001b[0;36m__call__\u001b[0;34m(self, *args, **kwargs)\u001b[0m\n\u001b[1;32m   1437\u001b[0m           ret = tf_session.TF_SessionRunCallable(\n\u001b[1;32m   1438\u001b[0m               \u001b[0mself\u001b[0m\u001b[0;34m.\u001b[0m\u001b[0m_session\u001b[0m\u001b[0;34m.\u001b[0m\u001b[0m_session\u001b[0m\u001b[0;34m,\u001b[0m \u001b[0mself\u001b[0m\u001b[0;34m.\u001b[0m\u001b[0m_handle\u001b[0m\u001b[0;34m,\u001b[0m \u001b[0margs\u001b[0m\u001b[0;34m,\u001b[0m \u001b[0mstatus\u001b[0m\u001b[0;34m,\u001b[0m\u001b[0;34m\u001b[0m\u001b[0m\n\u001b[0;32m-> 1439\u001b[0;31m               run_metadata_ptr)\n\u001b[0m\u001b[1;32m   1440\u001b[0m         \u001b[0;32mif\u001b[0m \u001b[0mrun_metadata\u001b[0m\u001b[0;34m:\u001b[0m\u001b[0;34m\u001b[0m\u001b[0m\n\u001b[1;32m   1441\u001b[0m           \u001b[0mproto_data\u001b[0m \u001b[0;34m=\u001b[0m \u001b[0mtf_session\u001b[0m\u001b[0;34m.\u001b[0m\u001b[0mTF_GetBuffer\u001b[0m\u001b[0;34m(\u001b[0m\u001b[0mrun_metadata_ptr\u001b[0m\u001b[0;34m)\u001b[0m\u001b[0;34m\u001b[0m\u001b[0m\n",
      "\u001b[0;31mKeyboardInterrupt\u001b[0m: "
     ]
    }
   ],
   "source": [
    "run_name = datetime.datetime.now().strftime('%Y:%m:%d:%H:%M:%S')\n",
    "train(run_name, 0, 20, 128)\n",
    "# increase to wider images and start at epoch 20. The learned weights are reloaded\n",
    "train(run_name, 20, 25, 512)"
   ]
  },
  {
   "cell_type": "markdown",
   "metadata": {
    "colab_type": "text",
    "id": "P4jVRC6J3vUy"
   },
   "source": [
    "## Predict\n"
   ]
  },
  {
   "cell_type": "code",
   "execution_count": null,
   "metadata": {},
   "outputs": [],
   "source": [
    "# update this path with the date from your run of this notebook\n",
    "weight_file = './image_ocr/2019:06:04:19:45:12/weights24.h5'"
   ]
  },
  {
   "cell_type": "code",
   "execution_count": null,
   "metadata": {
    "colab": {
     "autoexec": {
      "startup": false,
      "wait_interval": 0
     },
     "base_uri": "https://localhost:8080/",
     "height": 714
    },
    "colab_type": "code",
    "executionInfo": {
     "elapsed": 5918,
     "status": "ok",
     "timestamp": 1526105966476,
     "user": {
      "displayName": "Chengwei Zhang",
      "photoUrl": "//lh5.googleusercontent.com/-FK2ckwmh6mM/AAAAAAAAAAI/AAAAAAAAPLw/SX9b1QAzJ5g/s50-c-k-no/photo.jpg",
      "userId": "114808171854651597062"
     },
     "user_tz": -480
    },
    "id": "on6qCFcV5uPx",
    "outputId": "3dcc507c-3baa-4d00-d38f-eb2e65d840b0"
   },
   "outputs": [],
   "source": [
    "\n",
    "img_w = 128\n",
    "# Input Parameters\n",
    "img_h = 64\n",
    "words_per_epoch = 16000\n",
    "val_split = 0.2\n",
    "val_words = int(words_per_epoch * (val_split))\n",
    "\n",
    "# Network parameters\n",
    "conv_filters = 16\n",
    "kernel_size = (3, 3)\n",
    "pool_size = 2\n",
    "time_dense_size = 32\n",
    "rnn_size = 512\n",
    "minibatch_size = 32\n",
    "\n",
    "if K.image_data_format() == 'channels_first':\n",
    "    input_shape = (1, img_w, img_h)\n",
    "else:\n",
    "    input_shape = (img_w, img_h, 1)\n",
    "\n",
    "fdir = os.path.dirname(get_file('wordlists.tgz',\n",
    "                                origin='http://www.mythic-ai.com/datasets/wordlists.tgz', untar=True))\n",
    "\n",
    "img_gen = TextImageGenerator(monogram_file=os.path.join(fdir, 'wordlist_mono_clean.txt'),\n",
    "                             bigram_file=os.path.join(fdir, 'wordlist_bi_clean.txt'),\n",
    "                             minibatch_size=minibatch_size,\n",
    "                             img_w=img_w,\n",
    "                             img_h=img_h,\n",
    "                             downsample_factor=(pool_size ** 2),\n",
    "                             val_split=words_per_epoch - val_words\n",
    "                             )\n",
    "act = 'relu'\n",
    "input_data = Input(name='the_input', shape=input_shape, dtype='float32')\n",
    "inner = Conv2D(conv_filters, kernel_size, padding='same',\n",
    "               activation=act, kernel_initializer='he_normal',\n",
    "               name='conv1')(input_data)\n",
    "inner = MaxPooling2D(pool_size=(pool_size, pool_size), name='max1')(inner)\n",
    "inner = Conv2D(conv_filters, kernel_size, padding='same',\n",
    "               activation=act, kernel_initializer='he_normal',\n",
    "               name='conv2')(inner)\n",
    "inner = MaxPooling2D(pool_size=(pool_size, pool_size), name='max2')(inner)\n",
    "\n",
    "conv_to_rnn_dims = (img_w // (pool_size ** 2), (img_h // (pool_size ** 2)) * conv_filters)\n",
    "inner = Reshape(target_shape=conv_to_rnn_dims, name='reshape')(inner)\n",
    "\n",
    "# cuts down input size going into RNN:\n",
    "inner = Dense(time_dense_size, activation=act, name='dense1')(inner)\n",
    "\n",
    "# Two layers of bidirectional GRUs\n",
    "# GRU seems to work as well, if not better than LSTM:\n",
    "gru_1 = GRU(rnn_size, return_sequences=True, kernel_initializer='he_normal', name='gru1')(inner)\n",
    "gru_1b = GRU(rnn_size, return_sequences=True, go_backwards=True, kernel_initializer='he_normal', name='gru1_b')(inner)\n",
    "gru1_merged = add([gru_1, gru_1b])\n",
    "gru_2 = GRU(rnn_size, return_sequences=True, kernel_initializer='he_normal', name='gru2')(gru1_merged)\n",
    "gru_2b = GRU(rnn_size, return_sequences=True, go_backwards=True, kernel_initializer='he_normal', name='gru2_b')(gru1_merged)\n",
    "\n",
    "# transforms RNN output to character activations:\n",
    "inner = Dense(img_gen.get_output_size(), kernel_initializer='he_normal',\n",
    "              name='dense2')(concatenate([gru_2, gru_2b]))\n",
    "y_pred = Activation('softmax', name='softmax')(inner)\n",
    "Model(inputs=input_data, outputs=y_pred).summary()\n",
    "\n",
    "labels = Input(name='the_labels', shape=[img_gen.absolute_max_string_len], dtype='float32')\n",
    "input_length = Input(name='input_length', shape=[1], dtype='int64')\n",
    "label_length = Input(name='label_length', shape=[1], dtype='int64')\n",
    "# Keras doesn't currently support loss funcs with extra parameters\n",
    "# so CTC loss is implemented in a lambda layer\n",
    "loss_out = Lambda(ctc_lambda_func, output_shape=(1,), name='ctc')([y_pred, labels, input_length, label_length])\n",
    "\n",
    "# clipnorm seems to speeds up convergence\n",
    "sgd = SGD(lr=0.02, decay=1e-6, momentum=0.9, nesterov=True, clipnorm=5)\n",
    "\n",
    "model = Model(inputs=[input_data, labels, input_length, label_length], outputs=loss_out)\n",
    "\n",
    "# the loss calc occurs elsewhere, so use a dummy lambda func for the loss\n",
    "model.compile(loss={'ctc': lambda y_true, y_pred: y_pred}, optimizer=sgd)\n",
    "model.load_weights(weight_file)\n",
    "# captures output of softmax so we can decode the output during visualization\n",
    "test_func = K.function([input_data], [y_pred])\n"
   ]
  },
  {
   "cell_type": "code",
   "execution_count": null,
   "metadata": {
    "colab": {
     "autoexec": {
      "startup": false,
      "wait_interval": 0
     },
     "base_uri": "https://localhost:8080/",
     "height": 1549
    },
    "colab_type": "code",
    "executionInfo": {
     "elapsed": 2778,
     "status": "ok",
     "timestamp": 1526105969268,
     "user": {
      "displayName": "Chengwei Zhang",
      "photoUrl": "//lh5.googleusercontent.com/-FK2ckwmh6mM/AAAAAAAAAAI/AAAAAAAAPLw/SX9b1QAzJ5g/s50-c-k-no/photo.jpg",
      "userId": "114808171854651597062"
     },
     "user_tz": -480
    },
    "id": "_f_3wfZr36dq",
    "outputId": "c360da6c-190e-4a05-fa1c-46f8018161b9"
   },
   "outputs": [],
   "source": [
    "from keras.utils import plot_model\n",
    "plot_model(model, to_file='model.png', show_shapes=True)\n",
    "from IPython.display import Image\n",
    "Image(filename='model.png')"
   ]
  },
  {
   "cell_type": "code",
   "execution_count": null,
   "metadata": {
    "colab": {
     "autoexec": {
      "startup": false,
      "wait_interval": 0
     }
    },
    "colab_type": "code",
    "id": "YrSqXKIY4WRU"
   },
   "outputs": [],
   "source": [
    "model_p = Model(inputs=input_data, outputs=y_pred)"
   ]
  },
  {
   "cell_type": "code",
   "execution_count": null,
   "metadata": {
    "colab": {
     "autoexec": {
      "startup": false,
      "wait_interval": 0
     }
    },
    "colab_type": "code",
    "id": "SDkiHH8_4aVJ"
   },
   "outputs": [],
   "source": [
    "def decode_predict_ctc(out, top_paths = 1):\n",
    "    results = []\n",
    "    beam_width = 5\n",
    "    if beam_width < top_paths:\n",
    "      beam_width = top_paths\n",
    "    for i in range(top_paths):\n",
    "      lables = K.get_value(K.ctc_decode(out, input_length=np.ones(out.shape[0])*out.shape[1],\n",
    "                           greedy=False, beam_width=beam_width, top_paths=top_paths)[0][i])[0]\n",
    "      text = labels_to_text(lables)\n",
    "      results.append(text)\n",
    "    return results\n",
    "  \n",
    "def predit_a_image(a, top_paths = 1):\n",
    "  c = np.expand_dims(a.T, axis=0)\n",
    "  net_out_value = model_p.predict(c)\n",
    "  top_pred_texts = decode_predict_ctc(net_out_value, top_paths)\n",
    "  return top_pred_texts\n",
    "\n"
   ]
  },
  {
   "cell_type": "code",
   "execution_count": null,
   "metadata": {
    "colab": {
     "autoexec": {
      "startup": false,
      "wait_interval": 0
     },
     "base_uri": "https://localhost:8080/",
     "height": 290
    },
    "colab_type": "code",
    "executionInfo": {
     "elapsed": 1118,
     "status": "ok",
     "timestamp": 1526107425874,
     "user": {
      "displayName": "Chengwei Zhang",
      "photoUrl": "//lh5.googleusercontent.com/-FK2ckwmh6mM/AAAAAAAAAAI/AAAAAAAAPLw/SX9b1QAzJ5g/s50-c-k-no/photo.jpg",
      "userId": "114808171854651597062"
     },
     "user_tz": -480
    },
    "id": "gVH2yF7DAm10",
    "outputId": "8e483e0f-87a3-4302-bb83-4e28497d135b"
   },
   "outputs": [],
   "source": [
    "h = 64\n",
    "w = 128\n",
    "a = paint_text('a game',h = h, w = w)\n",
    "b = a.reshape((h, w))\n",
    "plt.imshow(b, cmap='Greys_r')\n",
    "plt.show()\n",
    "\n",
    "c = np.expand_dims(a.T, axis=0)\n",
    "\n",
    "net_out_value = model_p.predict(c)\n",
    "pred_texts = decode_predict_ctc(net_out_value)\n",
    "pred_texts"
   ]
  },
  {
   "cell_type": "code",
   "execution_count": null,
   "metadata": {
    "colab": {
     "autoexec": {
      "startup": false,
      "wait_interval": 0
     },
     "base_uri": "https://localhost:8080/",
     "height": 34
    },
    "colab_type": "code",
    "executionInfo": {
     "elapsed": 625,
     "status": "ok",
     "timestamp": 1526107438636,
     "user": {
      "displayName": "Chengwei Zhang",
      "photoUrl": "//lh5.googleusercontent.com/-FK2ckwmh6mM/AAAAAAAAAAI/AAAAAAAAPLw/SX9b1QAzJ5g/s50-c-k-no/photo.jpg",
      "userId": "114808171854651597062"
     },
     "user_tz": -480
    },
    "id": "Zzahy6G-HXy4",
    "outputId": "2a92f768-1cd5-4456-8994-073886b1205f"
   },
   "outputs": [],
   "source": [
    "predit_a_image(a, top_paths = 3)"
   ]
  },
  {
   "cell_type": "code",
   "execution_count": null,
   "metadata": {
    "colab": {
     "autoexec": {
      "startup": false,
      "wait_interval": 0
     },
     "base_uri": "https://localhost:8080/",
     "height": 347
    },
    "colab_type": "code",
    "executionInfo": {
     "elapsed": 616,
     "status": "ok",
     "timestamp": 1526105974272,
     "user": {
      "displayName": "Chengwei Zhang",
      "photoUrl": "//lh5.googleusercontent.com/-FK2ckwmh6mM/AAAAAAAAAAI/AAAAAAAAPLw/SX9b1QAzJ5g/s50-c-k-no/photo.jpg",
      "userId": "114808171854651597062"
     },
     "user_tz": -480
    },
    "id": "RPuabD6PAqFR",
    "outputId": "a45dfe84-156d-4290-9cfd-601a24b27684"
   },
   "outputs": [],
   "source": [
    "plt.imshow(net_out_value[0].T, cmap='binary', interpolation='nearest')\n",
    "plt.show()"
   ]
  },
  {
   "cell_type": "code",
   "execution_count": null,
   "metadata": {
    "colab": {
     "autoexec": {
      "startup": false,
      "wait_interval": 0
     },
     "base_uri": "https://localhost:8080/",
     "height": 34
    },
    "colab_type": "code",
    "executionInfo": {
     "elapsed": 645,
     "status": "ok",
     "timestamp": 1526105974956,
     "user": {
      "displayName": "Chengwei Zhang",
      "photoUrl": "//lh5.googleusercontent.com/-FK2ckwmh6mM/AAAAAAAAAAI/AAAAAAAAPLw/SX9b1QAzJ5g/s50-c-k-no/photo.jpg",
      "userId": "114808171854651597062"
     },
     "user_tz": -480
    },
    "id": "9M94ioRQA217",
    "outputId": "3b1d8af0-4768-4954-bba3-fdb81df9e9c4"
   },
   "outputs": [],
   "source": [
    "K.get_value(K.ctc_decode(net_out_value, input_length=np.ones(net_out_value.shape[0])*net_out_value.shape[1],\n",
    "                         greedy=False, beam_width=3, top_paths=3)[0][0])"
   ]
  },
  {
   "cell_type": "code",
   "execution_count": null,
   "metadata": {
    "colab": {
     "autoexec": {
      "startup": false,
      "wait_interval": 0
     },
     "base_uri": "https://localhost:8080/",
     "height": 136
    },
    "colab_type": "code",
    "executionInfo": {
     "elapsed": 622,
     "status": "ok",
     "timestamp": 1526106981099,
     "user": {
      "displayName": "Chengwei Zhang",
      "photoUrl": "//lh5.googleusercontent.com/-FK2ckwmh6mM/AAAAAAAAAAI/AAAAAAAAPLw/SX9b1QAzJ5g/s50-c-k-no/photo.jpg",
      "userId": "114808171854651597062"
     },
     "user_tz": -480
    },
    "id": "VeB1FAyVIpl_",
    "outputId": "bec04e29-83e9-4614-8c31-700a16b7b898"
   },
   "outputs": [],
   "source": [
    "K.ctc_decode(net_out_value, input_length=np.ones(net_out_value.shape[0])*net_out_value.shape[1],\n",
    "                         greedy=False, beam_width=5, top_paths=3)"
   ]
  },
  {
   "cell_type": "code",
   "execution_count": null,
   "metadata": {
    "colab": {
     "autoexec": {
      "startup": false,
      "wait_interval": 0
     },
     "base_uri": "https://localhost:8080/",
     "height": 34
    },
    "colab_type": "code",
    "executionInfo": {
     "elapsed": 1681,
     "status": "ok",
     "timestamp": 1526105901853,
     "user": {
      "displayName": "Chengwei Zhang",
      "photoUrl": "//lh5.googleusercontent.com/-FK2ckwmh6mM/AAAAAAAAAAI/AAAAAAAAPLw/SX9b1QAzJ5g/s50-c-k-no/photo.jpg",
      "userId": "114808171854651597062"
     },
     "user_tz": -480
    },
    "id": "b0NDGYZwKElX",
    "outputId": "e8395f8a-b8c9-46dc-b174-dba3de6fe884"
   },
   "outputs": [],
   "source": [
    "!ls"
   ]
  },
  {
   "cell_type": "code",
   "execution_count": null,
   "metadata": {
    "colab": {
     "autoexec": {
      "startup": false,
      "wait_interval": 0
     },
     "base_uri": "https://localhost:8080/",
     "height": 34
    },
    "colab_type": "code",
    "executionInfo": {
     "elapsed": 1392,
     "status": "ok",
     "timestamp": 1526106995201,
     "user": {
      "displayName": "Chengwei Zhang",
      "photoUrl": "//lh5.googleusercontent.com/-FK2ckwmh6mM/AAAAAAAAAAI/AAAAAAAAPLw/SX9b1QAzJ5g/s50-c-k-no/photo.jpg",
      "userId": "114808171854651597062"
     },
     "user_tz": -480
    },
    "id": "Qe-RceTPK-yJ",
    "outputId": "7081439c-61f3-4e2d-f293-5c68721d6496"
   },
   "outputs": [],
   "source": [
    "K.get_value(K.ctc_decode(net_out_value, input_length=np.ones(net_out_value.shape[0])*net_out_value.shape[1],\n",
    "                         greedy=False, beam_width=3, top_paths=3)[0][0])"
   ]
  },
  {
   "cell_type": "code",
   "execution_count": null,
   "metadata": {
    "colab": {
     "autoexec": {
      "startup": false,
      "wait_interval": 0
     }
    },
    "colab_type": "code",
    "id": "qz7VeMhxC7ID"
   },
   "outputs": [],
   "source": [
    "K.ctc_decode?"
   ]
  },
  {
   "cell_type": "code",
   "execution_count": null,
   "metadata": {
    "colab": {
     "autoexec": {
      "startup": false,
      "wait_interval": 0
     }
    },
    "colab_type": "code",
    "id": "aCAJ0joMDJWO"
   },
   "outputs": [],
   "source": []
  }
 ],
 "metadata": {
  "accelerator": "GPU",
  "colab": {
   "collapsed_sections": [],
   "default_view": {},
   "name": "image_ocr.ipynb",
   "provenance": [],
   "version": "0.3.2",
   "views": {}
  },
  "kernelspec": {
   "display_name": "Python 3",
   "language": "python",
   "name": "python3"
  },
  "language_info": {
   "codemirror_mode": {
    "name": "ipython",
    "version": 3
   },
   "file_extension": ".py",
   "mimetype": "text/x-python",
   "name": "python",
   "nbconvert_exporter": "python",
   "pygments_lexer": "ipython3",
   "version": "3.5.2"
  }
 },
 "nbformat": 4,
 "nbformat_minor": 1
}
